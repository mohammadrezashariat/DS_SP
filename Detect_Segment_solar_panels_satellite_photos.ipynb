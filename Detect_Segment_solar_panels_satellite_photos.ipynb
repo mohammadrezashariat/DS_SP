{
  "nbformat": 4,
  "nbformat_minor": 0,
  "metadata": {
    "colab": {
      "provenance": [],
      "gpuType": "T4",
      "authorship_tag": "ABX9TyNQtNIOINBGE1VBgNTNcSBt",
      "include_colab_link": true
    },
    "kernelspec": {
      "name": "python3",
      "display_name": "Python 3"
    },
    "language_info": {
      "name": "python"
    },
    "accelerator": "GPU",
    "gpuClass": "standard"
  },
  "cells": [
    {
      "cell_type": "markdown",
      "metadata": {
        "id": "view-in-github",
        "colab_type": "text"
      },
      "source": [
        "<a href=\"https://colab.research.google.com/github/mohammadrezashariat/DS_SP/blob/master/Detect_Segment_solar_panels_satellite_photos.ipynb\" target=\"_parent\"><img src=\"https://colab.research.google.com/assets/colab-badge.svg\" alt=\"Open In Colab\"/></a>"
      ]
    },
    {
      "cell_type": "markdown",
      "source": [
        "#**Solar Panel Detection and Segmentation**"
      ],
      "metadata": {
        "id": "Lf8VZWhilgZs"
      }
    },
    {
      "cell_type": "markdown",
      "source": [
        "---"
      ],
      "metadata": {
        "id": "cajzE0pbq-vm"
      }
    },
    {
      "cell_type": "markdown",
      "source": [
        "##**Introduction**\n",
        "In this project, we aim to develop a deep learning model for the detection and segmentation of solar panels in satellite images. The goal is to accurately identify and outline the boundaries of solar panels within the images. This task is crucial for various applications, including solar energy planning, monitoring, and analysis."
      ],
      "metadata": {
        "id": "Pn8w63X4n2y7"
      }
    },
    {
      "cell_type": "markdown",
      "source": [
        "---"
      ],
      "metadata": {
        "id": "6mUkXusoq4fd"
      }
    },
    {
      "cell_type": "markdown",
      "source": [
        "##**Dataset**\n",
        "To train our model, we utilize the following datasets:\n",
        "\n",
        "\n",
        "\n",
        "**1.   Solar Panel Detection Dataset: [Roboflow - Francesco Talarico](https://universe.roboflow.com/francesco-talarico/pannelli-8wkam)**\n",
        "\n",
        "This dataset contains satellite images annotated with bounding boxes around the solar panels. It provides a labeled training set for solar panel detection.\n",
        "\n",
        "**2.   Solar Panel Segmentation Dataset: [Roboflow - SolarPanel](https://universe.roboflow.com/solarpanel-3ku0x/solar_panel-cvecl)**\n",
        "\n",
        "This dataset includes satellite images with pixel-level segmentation masks for solar panels. It provides a labeled training set for solar panel segmentation.\n",
        "\n"
      ],
      "metadata": {
        "id": "mwfAUNofoeMD"
      }
    },
    {
      "cell_type": "markdown",
      "source": [
        "---"
      ],
      "metadata": {
        "id": "nKDzYWNvq2v1"
      }
    },
    {
      "cell_type": "markdown",
      "source": [
        "##**Data Preprocessing**\n"
      ],
      "metadata": {
        "id": "pRAXeMl9pq2X"
      }
    },
    {
      "cell_type": "markdown",
      "source": [
        "### **Detection Dataset**\n",
        "\n",
        "####**1.Auto-Orient:**\n",
        "The images are automatically oriented to the correct position if needed.\n",
        "####**2.Resize:** \n",
        "The images are resized to a fixed size of 416x416 pixels to ensure consistency during training.\n",
        "\n",
        "###**Augmentations**\n",
        "\n",
        "####**1.Outputs per training example:** \n",
        "Each training example generates 3 augmented images.\n",
        "####**2.Rotate:** \n",
        "The images are randomly rotated clockwise and counter-clockwise by 90 degrees.\n",
        "####**3.Brightness:** \n",
        "The brightness of the images is randomly adjusted between -25% and +25% to introduce variations in lighting conditions."
      ],
      "metadata": {
        "id": "hOV8uRUrqKDn"
      }
    },
    {
      "cell_type": "markdown",
      "source": [
        "### **Segmentation Dataset**\n",
        "\n",
        "####**1.Auto-Orient:**\n",
        "The images are automatically oriented to the correct position if needed.\n",
        "####**2.Resize:** \n",
        "The images are resized to a fixed size of 256x256 pixels to ensure consistency during training.\n",
        "\n",
        "\n",
        "###**Augmentations**\n",
        "####**1.Outputs per training example:**\n",
        "Each training example generates 3 augmented images.\n",
        "####**2.Flip:** \n",
        "The images are randomly flipped horizontally and vertically to introduce variations in orientation."
      ],
      "metadata": {
        "id": "KbCN5XW5tKYN"
      }
    },
    {
      "cell_type": "markdown",
      "source": [
        "---"
      ],
      "metadata": {
        "id": "XSBLpsOHvRvL"
      }
    },
    {
      "cell_type": "markdown",
      "source": [
        "##**Model**\n",
        "I used pretrained YOLOv8 model has been trained on a large-scale dataset containing diverse images. This allows the model to learn important features and patterns relevant to solar panel detection and segmentation.\n",
        "Ultralytics YOLOv8 is a cutting-edge, state-of-the-art (SOTA) model that builds upon the success of previous YOLO versions and introduces new features and improvements to further boost performance and flexibility. \n",
        "\n",
        "YOLOv8 is designed to be fast, accurate, and easy to use, making it an excellent choice for a wide range of object detection and tracking, instance segmentation, image classification and pose estimation tasks.\n",
        "\n",
        "##**Transfer Learning**\n",
        "By leveraging transfer learning, we can take advantage of the knowledge learned by the pretrained model and apply it to our specific task. This significantly speeds up the training process and improves the performance of our model."
      ],
      "metadata": {
        "id": "xEkrCSsrvYD4"
      }
    },
    {
      "cell_type": "markdown",
      "source": [
        "---"
      ],
      "metadata": {
        "id": "YWr4qCx30SJ9"
      }
    },
    {
      "cell_type": "markdown",
      "source": [
        "##**Fine-Tuning**\n",
        "To adapt the pretrained model to our solar panel detection and segmentation task, we perform fine-tuning. During fine-tuning, we further train the model using our specific dataset, fine-tuning the weights and biases to make accurate predictions for solar panel detection and segmentation.\n",
        "\n",
        "The use of a pretrained YOLOv8 model with transfer learning and fine-tuning allows us to achieve high accuracy and efficiency in detecting and segmenting solar panels in satellite images.\n",
        "\n",
        "YOLOv8 can be used directly in the Command Line Interface (CLI) with a yolo command:\n",
        "\n",
        "    !yolo task=**TASK** mode=**MODE** model=**MODEL** data=PATH epochs=EPOCHS_NUMBER imgsz= IMAGE_SIZE"
      ],
      "metadata": {
        "id": "32XrlKfzwp9l"
      }
    },
    {
      "cell_type": "markdown",
      "source": [
        "#####TASK:\n",
        "\n",
        "\n",
        "\n",
        "1.   Segmentation\n",
        "2.   Pose\n",
        "3.   Classification\n",
        "\n",
        "\n",
        "\n"
      ],
      "metadata": {
        "id": "nPv0wN1PzD9N"
      }
    },
    {
      "cell_type": "markdown",
      "source": [
        "#####MODE:\n",
        "1. train\n",
        "2. val\n",
        "3. predict"
      ],
      "metadata": {
        "id": "OYLaGJZTzyJm"
      }
    },
    {
      "cell_type": "markdown",
      "source": [
        "####MODEL:\n",
        "\n",
        "\n",
        "| Model                                                                                | size<br><sup>(pixels) | mAP<sup>val<br>50-95 | Speed<br><sup>CPU ONNX<br>(ms) | Speed<br><sup>A100 TensorRT<br>(ms) | params<br><sup>(M) | FLOPs<br><sup>(B) |\n",
        "| ------------------------------------------------------------------------------------ | --------------------- | -------------------- | ------------------------------ | ----------------------------------- | ------------------ | ----------------- |\n",
        "| YOLOv8n| 640                   | 37.3                 | 80.4                           | 0.99                                | 3.2                | 8.7               |\n",
        "| YOLOv8s | 640                   | 44.9                 | 128.4                          | 1.20                                | 11.2               | 28.6              |\n",
        "| YOLOv8m| 640                   | 50.2                 | 234.7                          | 1.83                                | 25.9               | 78.9              |\n",
        "| YOLOv8l | 640                   | 52.9                 | 375.2                          | 2.39                                | 43.7               | 165.2             |\n",
        "| YOLOv8x | 640                   | 53.9                 | 479.1                          | 3.53                                | 68.2               | 257.8             |\n",
        "\n",
        "\n",
        "I used YOLOv8s in this project.\n"
      ],
      "metadata": {
        "id": "p4neMa4500eU"
      }
    },
    {
      "cell_type": "markdown",
      "source": [
        "---"
      ],
      "metadata": {
        "id": "CB2RLb-E2Y7j"
      }
    },
    {
      "cell_type": "markdown",
      "source": [
        "##Results\n",
        "After training and evaluating our YOLOv8 model for solar panel detection and segmentation, we achieved impressive results. Here are some key findings:\n",
        "\n",
        "###Solar Panel Detection Performance\n",
        "\n",
        "**mAP50: 0.899**\n",
        "\n",
        "**Precision: 0.862**\n",
        "\n",
        "**Recall: 0.821**\n",
        " \n",
        "\n",
        "###Solar Panel Segmentation Performance\n",
        "1. Instance :\n",
        "**mAP50: 0.79**\n",
        "\n",
        "**Precision: 0.842**\n",
        "\n",
        "**Recall: 0.732**\n",
        "\n",
        "2. Mask\n",
        "**mAP50: 0.777**\n",
        "\n",
        "**Precision: 0.859**\n",
        "\n",
        "**Recall: 0.711**"
      ],
      "metadata": {
        "id": "9X_KwFiU2acF"
      }
    },
    {
      "cell_type": "markdown",
      "source": [
        "---"
      ],
      "metadata": {
        "id": "CbwwBPW_3DpA"
      }
    },
    {
      "cell_type": "markdown",
      "source": [
        "##Model and Plotting Artifacts\n",
        "All trained models, plotting artifacts, and performance metrics are saved within the project folder. This allows for easy access to the trained models for future use and the ability to reproduce the results."
      ],
      "metadata": {
        "id": "Ks-MlUOi2_8o"
      }
    },
    {
      "cell_type": "markdown",
      "source": [
        "---"
      ],
      "metadata": {
        "id": "wPiGol8Y3MW7"
      }
    },
    {
      "cell_type": "markdown",
      "source": [
        "## Configuration Parameters\n",
        "\n",
        "The following configuration parameters are used in the code:\n",
        "\n",
        "- **EPOCHS**: The number of training epochs.\n",
        "- **IMSIZE**: The desired input image size for the YOLOv8 model.\n",
        "- **CONF**: The confidence threshold, which determines the minimum confidence score required for a detected object or a segmented region to be considered valid.\n",
        "- **ROOT_DIR**: The root directory for the project, where all the files and folders related to the project are stored.\n",
        "- **API_KEY**: The API key used to access the dataset, you must get your own api key from [roboflow.com](https://roboflow.com/)"
      ],
      "metadata": {
        "id": "Gexi07gQ5ALO"
      }
    },
    {
      "cell_type": "code",
      "source": [
        "# Set the number of training epochs\n",
        "#EPOCHS = 20\n",
        "\n",
        "# Image size that Yolov8 want\n",
        "#IMSIZE = 640\n",
        "\n",
        "# Set the confidence threshold\n",
        "#CONF = 0.25\n",
        "\n",
        "# Set the root directory for the project\n",
        "ROOT_DIR = '/content/yolov8'\n",
        "\n",
        "# Set the API key for accessing the dataset\n",
        "API_KEY = \"\""
      ],
      "metadata": {
        "id": "l5TV3ANmiygO"
      },
      "execution_count": 1,
      "outputs": []
    },
    {
      "cell_type": "markdown",
      "source": [
        "## Creating the YOLOv8 Folder\n",
        "\n",
        "The following code snippet checks if the YOLOv8 folder exists in the specified root directory. If the folder does not exist, it creates the folder. If the folder already exists, it displays a message indicating that the folder is already present.\n"
      ],
      "metadata": {
        "id": "yaB9bOXP5yus"
      }
    },
    {
      "cell_type": "code",
      "source": [
        "# Import the os module for working with files and directories\n",
        "import os\n",
        "\n",
        "# Check if the YOLOv8 folder exists\n",
        "if not os.path.exists(ROOT_DIR):\n",
        "    # Create the folder\n",
        "    os.makedirs(ROOT_DIR)\n",
        "    # Print a message confirming the folder creation\n",
        "    print(f'Created folder: {ROOT_DIR}')\n",
        "else:\n",
        "    # Print a message indicating the folder already exists\n",
        "    print(f'Folder already exists: {ROOT_DIR}')"
      ],
      "metadata": {
        "id": "LH3CZ0VO6ZhZ",
        "colab": {
          "base_uri": "https://localhost:8080/"
        },
        "outputId": "cde091dd-ecc9-4541-8726-fa040cdb1536"
      },
      "execution_count": 2,
      "outputs": [
        {
          "output_type": "stream",
          "name": "stdout",
          "text": [
            "Folder already exists: /content/yolov8\n"
          ]
        }
      ]
    },
    {
      "cell_type": "markdown",
      "source": [
        "By using %cd magic command, it changes the current directory to the specified ROOT_DIR. \n",
        "\n",
        "Then, the `!git clone` command is used to clone the repository from the specified URL (https://github.com/ultralytics/ultralytics.git) into the current directory."
      ],
      "metadata": {
        "id": "df1aYYB46QFt"
      }
    },
    {
      "cell_type": "code",
      "source": [
        "%cd {ROOT_DIR}\n",
        "!git clone https://github.com/ultralytics/ultralytics.git"
      ],
      "metadata": {
        "id": "oHRjWb6f7u7X",
        "colab": {
          "base_uri": "https://localhost:8080/"
        },
        "outputId": "dbbe136f-636f-4b3c-a884-02d78239a178"
      },
      "execution_count": 3,
      "outputs": [
        {
          "output_type": "stream",
          "name": "stdout",
          "text": [
            "/content/yolov8\n",
            "fatal: destination path 'ultralytics' already exists and is not an empty directory.\n"
          ]
        }
      ]
    },
    {
      "cell_type": "code",
      "source": [
        "%cd ultralytics"
      ],
      "metadata": {
        "id": "lBeopJn7AWAH",
        "colab": {
          "base_uri": "https://localhost:8080/"
        },
        "outputId": "a86ec32d-1e16-4488-cf8e-5ce4c7b17c42"
      },
      "execution_count": 4,
      "outputs": [
        {
          "output_type": "stream",
          "name": "stdout",
          "text": [
            "/content/yolov8/ultralytics\n"
          ]
        }
      ]
    },
    {
      "cell_type": "markdown",
      "source": [
        "The first command `!pip install -r requirements.txt` installs the required dependencies specified in the requirements.txt file in ultralytics folder.\n",
        "\n",
        "The second command `!pip install ultralytics` installs the Ultralytics package, which provides the implementation of YOLOv8."
      ],
      "metadata": {
        "id": "eEC64w806ofM"
      }
    },
    {
      "cell_type": "code",
      "source": [
        "!pip install -r requirements.txt\n",
        "!pip install ultralytics"
      ],
      "metadata": {
        "id": "yTOb--TMAbY-",
        "colab": {
          "base_uri": "https://localhost:8080/"
        },
        "outputId": "d88185e1-51dd-4b85-cad1-e04740d6ec78"
      },
      "execution_count": 5,
      "outputs": [
        {
          "output_type": "stream",
          "name": "stdout",
          "text": [
            "Looking in indexes: https://pypi.org/simple, https://us-python.pkg.dev/colab-wheels/public/simple/\n",
            "Requirement already satisfied: matplotlib>=3.2.2 in /usr/local/lib/python3.10/dist-packages (from -r requirements.txt (line 5)) (3.7.1)\n",
            "Requirement already satisfied: opencv-python>=4.6.0 in /usr/local/lib/python3.10/dist-packages (from -r requirements.txt (line 6)) (4.7.0.72)\n",
            "Requirement already satisfied: Pillow>=7.1.2 in /usr/local/lib/python3.10/dist-packages (from -r requirements.txt (line 7)) (8.4.0)\n",
            "Requirement already satisfied: PyYAML>=5.3.1 in /usr/local/lib/python3.10/dist-packages (from -r requirements.txt (line 8)) (6.0)\n",
            "Requirement already satisfied: requests>=2.23.0 in /usr/local/lib/python3.10/dist-packages (from -r requirements.txt (line 9)) (2.27.1)\n",
            "Requirement already satisfied: scipy>=1.4.1 in /usr/local/lib/python3.10/dist-packages (from -r requirements.txt (line 10)) (1.10.1)\n",
            "Requirement already satisfied: torch>=1.7.0 in /usr/local/lib/python3.10/dist-packages (from -r requirements.txt (line 11)) (2.0.0+cu118)\n",
            "Requirement already satisfied: torchvision>=0.8.1 in /usr/local/lib/python3.10/dist-packages (from -r requirements.txt (line 12)) (0.15.1+cu118)\n",
            "Requirement already satisfied: tqdm>=4.64.0 in /usr/local/lib/python3.10/dist-packages (from -r requirements.txt (line 13)) (4.65.0)\n",
            "Requirement already satisfied: pandas>=1.1.4 in /usr/local/lib/python3.10/dist-packages (from -r requirements.txt (line 21)) (1.5.3)\n",
            "Requirement already satisfied: seaborn>=0.11.0 in /usr/local/lib/python3.10/dist-packages (from -r requirements.txt (line 22)) (0.12.2)\n",
            "Requirement already satisfied: psutil in /usr/local/lib/python3.10/dist-packages (from -r requirements.txt (line 37)) (5.9.5)\n",
            "Requirement already satisfied: contourpy>=1.0.1 in /usr/local/lib/python3.10/dist-packages (from matplotlib>=3.2.2->-r requirements.txt (line 5)) (1.0.7)\n",
            "Requirement already satisfied: cycler>=0.10 in /usr/local/lib/python3.10/dist-packages (from matplotlib>=3.2.2->-r requirements.txt (line 5)) (0.10.0)\n",
            "Requirement already satisfied: fonttools>=4.22.0 in /usr/local/lib/python3.10/dist-packages (from matplotlib>=3.2.2->-r requirements.txt (line 5)) (4.39.3)\n",
            "Requirement already satisfied: kiwisolver>=1.0.1 in /usr/local/lib/python3.10/dist-packages (from matplotlib>=3.2.2->-r requirements.txt (line 5)) (1.4.4)\n",
            "Requirement already satisfied: numpy>=1.20 in /usr/local/lib/python3.10/dist-packages (from matplotlib>=3.2.2->-r requirements.txt (line 5)) (1.22.4)\n",
            "Requirement already satisfied: packaging>=20.0 in /usr/local/lib/python3.10/dist-packages (from matplotlib>=3.2.2->-r requirements.txt (line 5)) (23.1)\n",
            "Requirement already satisfied: pyparsing>=2.3.1 in /usr/local/lib/python3.10/dist-packages (from matplotlib>=3.2.2->-r requirements.txt (line 5)) (2.4.7)\n",
            "Requirement already satisfied: python-dateutil>=2.7 in /usr/local/lib/python3.10/dist-packages (from matplotlib>=3.2.2->-r requirements.txt (line 5)) (2.8.2)\n",
            "Requirement already satisfied: urllib3<1.27,>=1.21.1 in /usr/local/lib/python3.10/dist-packages (from requests>=2.23.0->-r requirements.txt (line 9)) (1.26.15)\n",
            "Requirement already satisfied: certifi>=2017.4.17 in /usr/local/lib/python3.10/dist-packages (from requests>=2.23.0->-r requirements.txt (line 9)) (2022.12.7)\n",
            "Requirement already satisfied: charset-normalizer~=2.0.0 in /usr/local/lib/python3.10/dist-packages (from requests>=2.23.0->-r requirements.txt (line 9)) (2.0.12)\n",
            "Requirement already satisfied: idna<4,>=2.5 in /usr/local/lib/python3.10/dist-packages (from requests>=2.23.0->-r requirements.txt (line 9)) (2.10)\n",
            "Requirement already satisfied: filelock in /usr/local/lib/python3.10/dist-packages (from torch>=1.7.0->-r requirements.txt (line 11)) (3.12.0)\n",
            "Requirement already satisfied: typing-extensions in /usr/local/lib/python3.10/dist-packages (from torch>=1.7.0->-r requirements.txt (line 11)) (4.5.0)\n",
            "Requirement already satisfied: sympy in /usr/local/lib/python3.10/dist-packages (from torch>=1.7.0->-r requirements.txt (line 11)) (1.11.1)\n",
            "Requirement already satisfied: networkx in /usr/local/lib/python3.10/dist-packages (from torch>=1.7.0->-r requirements.txt (line 11)) (3.1)\n",
            "Requirement already satisfied: jinja2 in /usr/local/lib/python3.10/dist-packages (from torch>=1.7.0->-r requirements.txt (line 11)) (3.1.2)\n",
            "Requirement already satisfied: triton==2.0.0 in /usr/local/lib/python3.10/dist-packages (from torch>=1.7.0->-r requirements.txt (line 11)) (2.0.0)\n",
            "Requirement already satisfied: cmake in /usr/local/lib/python3.10/dist-packages (from triton==2.0.0->torch>=1.7.0->-r requirements.txt (line 11)) (3.25.2)\n",
            "Requirement already satisfied: lit in /usr/local/lib/python3.10/dist-packages (from triton==2.0.0->torch>=1.7.0->-r requirements.txt (line 11)) (16.0.3)\n",
            "Requirement already satisfied: pytz>=2020.1 in /usr/local/lib/python3.10/dist-packages (from pandas>=1.1.4->-r requirements.txt (line 21)) (2022.7.1)\n",
            "Requirement already satisfied: six in /usr/local/lib/python3.10/dist-packages (from cycler>=0.10->matplotlib>=3.2.2->-r requirements.txt (line 5)) (1.16.0)\n",
            "Requirement already satisfied: MarkupSafe>=2.0 in /usr/local/lib/python3.10/dist-packages (from jinja2->torch>=1.7.0->-r requirements.txt (line 11)) (2.1.2)\n",
            "Requirement already satisfied: mpmath>=0.19 in /usr/local/lib/python3.10/dist-packages (from sympy->torch>=1.7.0->-r requirements.txt (line 11)) (1.3.0)\n",
            "Looking in indexes: https://pypi.org/simple, https://us-python.pkg.dev/colab-wheels/public/simple/\n",
            "Requirement already satisfied: ultralytics in /usr/local/lib/python3.10/dist-packages (8.0.105)\n",
            "Requirement already satisfied: matplotlib>=3.2.2 in /usr/local/lib/python3.10/dist-packages (from ultralytics) (3.7.1)\n",
            "Requirement already satisfied: opencv-python>=4.6.0 in /usr/local/lib/python3.10/dist-packages (from ultralytics) (4.7.0.72)\n",
            "Requirement already satisfied: Pillow>=7.1.2 in /usr/local/lib/python3.10/dist-packages (from ultralytics) (8.4.0)\n",
            "Requirement already satisfied: PyYAML>=5.3.1 in /usr/local/lib/python3.10/dist-packages (from ultralytics) (6.0)\n",
            "Requirement already satisfied: requests>=2.23.0 in /usr/local/lib/python3.10/dist-packages (from ultralytics) (2.27.1)\n",
            "Requirement already satisfied: scipy>=1.4.1 in /usr/local/lib/python3.10/dist-packages (from ultralytics) (1.10.1)\n",
            "Requirement already satisfied: torch>=1.7.0 in /usr/local/lib/python3.10/dist-packages (from ultralytics) (2.0.0+cu118)\n",
            "Requirement already satisfied: torchvision>=0.8.1 in /usr/local/lib/python3.10/dist-packages (from ultralytics) (0.15.1+cu118)\n",
            "Requirement already satisfied: tqdm>=4.64.0 in /usr/local/lib/python3.10/dist-packages (from ultralytics) (4.65.0)\n",
            "Requirement already satisfied: pandas>=1.1.4 in /usr/local/lib/python3.10/dist-packages (from ultralytics) (1.5.3)\n",
            "Requirement already satisfied: seaborn>=0.11.0 in /usr/local/lib/python3.10/dist-packages (from ultralytics) (0.12.2)\n",
            "Requirement already satisfied: psutil in /usr/local/lib/python3.10/dist-packages (from ultralytics) (5.9.5)\n",
            "Requirement already satisfied: sentry-sdk in /usr/local/lib/python3.10/dist-packages (from ultralytics) (1.23.1)\n",
            "Requirement already satisfied: contourpy>=1.0.1 in /usr/local/lib/python3.10/dist-packages (from matplotlib>=3.2.2->ultralytics) (1.0.7)\n",
            "Requirement already satisfied: cycler>=0.10 in /usr/local/lib/python3.10/dist-packages (from matplotlib>=3.2.2->ultralytics) (0.10.0)\n",
            "Requirement already satisfied: fonttools>=4.22.0 in /usr/local/lib/python3.10/dist-packages (from matplotlib>=3.2.2->ultralytics) (4.39.3)\n",
            "Requirement already satisfied: kiwisolver>=1.0.1 in /usr/local/lib/python3.10/dist-packages (from matplotlib>=3.2.2->ultralytics) (1.4.4)\n",
            "Requirement already satisfied: numpy>=1.20 in /usr/local/lib/python3.10/dist-packages (from matplotlib>=3.2.2->ultralytics) (1.22.4)\n",
            "Requirement already satisfied: packaging>=20.0 in /usr/local/lib/python3.10/dist-packages (from matplotlib>=3.2.2->ultralytics) (23.1)\n",
            "Requirement already satisfied: pyparsing>=2.3.1 in /usr/local/lib/python3.10/dist-packages (from matplotlib>=3.2.2->ultralytics) (2.4.7)\n",
            "Requirement already satisfied: python-dateutil>=2.7 in /usr/local/lib/python3.10/dist-packages (from matplotlib>=3.2.2->ultralytics) (2.8.2)\n",
            "Requirement already satisfied: pytz>=2020.1 in /usr/local/lib/python3.10/dist-packages (from pandas>=1.1.4->ultralytics) (2022.7.1)\n",
            "Requirement already satisfied: urllib3<1.27,>=1.21.1 in /usr/local/lib/python3.10/dist-packages (from requests>=2.23.0->ultralytics) (1.26.15)\n",
            "Requirement already satisfied: certifi>=2017.4.17 in /usr/local/lib/python3.10/dist-packages (from requests>=2.23.0->ultralytics) (2022.12.7)\n",
            "Requirement already satisfied: charset-normalizer~=2.0.0 in /usr/local/lib/python3.10/dist-packages (from requests>=2.23.0->ultralytics) (2.0.12)\n",
            "Requirement already satisfied: idna<4,>=2.5 in /usr/local/lib/python3.10/dist-packages (from requests>=2.23.0->ultralytics) (2.10)\n",
            "Requirement already satisfied: filelock in /usr/local/lib/python3.10/dist-packages (from torch>=1.7.0->ultralytics) (3.12.0)\n",
            "Requirement already satisfied: typing-extensions in /usr/local/lib/python3.10/dist-packages (from torch>=1.7.0->ultralytics) (4.5.0)\n",
            "Requirement already satisfied: sympy in /usr/local/lib/python3.10/dist-packages (from torch>=1.7.0->ultralytics) (1.11.1)\n",
            "Requirement already satisfied: networkx in /usr/local/lib/python3.10/dist-packages (from torch>=1.7.0->ultralytics) (3.1)\n",
            "Requirement already satisfied: jinja2 in /usr/local/lib/python3.10/dist-packages (from torch>=1.7.0->ultralytics) (3.1.2)\n",
            "Requirement already satisfied: triton==2.0.0 in /usr/local/lib/python3.10/dist-packages (from torch>=1.7.0->ultralytics) (2.0.0)\n",
            "Requirement already satisfied: cmake in /usr/local/lib/python3.10/dist-packages (from triton==2.0.0->torch>=1.7.0->ultralytics) (3.25.2)\n",
            "Requirement already satisfied: lit in /usr/local/lib/python3.10/dist-packages (from triton==2.0.0->torch>=1.7.0->ultralytics) (16.0.3)\n",
            "Requirement already satisfied: six in /usr/local/lib/python3.10/dist-packages (from cycler>=0.10->matplotlib>=3.2.2->ultralytics) (1.16.0)\n",
            "Requirement already satisfied: MarkupSafe>=2.0 in /usr/local/lib/python3.10/dist-packages (from jinja2->torch>=1.7.0->ultralytics) (2.1.2)\n",
            "Requirement already satisfied: mpmath>=0.19 in /usr/local/lib/python3.10/dist-packages (from sympy->torch>=1.7.0->ultralytics) (1.3.0)\n"
          ]
        }
      ]
    },
    {
      "cell_type": "code",
      "source": [
        "%cd {ROOT_DIR}"
      ],
      "metadata": {
        "id": "Ppc3vYAeCCvs",
        "colab": {
          "base_uri": "https://localhost:8080/"
        },
        "outputId": "8feb0342-a125-4194-da0b-76841c9e8973"
      },
      "execution_count": 6,
      "outputs": [
        {
          "output_type": "stream",
          "name": "stdout",
          "text": [
            "/content/yolov8\n"
          ]
        }
      ]
    },
    {
      "cell_type": "markdown",
      "source": [
        "`!pip install roboflow` installs the roboflow package, which provides a Python interface for accessing and working with datasets from the Roboflow platform."
      ],
      "metadata": {
        "id": "eoBo9_mM7MfR"
      }
    },
    {
      "cell_type": "code",
      "source": [
        "!pip install roboflow"
      ],
      "metadata": {
        "id": "RM-bgUr-CL_o",
        "colab": {
          "base_uri": "https://localhost:8080/"
        },
        "outputId": "61f3f786-f751-4c45-f77c-75509e818225"
      },
      "execution_count": 7,
      "outputs": [
        {
          "output_type": "stream",
          "name": "stdout",
          "text": [
            "Looking in indexes: https://pypi.org/simple, https://us-python.pkg.dev/colab-wheels/public/simple/\n",
            "Requirement already satisfied: roboflow in /usr/local/lib/python3.10/dist-packages (1.0.9)\n",
            "Requirement already satisfied: certifi==2022.12.7 in /usr/local/lib/python3.10/dist-packages (from roboflow) (2022.12.7)\n",
            "Requirement already satisfied: chardet==4.0.0 in /usr/local/lib/python3.10/dist-packages (from roboflow) (4.0.0)\n",
            "Requirement already satisfied: cycler==0.10.0 in /usr/local/lib/python3.10/dist-packages (from roboflow) (0.10.0)\n",
            "Requirement already satisfied: idna==2.10 in /usr/local/lib/python3.10/dist-packages (from roboflow) (2.10)\n",
            "Requirement already satisfied: kiwisolver>=1.3.1 in /usr/local/lib/python3.10/dist-packages (from roboflow) (1.4.4)\n",
            "Requirement already satisfied: matplotlib in /usr/local/lib/python3.10/dist-packages (from roboflow) (3.7.1)\n",
            "Requirement already satisfied: numpy>=1.18.5 in /usr/local/lib/python3.10/dist-packages (from roboflow) (1.22.4)\n",
            "Requirement already satisfied: opencv-python>=4.1.2 in /usr/local/lib/python3.10/dist-packages (from roboflow) (4.7.0.72)\n",
            "Requirement already satisfied: Pillow>=7.1.2 in /usr/local/lib/python3.10/dist-packages (from roboflow) (8.4.0)\n",
            "Requirement already satisfied: pyparsing==2.4.7 in /usr/local/lib/python3.10/dist-packages (from roboflow) (2.4.7)\n",
            "Requirement already satisfied: python-dateutil in /usr/local/lib/python3.10/dist-packages (from roboflow) (2.8.2)\n",
            "Requirement already satisfied: python-dotenv in /usr/local/lib/python3.10/dist-packages (from roboflow) (1.0.0)\n",
            "Requirement already satisfied: requests in /usr/local/lib/python3.10/dist-packages (from roboflow) (2.27.1)\n",
            "Requirement already satisfied: six in /usr/local/lib/python3.10/dist-packages (from roboflow) (1.16.0)\n",
            "Requirement already satisfied: urllib3>=1.26.6 in /usr/local/lib/python3.10/dist-packages (from roboflow) (1.26.15)\n",
            "Requirement already satisfied: wget in /usr/local/lib/python3.10/dist-packages (from roboflow) (3.2)\n",
            "Requirement already satisfied: tqdm>=4.41.0 in /usr/local/lib/python3.10/dist-packages (from roboflow) (4.65.0)\n",
            "Requirement already satisfied: PyYAML>=5.3.1 in /usr/local/lib/python3.10/dist-packages (from roboflow) (6.0)\n",
            "Requirement already satisfied: requests-toolbelt in /usr/local/lib/python3.10/dist-packages (from roboflow) (1.0.0)\n",
            "Requirement already satisfied: contourpy>=1.0.1 in /usr/local/lib/python3.10/dist-packages (from matplotlib->roboflow) (1.0.7)\n",
            "Requirement already satisfied: fonttools>=4.22.0 in /usr/local/lib/python3.10/dist-packages (from matplotlib->roboflow) (4.39.3)\n",
            "Requirement already satisfied: packaging>=20.0 in /usr/local/lib/python3.10/dist-packages (from matplotlib->roboflow) (23.1)\n",
            "Requirement already satisfied: charset-normalizer~=2.0.0 in /usr/local/lib/python3.10/dist-packages (from requests->roboflow) (2.0.12)\n"
          ]
        }
      ]
    },
    {
      "cell_type": "markdown",
      "source": [
        "imports the Roboflow class allows to interact with the Roboflow API to access and manage your datasets.\n",
        "\n",
        "The next line `rf = Roboflow(api_key=API_KEY)` creates an instance of the Roboflow class and initializes it with your API key. This allows you to authenticate and access your Roboflow account using the provided API key."
      ],
      "metadata": {
        "id": "QmOoHEGS7fma"
      }
    },
    {
      "cell_type": "code",
      "source": [
        "from roboflow import Roboflow\n",
        "\n",
        "rf = Roboflow(api_key= API_KEY)"
      ],
      "metadata": {
        "id": "Hplikli1OQIj"
      },
      "execution_count": 8,
      "outputs": []
    },
    {
      "cell_type": "markdown",
      "source": [
        "---"
      ],
      "metadata": {
        "id": "wiRDkPeB8KB6"
      }
    },
    {
      "cell_type": "markdown",
      "source": [
        "##**Detection solar panels satellite photos**"
      ],
      "metadata": {
        "id": "KmsNyDJvky4_"
      }
    },
    {
      "cell_type": "markdown",
      "source": [
        "### download dataset"
      ],
      "metadata": {
        "id": "zVy7H-6H8TGB"
      }
    },
    {
      "cell_type": "markdown",
      "source": [
        "The code `project = rf.workspace(\"francesco-talarico\").project(\"pannelli-8wkam\")` sets the project variable to represent a specific project within Roboflow workspace.\n",
        "\n",
        "The next line `Object_Detection_Dataset = project.version(1).download(\"yolov8\")` downloads the dataset associated with a specific version of the project. It retrieves the dataset for version 1 of the project and saves it to the variable `Object_Detection_Dataset`. The dataset is downloaded in the format required for training a YOLOv8 model."
      ],
      "metadata": {
        "id": "hZY497p48jKn"
      }
    },
    {
      "cell_type": "code",
      "source": [
        "project = rf.workspace(\"francesco-talarico\").project(\"pannelli-8wkam\")\n",
        "Object_Detection_Dataset = project.version(1).download(\"yolov8\")"
      ],
      "metadata": {
        "id": "9cUM7yI55qpv",
        "colab": {
          "base_uri": "https://localhost:8080/"
        },
        "outputId": "a392fafa-51f1-477d-b474-aecc15416b9d"
      },
      "execution_count": 9,
      "outputs": [
        {
          "output_type": "stream",
          "name": "stdout",
          "text": [
            "loading Roboflow workspace...\n",
            "loading Roboflow project...\n",
            "Dependency ultralytics<=8.0.20 is required but found version=8.0.105, to fix: `pip install ultralytics<=8.0.20`\n",
            "Downloading Dataset Version Zip in pannelli-1 to yolov8: 100% [29367889 / 29367889] bytes\n"
          ]
        },
        {
          "output_type": "stream",
          "name": "stderr",
          "text": [
            "Extracting Dataset Version Zip to pannelli-1 in yolov8:: 100%|██████████| 2100/2100 [00:00<00:00, 3169.58it/s]\n"
          ]
        }
      ]
    },
    {
      "cell_type": "markdown",
      "source": [
        "`{Object_Detection_Dataset.location}` retrieves the location or path of the downloaded dataset. It accesses the location attribute of the `Object_Detection_Dataset` object and returns the corresponding value."
      ],
      "metadata": {
        "id": "zp3HoowOFlUf"
      }
    },
    {
      "cell_type": "code",
      "source": [
        "{Object_Detection_Dataset.location}"
      ],
      "metadata": {
        "id": "XKuUuv2XD5Wc",
        "colab": {
          "base_uri": "https://localhost:8080/"
        },
        "outputId": "526fbe91-d1d0-4b19-bedb-a088db9b07cc"
      },
      "execution_count": 10,
      "outputs": [
        {
          "output_type": "execute_result",
          "data": {
            "text/plain": [
              "{'/content/yolov8/pannelli-1'}"
            ]
          },
          "metadata": {},
          "execution_count": 10
        }
      ]
    },
    {
      "cell_type": "markdown",
      "source": [
        "---"
      ],
      "metadata": {
        "id": "zTsHRNmuF7U4"
      }
    },
    {
      "cell_type": "markdown",
      "source": [
        "##**Fine-Tuning Object Detection Model**"
      ],
      "metadata": {
        "id": "MZgjb2r1F8hJ"
      }
    },
    {
      "cell_type": "markdown",
      "source": [
        "###**Training**\n"
      ],
      "metadata": {
        "id": "XbxoZTBfIRCK"
      }
    },
    {
      "cell_type": "markdown",
      "source": [
        "The CLI command is used to start the training process for the YOLOv8 object detection model.\n",
        "\n",
        "Here's a breakdown of the command:\n",
        "\n",
        "**!yolo:** This is the command to run the YOLOv8 tool.\n",
        "\n",
        "**`task=detect`:** Specifies the task as object detection.\n",
        "\n",
        "**`mode=train`:** Sets the mode to train the model.\n",
        "\n",
        "**`model=yolov8s.pt`:** Specifies the pre-trained model to use as a starting point for training. In this case, it is using the YOLOv8 small model.\n",
        "\n",
        "**`data={Object_Detection_Dataset.location}/data.yaml`**: Specifies the path to the data configuration file (data.yaml) for the dataset. It uses the location of the downloaded object detection dataset.\n",
        "\n",
        "**`epochs=EPOCHS`:** Sets the number of training epochs to the value of the EPOCHS variable.\n",
        "\n",
        "**`imgsz=IMSIZE`**: Sets the input image size during training to the value of the IMSIZE variable.\n",
        "\n",
        "By running this command, the YOLOv8 model will be trained on the object detection dataset, using the specified configuration and hyperparameters."
      ],
      "metadata": {
        "id": "O2ujVat9GG7a"
      }
    },
    {
      "cell_type": "code",
      "source": [
        "!yolo task=detect mode=train model=yolov8s.pt data={Object_Detection_Dataset.location}/data.yaml epochs=20 imgsz=640"
      ],
      "metadata": {
        "id": "YgDbWUN7FBIK",
        "colab": {
          "base_uri": "https://localhost:8080/"
        },
        "outputId": "1eb408ca-67ac-4955-b4a8-70ae3a618dab"
      },
      "execution_count": 22,
      "outputs": [
        {
          "output_type": "stream",
          "name": "stdout",
          "text": [
            "Ultralytics YOLOv8.0.105 🚀 Python-3.10.11 torch-2.0.0+cu118 CUDA:0 (Tesla T4, 15102MiB)\n",
            "\u001b[34m\u001b[1myolo/engine/trainer: \u001b[0mtask=detect, mode=train, model=yolov8s.pt, data=/content/yolov8/pannelli-1/data.yaml, epochs=20, patience=50, batch=16, imgsz=640, save=True, save_period=-1, cache=False, device=None, workers=8, project=None, name=None, exist_ok=False, pretrained=False, optimizer=SGD, verbose=True, seed=0, deterministic=True, single_cls=False, rect=False, cos_lr=False, close_mosaic=0, resume=False, amp=True, overlap_mask=True, mask_ratio=4, dropout=0.0, val=True, split=val, save_json=False, save_hybrid=False, conf=None, iou=0.7, max_det=300, half=False, dnn=False, plots=True, source=None, show=False, save_txt=False, save_conf=False, save_crop=False, show_labels=True, show_conf=True, vid_stride=1, line_width=None, visualize=False, augment=False, agnostic_nms=False, classes=None, retina_masks=False, boxes=True, format=torchscript, keras=False, optimize=False, int8=False, dynamic=False, simplify=False, opset=None, workspace=4, nms=False, lr0=0.01, lrf=0.01, momentum=0.937, weight_decay=0.0005, warmup_epochs=3.0, warmup_momentum=0.8, warmup_bias_lr=0.1, box=7.5, cls=0.5, dfl=1.5, pose=12.0, kobj=1.0, label_smoothing=0.0, nbs=64, hsv_h=0.015, hsv_s=0.7, hsv_v=0.4, degrees=0.0, translate=0.1, scale=0.5, shear=0.0, perspective=0.0, flipud=0.0, fliplr=0.5, mosaic=1.0, mixup=0.0, copy_paste=0.0, cfg=None, v5loader=False, tracker=botsort.yaml, save_dir=runs/detect/train2\n",
            "Downloading https://ultralytics.com/assets/Arial.ttf to /root/.config/Ultralytics/Arial.ttf...\n",
            "100% 755k/755k [00:00<00:00, 26.8MB/s]\n",
            "Overriding model.yaml nc=80 with nc=1\n",
            "\n",
            "                   from  n    params  module                                       arguments                     \n",
            "  0                  -1  1       928  ultralytics.nn.modules.conv.Conv             [3, 32, 3, 2]                 \n",
            "  1                  -1  1     18560  ultralytics.nn.modules.conv.Conv             [32, 64, 3, 2]                \n",
            "  2                  -1  1     29056  ultralytics.nn.modules.block.C2f             [64, 64, 1, True]             \n",
            "  3                  -1  1     73984  ultralytics.nn.modules.conv.Conv             [64, 128, 3, 2]               \n",
            "  4                  -1  2    197632  ultralytics.nn.modules.block.C2f             [128, 128, 2, True]           \n",
            "  5                  -1  1    295424  ultralytics.nn.modules.conv.Conv             [128, 256, 3, 2]              \n",
            "  6                  -1  2    788480  ultralytics.nn.modules.block.C2f             [256, 256, 2, True]           \n",
            "  7                  -1  1   1180672  ultralytics.nn.modules.conv.Conv             [256, 512, 3, 2]              \n",
            "  8                  -1  1   1838080  ultralytics.nn.modules.block.C2f             [512, 512, 1, True]           \n",
            "  9                  -1  1    656896  ultralytics.nn.modules.block.SPPF            [512, 512, 5]                 \n",
            " 10                  -1  1         0  torch.nn.modules.upsampling.Upsample         [None, 2, 'nearest']          \n",
            " 11             [-1, 6]  1         0  ultralytics.nn.modules.conv.Concat           [1]                           \n",
            " 12                  -1  1    591360  ultralytics.nn.modules.block.C2f             [768, 256, 1]                 \n",
            " 13                  -1  1         0  torch.nn.modules.upsampling.Upsample         [None, 2, 'nearest']          \n",
            " 14             [-1, 4]  1         0  ultralytics.nn.modules.conv.Concat           [1]                           \n",
            " 15                  -1  1    148224  ultralytics.nn.modules.block.C2f             [384, 128, 1]                 \n",
            " 16                  -1  1    147712  ultralytics.nn.modules.conv.Conv             [128, 128, 3, 2]              \n",
            " 17            [-1, 12]  1         0  ultralytics.nn.modules.conv.Concat           [1]                           \n",
            " 18                  -1  1    493056  ultralytics.nn.modules.block.C2f             [384, 256, 1]                 \n",
            " 19                  -1  1    590336  ultralytics.nn.modules.conv.Conv             [256, 256, 3, 2]              \n",
            " 20             [-1, 9]  1         0  ultralytics.nn.modules.conv.Concat           [1]                           \n",
            " 21                  -1  1   1969152  ultralytics.nn.modules.block.C2f             [768, 512, 1]                 \n",
            " 22        [15, 18, 21]  1   2116435  ultralytics.nn.modules.head.Detect           [1, [128, 256, 512]]          \n",
            "Model summary: 225 layers, 11135987 parameters, 11135971 gradients\n",
            "\n",
            "Transferred 349/355 items from pretrained weights\n",
            "\u001b[34m\u001b[1mTensorBoard: \u001b[0mStart with 'tensorboard --logdir runs/detect/train2', view at http://localhost:6006/\n",
            "\u001b[34m\u001b[1mAMP: \u001b[0mrunning Automatic Mixed Precision (AMP) checks with YOLOv8n...\n",
            "Downloading https://github.com/ultralytics/assets/releases/download/v0.0.0/yolov8n.pt to yolov8n.pt...\n",
            "100% 6.23M/6.23M [00:00<00:00, 108MB/s]\n",
            "\u001b[34m\u001b[1mAMP: \u001b[0mchecks passed ✅\n",
            "\u001b[34m\u001b[1moptimizer:\u001b[0m SGD(lr=0.01) with parameter groups 57 weight(decay=0.0), 64 weight(decay=0.0005), 63 bias\n",
            "\u001b[34m\u001b[1mtrain: \u001b[0mScanning /content/yolov8/pannelli-1/train/labels... 909 images, 0 backgrounds, 0 corrupt: 100% 909/909 [00:00<00:00, 2438.31it/s]\n",
            "\u001b[34m\u001b[1mtrain: \u001b[0mNew cache created: /content/yolov8/pannelli-1/train/labels.cache\n",
            "\u001b[34m\u001b[1malbumentations: \u001b[0mBlur(p=0.01, blur_limit=(3, 7)), MedianBlur(p=0.01, blur_limit=(3, 7)), ToGray(p=0.01), CLAHE(p=0.01, clip_limit=(1, 4.0), tile_grid_size=(8, 8))\n",
            "\u001b[34m\u001b[1mval: \u001b[0mScanning /content/yolov8/pannelli-1/valid/labels... 93 images, 1 backgrounds, 0 corrupt: 100% 93/93 [00:00<00:00, 795.67it/s]\n",
            "\u001b[34m\u001b[1mval: \u001b[0mNew cache created: /content/yolov8/pannelli-1/valid/labels.cache\n",
            "Plotting labels to runs/detect/train2/labels.jpg... \n",
            "Image sizes 640 train, 640 val\n",
            "Using 2 dataloader workers\n",
            "Logging results to \u001b[1mruns/detect/train2\u001b[0m\n",
            "Starting training for 20 epochs...\n",
            "\n",
            "      Epoch    GPU_mem   box_loss   cls_loss   dfl_loss  Instances       Size\n",
            "       1/20      3.92G      1.035      2.182      1.471         26        640: 100% 57/57 [00:29<00:00,  1.93it/s]\n",
            "                 Class     Images  Instances      Box(P          R      mAP50  mAP50-95): 100% 3/3 [00:02<00:00,  1.04it/s]\n",
            "                   all         93         95      0.611      0.484      0.518      0.336\n",
            "\n",
            "      Epoch    GPU_mem   box_loss   cls_loss   dfl_loss  Instances       Size\n",
            "       2/20      3.97G     0.7036      1.018      1.248         34        640: 100% 57/57 [00:24<00:00,  2.34it/s]\n",
            "                 Class     Images  Instances      Box(P          R      mAP50  mAP50-95): 100% 3/3 [00:01<00:00,  1.73it/s]\n",
            "                   all         93         95      0.646      0.463      0.587      0.429\n",
            "\n",
            "      Epoch    GPU_mem   box_loss   cls_loss   dfl_loss  Instances       Size\n",
            "       3/20      3.97G     0.6794     0.9615       1.22         26        640: 100% 57/57 [00:24<00:00,  2.36it/s]\n",
            "                 Class     Images  Instances      Box(P          R      mAP50  mAP50-95): 100% 3/3 [00:01<00:00,  1.61it/s]\n",
            "                   all         93         95      0.603      0.684      0.693      0.428\n",
            "\n",
            "      Epoch    GPU_mem   box_loss   cls_loss   dfl_loss  Instances       Size\n",
            "       4/20      3.97G     0.7204     0.9397       1.23         26        640: 100% 57/57 [00:24<00:00,  2.36it/s]\n",
            "                 Class     Images  Instances      Box(P          R      mAP50  mAP50-95): 100% 3/3 [00:01<00:00,  1.66it/s]\n",
            "                   all         93         95      0.611      0.589      0.609      0.362\n",
            "\n",
            "      Epoch    GPU_mem   box_loss   cls_loss   dfl_loss  Instances       Size\n",
            "       5/20      3.97G     0.7565     0.9057       1.26         31        640: 100% 57/57 [00:25<00:00,  2.21it/s]\n",
            "                 Class     Images  Instances      Box(P          R      mAP50  mAP50-95): 100% 3/3 [00:01<00:00,  1.97it/s]\n",
            "                   all         93         95      0.436      0.463      0.353      0.201\n",
            "\n",
            "      Epoch    GPU_mem   box_loss   cls_loss   dfl_loss  Instances       Size\n",
            "       6/20      3.98G     0.7306     0.8731      1.239         31        640: 100% 57/57 [00:24<00:00,  2.37it/s]\n",
            "                 Class     Images  Instances      Box(P          R      mAP50  mAP50-95): 100% 3/3 [00:01<00:00,  1.83it/s]\n",
            "                   all         93         95      0.729      0.421      0.543      0.376\n",
            "\n",
            "      Epoch    GPU_mem   box_loss   cls_loss   dfl_loss  Instances       Size\n",
            "       7/20      3.97G     0.7354     0.8203      1.232         33        640: 100% 57/57 [00:24<00:00,  2.37it/s]\n",
            "                 Class     Images  Instances      Box(P          R      mAP50  mAP50-95): 100% 3/3 [00:01<00:00,  1.59it/s]\n",
            "                   all         93         95       0.81      0.705        0.8      0.606\n",
            "\n",
            "      Epoch    GPU_mem   box_loss   cls_loss   dfl_loss  Instances       Size\n",
            "       8/20      3.97G     0.6759     0.7965      1.205         35        640: 100% 57/57 [00:25<00:00,  2.28it/s]\n",
            "                 Class     Images  Instances      Box(P          R      mAP50  mAP50-95): 100% 3/3 [00:01<00:00,  1.71it/s]\n",
            "                   all         93         95      0.858      0.573      0.723      0.575\n",
            "\n",
            "      Epoch    GPU_mem   box_loss   cls_loss   dfl_loss  Instances       Size\n",
            "       9/20      3.98G     0.6795     0.7833      1.217         27        640: 100% 57/57 [00:24<00:00,  2.31it/s]\n",
            "                 Class     Images  Instances      Box(P          R      mAP50  mAP50-95): 100% 3/3 [00:01<00:00,  1.61it/s]\n",
            "                   all         93         95      0.715      0.611      0.681      0.471\n",
            "\n",
            "      Epoch    GPU_mem   box_loss   cls_loss   dfl_loss  Instances       Size\n",
            "      10/20      3.97G     0.6443     0.7078      1.168         32        640: 100% 57/57 [00:25<00:00,  2.28it/s]\n",
            "                 Class     Images  Instances      Box(P          R      mAP50  mAP50-95): 100% 3/3 [00:01<00:00,  1.63it/s]\n",
            "                   all         93         95      0.751      0.726      0.767      0.585\n",
            "\n",
            "      Epoch    GPU_mem   box_loss   cls_loss   dfl_loss  Instances       Size\n",
            "      11/20      3.97G     0.6161     0.6824      1.154         30        640: 100% 57/57 [00:25<00:00,  2.27it/s]\n",
            "                 Class     Images  Instances      Box(P          R      mAP50  mAP50-95): 100% 3/3 [00:01<00:00,  2.06it/s]\n",
            "                   all         93         95      0.756      0.816      0.829      0.642\n",
            "\n",
            "      Epoch    GPU_mem   box_loss   cls_loss   dfl_loss  Instances       Size\n",
            "      12/20      3.98G     0.5972     0.6585      1.142         28        640: 100% 57/57 [00:24<00:00,  2.32it/s]\n",
            "                 Class     Images  Instances      Box(P          R      mAP50  mAP50-95): 100% 3/3 [00:01<00:00,  1.63it/s]\n",
            "                   all         93         95      0.672       0.71       0.73      0.553\n",
            "\n",
            "      Epoch    GPU_mem   box_loss   cls_loss   dfl_loss  Instances       Size\n",
            "      13/20      3.98G     0.5901     0.6642      1.138         32        640: 100% 57/57 [00:25<00:00,  2.26it/s]\n",
            "                 Class     Images  Instances      Box(P          R      mAP50  mAP50-95): 100% 3/3 [00:01<00:00,  1.95it/s]\n",
            "                   all         93         95      0.836      0.811      0.871      0.678\n",
            "\n",
            "      Epoch    GPU_mem   box_loss   cls_loss   dfl_loss  Instances       Size\n",
            "      14/20      3.97G     0.5746     0.6239      1.124         30        640: 100% 57/57 [00:26<00:00,  2.19it/s]\n",
            "                 Class     Images  Instances      Box(P          R      mAP50  mAP50-95): 100% 3/3 [00:01<00:00,  1.58it/s]\n",
            "                   all         93         95      0.778      0.789      0.831       0.65\n",
            "\n",
            "      Epoch    GPU_mem   box_loss   cls_loss   dfl_loss  Instances       Size\n",
            "      15/20      3.96G      0.547     0.6154      1.128         29        640: 100% 57/57 [00:24<00:00,  2.31it/s]\n",
            "                 Class     Images  Instances      Box(P          R      mAP50  mAP50-95): 100% 3/3 [00:01<00:00,  1.57it/s]\n",
            "                   all         93         95      0.791      0.796      0.846      0.653\n",
            "\n",
            "      Epoch    GPU_mem   box_loss   cls_loss   dfl_loss  Instances       Size\n",
            "      16/20      3.98G     0.5312     0.5607        1.1         38        640: 100% 57/57 [00:24<00:00,  2.30it/s]\n",
            "                 Class     Images  Instances      Box(P          R      mAP50  mAP50-95): 100% 3/3 [00:01<00:00,  1.82it/s]\n",
            "                   all         93         95      0.815      0.821      0.848      0.694\n",
            "\n",
            "      Epoch    GPU_mem   box_loss   cls_loss   dfl_loss  Instances       Size\n",
            "      17/20      3.98G      0.502     0.5433      1.085         35        640: 100% 57/57 [00:24<00:00,  2.28it/s]\n",
            "                 Class     Images  Instances      Box(P          R      mAP50  mAP50-95): 100% 3/3 [00:01<00:00,  1.58it/s]\n",
            "                   all         93         95      0.867        0.8      0.883      0.708\n",
            "\n",
            "      Epoch    GPU_mem   box_loss   cls_loss   dfl_loss  Instances       Size\n",
            "      18/20      3.98G     0.5008     0.5106      1.078         38        640: 100% 57/57 [00:24<00:00,  2.30it/s]\n",
            "                 Class     Images  Instances      Box(P          R      mAP50  mAP50-95): 100% 3/3 [00:01<00:00,  1.69it/s]\n",
            "                   all         93         95      0.811      0.766      0.853      0.685\n",
            "\n",
            "      Epoch    GPU_mem   box_loss   cls_loss   dfl_loss  Instances       Size\n",
            "      19/20      3.97G     0.4708      0.517      1.069         32        640: 100% 57/57 [00:24<00:00,  2.29it/s]\n",
            "                 Class     Images  Instances      Box(P          R      mAP50  mAP50-95): 100% 3/3 [00:01<00:00,  2.06it/s]\n",
            "                   all         93         95      0.855      0.821      0.902      0.736\n",
            "\n",
            "      Epoch    GPU_mem   box_loss   cls_loss   dfl_loss  Instances       Size\n",
            "      20/20      3.98G     0.4602     0.4608      1.059         32        640: 100% 57/57 [00:24<00:00,  2.31it/s]\n",
            "                 Class     Images  Instances      Box(P          R      mAP50  mAP50-95): 100% 3/3 [00:03<00:00,  1.20s/it]\n",
            "                   all         93         95      0.814      0.874      0.889      0.726\n",
            "\n",
            "20 epochs completed in 0.154 hours.\n",
            "Optimizer stripped from runs/detect/train2/weights/last.pt, 22.5MB\n",
            "Optimizer stripped from runs/detect/train2/weights/best.pt, 22.5MB\n",
            "\n",
            "Validating runs/detect/train2/weights/best.pt...\n",
            "Ultralytics YOLOv8.0.105 🚀 Python-3.10.11 torch-2.0.0+cu118 CUDA:0 (Tesla T4, 15102MiB)\n",
            "Model summary (fused): 168 layers, 11125971 parameters, 0 gradients\n",
            "                 Class     Images  Instances      Box(P          R      mAP50  mAP50-95): 100% 3/3 [00:03<00:00,  1.30s/it]\n",
            "                   all         93         95      0.856      0.821      0.902      0.736\n",
            "Speed: 8.6ms preprocess, 4.7ms inference, 0.0ms loss, 3.9ms postprocess per image\n",
            "Results saved to \u001b[1mruns/detect/train2\u001b[0m\n"
          ]
        }
      ]
    },
    {
      "cell_type": "markdown",
      "source": [
        "###**Evaluate**"
      ],
      "metadata": {
        "id": "L-NxFdh9G20t"
      }
    },
    {
      "cell_type": "markdown",
      "source": [
        "This CLI command is used to evaluate the trained YOLOv8 object detection model on the validation set. \n",
        "\n",
        "**`mode=val:`** Sets the mode to perform validation.\n",
        "\n",
        "`**model={ROOT_DIR}/runs/detect/train/weights/best.pt**`: Specifies the path to the trained model weights. It uses the best weights obtained during training, which are typically stored in the runs/detect/train/weights directory."
      ],
      "metadata": {
        "id": "eiVXqyoKHD_g"
      }
    },
    {
      "cell_type": "code",
      "source": [
        "!yolo task=detect mode=val model={ROOT_DIR}/runs/detect/train/weights/best.pt data={Object_Detection_Dataset.location}/data.yaml"
      ],
      "metadata": {
        "id": "A0fGJi-_OoUp",
        "colab": {
          "base_uri": "https://localhost:8080/"
        },
        "outputId": "61056e0a-6722-4a88-bf49-be09be7137e9"
      },
      "execution_count": 23,
      "outputs": [
        {
          "output_type": "stream",
          "name": "stdout",
          "text": [
            "Ultralytics YOLOv8.0.105 🚀 Python-3.10.11 torch-2.0.0+cu118 CUDA:0 (Tesla T4, 15102MiB)\n",
            "Model summary (fused): 168 layers, 11125971 parameters, 0 gradients\n",
            "\u001b[34m\u001b[1mval: \u001b[0mScanning /content/yolov8/pannelli-1/valid/labels.cache... 93 images, 1 backgrounds, 0 corrupt: 100% 93/93 [00:00<?, ?it/s]\n",
            "                 Class     Images  Instances      Box(P          R      mAP50  mAP50-95): 100% 6/6 [00:03<00:00,  1.60it/s]\n",
            "                   all         93         95      0.862      0.821      0.899      0.734\n",
            "Speed: 4.4ms preprocess, 14.1ms inference, 0.0ms loss, 3.2ms postprocess per image\n",
            "Results saved to \u001b[1mruns/detect/val\u001b[0m\n"
          ]
        }
      ]
    },
    {
      "cell_type": "markdown",
      "source": [
        "###**Predictions**\n"
      ],
      "metadata": {
        "id": "77Md6bG4JWqq"
      }
    },
    {
      "cell_type": "markdown",
      "source": [
        "This is used to make predictions using the trained YOLOv8 object detection model on new, unseen images.\n",
        "\n",
        "Here's a breakdown of the command:\n",
        "\n",
        "**`conf=CONF`**: Sets the confidence threshold for object detection. The CONF variable contains the specified confidence value.\n",
        "\n",
        "**`source={Object_Detection_Dataset.location}/test/images`**: Specifies the path to the folder containing the test images. It uses the location of the downloaded object detection dataset and the test/images directory."
      ],
      "metadata": {
        "id": "KPlVVQ3zIspt"
      }
    },
    {
      "cell_type": "code",
      "source": [
        "!yolo task=detect mode=predict model={ROOT_DIR}/runs/detect/train/weights/best.pt conf=0.25 source={Object_Detection_Dataset.location}/test/images"
      ],
      "metadata": {
        "id": "LMQ96wMERTLM",
        "colab": {
          "base_uri": "https://localhost:8080/"
        },
        "outputId": "7c4be832-bf4e-42f5-ffa9-0af0d8664e03"
      },
      "execution_count": 24,
      "outputs": [
        {
          "output_type": "stream",
          "name": "stdout",
          "text": [
            "Ultralytics YOLOv8.0.105 🚀 Python-3.10.11 torch-2.0.0+cu118 CUDA:0 (Tesla T4, 15102MiB)\n",
            "Model summary (fused): 168 layers, 11125971 parameters, 0 gradients\n",
            "\n",
            "image 1/42 /content/yolov8/pannelli-1/test/images/PV01_325127_1204235_bmp.rf.b155142053bf2035e6471dcf4b03c80b.jpg: 640x640 1 0, 17.2ms\n",
            "image 2/42 /content/yolov8/pannelli-1/test/images/PV01_325127_1204237_bmp.rf.38733bb335ceb1fbdb5104567c2bbafd.jpg: 640x640 3 0s, 16.3ms\n",
            "image 3/42 /content/yolov8/pannelli-1/test/images/PV01_325127_1204254_bmp.rf.cbc926c193f08a8c0b59c2cddb19c602.jpg: 640x640 1 0, 16.3ms\n",
            "image 4/42 /content/yolov8/pannelli-1/test/images/PV01_325130_1204227_bmp.rf.84329742271d16aa6081a775e460b1ac.jpg: 640x640 1 0, 16.3ms\n",
            "image 5/42 /content/yolov8/pannelli-1/test/images/PV01_325139_1204237_bmp.rf.24740778ff09574b58ab841c606668f0.jpg: 640x640 (no detections), 16.2ms\n",
            "image 6/42 /content/yolov8/pannelli-1/test/images/PV01_325159_1203815_bmp.rf.43afc6aa7f808b85aa3a044b18dc025e.jpg: 640x640 1 0, 16.3ms\n",
            "image 7/42 /content/yolov8/pannelli-1/test/images/PV01_325173_1203753_bmp.rf.9620ac6b3cb6f15ba8207101c754841d.jpg: 640x640 1 0, 16.2ms\n",
            "image 8/42 /content/yolov8/pannelli-1/test/images/PV01_325190_1204167_bmp.rf.522c107606345d0620796761f84c23f0.jpg: 640x640 1 0, 16.2ms\n",
            "image 9/42 /content/yolov8/pannelli-1/test/images/PV01_325194_1204243_bmp.rf.a290496d2b7f64ad12f56aa912adf157.jpg: 640x640 1 0, 16.2ms\n",
            "image 10/42 /content/yolov8/pannelli-1/test/images/PV01_325195_1204167_bmp.rf.947d628c81f7a036de1fe7b9e366b348.jpg: 640x640 1 0, 12.1ms\n",
            "image 11/42 /content/yolov8/pannelli-1/test/images/PV01_325197_1204159_bmp.rf.b35f75758877fd17bcd889528279278b.jpg: 640x640 1 0, 14.1ms\n",
            "image 12/42 /content/yolov8/pannelli-1/test/images/PV01_325197_1204170_bmp.rf.09b494df953addcb8014f37431fe56ea.jpg: 640x640 (no detections), 12.1ms\n",
            "image 13/42 /content/yolov8/pannelli-1/test/images/PV01_325199_1204156_bmp.rf.e54aa4a60836ea98c90d8552877c355f.jpg: 640x640 1 0, 12.1ms\n",
            "image 14/42 /content/yolov8/pannelli-1/test/images/PV01_325204_1204161_bmp.rf.2f39e3f6658a5b567885dc12f97cf11f.jpg: 640x640 1 0, 12.1ms\n",
            "image 15/42 /content/yolov8/pannelli-1/test/images/PV01_325206_1204159_bmp.rf.690813a4af0bba9b164f01a15fbca30c.jpg: 640x640 (no detections), 12.1ms\n",
            "image 16/42 /content/yolov8/pannelli-1/test/images/PV01_325208_1204153_bmp.rf.43cb1b6c15d4a627d2b8d6ad9b233f92.jpg: 640x640 1 0, 12.1ms\n",
            "image 17/42 /content/yolov8/pannelli-1/test/images/PV01_325208_1204161_bmp.rf.b6ec3ee25a4ac6df528aebc7d404e0a9.jpg: 640x640 1 0, 11.5ms\n",
            "image 18/42 /content/yolov8/pannelli-1/test/images/PV01_325208_1204170_bmp.rf.0fd19581165b2ab28072dea58ca459b3.jpg: 640x640 1 0, 11.4ms\n",
            "image 19/42 /content/yolov8/pannelli-1/test/images/PV01_325208_1204175_bmp.rf.a5ed650307a75d48373eb2d0ac80de13.jpg: 640x640 1 0, 11.5ms\n",
            "image 20/42 /content/yolov8/pannelli-1/test/images/PV01_325213_1204202_bmp.rf.9ef024d6926bb7455c458ba97b90f5e5.jpg: 640x640 1 0, 11.5ms\n",
            "image 21/42 /content/yolov8/pannelli-1/test/images/PV01_325215_1204181_bmp.rf.4bf3dc3ffc2bd5aa62fdc07907f3f91b.jpg: 640x640 1 0, 11.4ms\n",
            "image 22/42 /content/yolov8/pannelli-1/test/images/PV01_325215_1204202_bmp.rf.c081f0d622bf0ad13461c667e67778a4.jpg: 640x640 2 0s, 11.4ms\n",
            "image 23/42 /content/yolov8/pannelli-1/test/images/PV01_325222_1204202_bmp.rf.025a6156ef40af4ff3bcb50ea0c9a7dc.jpg: 640x640 2 0s, 11.5ms\n",
            "image 24/42 /content/yolov8/pannelli-1/test/images/PV01_325331_1205377_bmp.rf.7d4aae5bbddc23572b35bfae302d4654.jpg: 640x640 1 0, 11.3ms\n",
            "image 25/42 /content/yolov8/pannelli-1/test/images/PV01_325333_1205377_bmp.rf.e519730228c7645188e674afb02c46f9.jpg: 640x640 1 0, 10.9ms\n",
            "image 26/42 /content/yolov8/pannelli-1/test/images/PV01_325337_1203789_bmp.rf.884a08633a70a3156dcfca49c765b784.jpg: 640x640 1 0, 10.9ms\n",
            "image 27/42 /content/yolov8/pannelli-1/test/images/PV01_325338_1205375_bmp.rf.b3dd95296386a85523ef10dd90de982a.jpg: 640x640 1 0, 11.1ms\n",
            "image 28/42 /content/yolov8/pannelli-1/test/images/PV01_325356_1205353_bmp.rf.8849c37af74951f708180cfb6b1ccea9.jpg: 640x640 1 0, 10.7ms\n",
            "image 29/42 /content/yolov8/pannelli-1/test/images/PV01_325361_1205367_bmp.rf.3061baa042831a030b84357f1036a9c7.jpg: 640x640 1 0, 10.5ms\n",
            "image 30/42 /content/yolov8/pannelli-1/test/images/PV01_325364_1203805_bmp.rf.68abce0476a1b75c7fdeeb4cb7d648ab.jpg: 640x640 (no detections), 10.5ms\n",
            "image 31/42 /content/yolov8/pannelli-1/test/images/PV01_325399_1203754_bmp.rf.23f120f9d1e6881420450574ebaa8951.jpg: 640x640 1 0, 10.5ms\n",
            "image 32/42 /content/yolov8/pannelli-1/test/images/PV01_325412_1205362_bmp.rf.5749bec413ba9aac8687015f7a3f074b.jpg: 640x640 1 0, 10.7ms\n",
            "image 33/42 /content/yolov8/pannelli-1/test/images/PV01_325414_1205364_bmp.rf.661c97b91a67c3cfd493ce8cbe66ceb8.jpg: 640x640 1 0, 14.4ms\n",
            "image 34/42 /content/yolov8/pannelli-1/test/images/PV01_325415_1203781_bmp.rf.81ddd8cd50c0793cd5ed5762b34c8af6.jpg: 640x640 1 0, 10.7ms\n",
            "image 35/42 /content/yolov8/pannelli-1/test/images/PV01_325416_1205362_bmp.rf.cdae0350420bc661186c64f6c9bc739a.jpg: 640x640 1 0, 13.3ms\n",
            "image 36/42 /content/yolov8/pannelli-1/test/images/PV01_325416_1205367_bmp.rf.95a691e7f2d8bf02270b15d76826bf7d.jpg: 640x640 2 0s, 10.4ms\n",
            "image 37/42 /content/yolov8/pannelli-1/test/images/PV01_325418_1205370_bmp.rf.e0ff779d6fe84aa9d61ad46f30a690be.jpg: 640x640 (no detections), 10.4ms\n",
            "image 38/42 /content/yolov8/pannelli-1/test/images/PV01_325419_1205351_bmp.rf.42fb6cbdbf7d869cea98dbd2e69b4449.jpg: 640x640 1 0, 10.4ms\n",
            "image 39/42 /content/yolov8/pannelli-1/test/images/PV01_325472_1204667_bmp.rf.c3211bbb916fea346fcf2f442527904f.jpg: 640x640 1 0, 10.4ms\n",
            "image 40/42 /content/yolov8/pannelli-1/test/images/PV01_325503_1203822_bmp.rf.9f78fc83414bc986584a35675adfbca7.jpg: 640x640 1 0, 10.6ms\n",
            "image 41/42 /content/yolov8/pannelli-1/test/images/PV01_325565_1203822_bmp.rf.ea636904e0e60d8d078de8ff379f1817.jpg: 640x640 1 0, 10.3ms\n",
            "image 42/42 /content/yolov8/pannelli-1/test/images/PV01_325572_1204545_bmp.rf.393998207bb5c465a7a72ed09bfdedb3.jpg: 640x640 1 0, 10.4ms\n",
            "Speed: 3.2ms preprocess, 12.4ms inference, 1.8ms postprocess per image at shape (1, 3, 640, 640)\n",
            "Results saved to \u001b[1mruns/detect/predict\u001b[0m\n"
          ]
        }
      ]
    },
    {
      "cell_type": "markdown",
      "source": [
        "## **Segmentation**"
      ],
      "metadata": {
        "id": "fntlXsE3hvg3"
      }
    },
    {
      "cell_type": "markdown",
      "source": [
        "### download dataset"
      ],
      "metadata": {
        "id": "oLFmaClyKkVo"
      }
    },
    {
      "cell_type": "code",
      "source": [
        "project = rf.workspace(\"solarpanel-3ku0x\").project(\"solar_panel-cvecl\")\n",
        "Instance_Segmentation_Dataset = project.version(3).download(\"yolov8\")"
      ],
      "metadata": {
        "colab": {
          "base_uri": "https://localhost:8080/"
        },
        "id": "zAp20cYThq0u",
        "outputId": "fa7bcf7b-185f-48a6-ce1b-402879db0813"
      },
      "execution_count": 25,
      "outputs": [
        {
          "output_type": "stream",
          "name": "stdout",
          "text": [
            "loading Roboflow workspace...\n",
            "loading Roboflow project...\n",
            "Dependency ultralytics<=8.0.20 is required but found version=8.0.105, to fix: `pip install ultralytics<=8.0.20`\n",
            "Downloading Dataset Version Zip in Solar_Panel-3 to yolov8: 100% [126581571 / 126581571] bytes\n"
          ]
        },
        {
          "output_type": "stream",
          "name": "stderr",
          "text": [
            "Extracting Dataset Version Zip to Solar_Panel-3 in yolov8:: 100%|██████████| 15670/15670 [00:03<00:00, 4066.69it/s]\n"
          ]
        }
      ]
    },
    {
      "cell_type": "code",
      "source": [
        "{Instance_Segmentation_Dataset}"
      ],
      "metadata": {
        "colab": {
          "base_uri": "https://localhost:8080/"
        },
        "id": "ZCWXUxmIhzF1",
        "outputId": "f805eafc-33b4-463f-8372-16dd6d0bdcfb"
      },
      "execution_count": 26,
      "outputs": [
        {
          "output_type": "execute_result",
          "data": {
            "text/plain": [
              "{<roboflow.core.dataset.Dataset at 0x7ff8ac0dc970>}"
            ]
          },
          "metadata": {},
          "execution_count": 26
        }
      ]
    },
    {
      "cell_type": "markdown",
      "source": [
        "---"
      ],
      "metadata": {
        "id": "9FEecQ7jKTux"
      }
    },
    {
      "cell_type": "markdown",
      "source": [
        "\n",
        "This code is used to train the YOLOv8 model for solar panel segmentation.\n",
        "\n",
        "**`task=segment`**: Specifies the task as instance segmentation.\n",
        "\n",
        "**`model='yolov8n-seg.pt'`**: Specifies the model architecture to be used for training (in this case, 'yolov8n-seg.pt')."
      ],
      "metadata": {
        "id": "87cUzjZ2Jt3L"
      }
    },
    {
      "cell_type": "markdown",
      "source": [
        "##**Fine-Tuning Instance Segmentation Model**"
      ],
      "metadata": {
        "id": "Duh_7WxvKrU_"
      }
    },
    {
      "cell_type": "markdown",
      "source": [
        "###**Training**"
      ],
      "metadata": {
        "id": "pWR_Lt-cLB7H"
      }
    },
    {
      "cell_type": "code",
      "source": [
        "!yolo task=segment mode=train model='yolov8n-seg.pt' data={Instance_Segmentation_Dataset.location}/data.yaml epochs=20 imgsz=640"
      ],
      "metadata": {
        "colab": {
          "base_uri": "https://localhost:8080/"
        },
        "id": "qyKe7vHzh6Dc",
        "outputId": "44ef196a-f16e-4e63-b16a-6751bcff0f83"
      },
      "execution_count": 27,
      "outputs": [
        {
          "output_type": "stream",
          "name": "stdout",
          "text": [
            "Ultralytics YOLOv8.0.105 🚀 Python-3.10.11 torch-2.0.0+cu118 CUDA:0 (Tesla T4, 15102MiB)\n",
            "\u001b[34m\u001b[1myolo/engine/trainer: \u001b[0mtask=segment, mode=train, model=yolov8n-seg.pt, data=/content/yolov8/Solar_Panel-3/data.yaml, epochs=20, patience=50, batch=16, imgsz=640, save=True, save_period=-1, cache=False, device=None, workers=8, project=None, name=None, exist_ok=False, pretrained=False, optimizer=SGD, verbose=True, seed=0, deterministic=True, single_cls=False, rect=False, cos_lr=False, close_mosaic=0, resume=False, amp=True, overlap_mask=True, mask_ratio=4, dropout=0.0, val=True, split=val, save_json=False, save_hybrid=False, conf=None, iou=0.7, max_det=300, half=False, dnn=False, plots=True, source=None, show=False, save_txt=False, save_conf=False, save_crop=False, show_labels=True, show_conf=True, vid_stride=1, line_width=None, visualize=False, augment=False, agnostic_nms=False, classes=None, retina_masks=False, boxes=True, format=torchscript, keras=False, optimize=False, int8=False, dynamic=False, simplify=False, opset=None, workspace=4, nms=False, lr0=0.01, lrf=0.01, momentum=0.937, weight_decay=0.0005, warmup_epochs=3.0, warmup_momentum=0.8, warmup_bias_lr=0.1, box=7.5, cls=0.5, dfl=1.5, pose=12.0, kobj=1.0, label_smoothing=0.0, nbs=64, hsv_h=0.015, hsv_s=0.7, hsv_v=0.4, degrees=0.0, translate=0.1, scale=0.5, shear=0.0, perspective=0.0, flipud=0.0, fliplr=0.5, mosaic=1.0, mixup=0.0, copy_paste=0.0, cfg=None, v5loader=False, tracker=botsort.yaml, save_dir=runs/segment/train2\n",
            "Overriding model.yaml nc=80 with nc=1\n",
            "\n",
            "                   from  n    params  module                                       arguments                     \n",
            "  0                  -1  1       464  ultralytics.nn.modules.conv.Conv             [3, 16, 3, 2]                 \n",
            "  1                  -1  1      4672  ultralytics.nn.modules.conv.Conv             [16, 32, 3, 2]                \n",
            "  2                  -1  1      7360  ultralytics.nn.modules.block.C2f             [32, 32, 1, True]             \n",
            "  3                  -1  1     18560  ultralytics.nn.modules.conv.Conv             [32, 64, 3, 2]                \n",
            "  4                  -1  2     49664  ultralytics.nn.modules.block.C2f             [64, 64, 2, True]             \n",
            "  5                  -1  1     73984  ultralytics.nn.modules.conv.Conv             [64, 128, 3, 2]               \n",
            "  6                  -1  2    197632  ultralytics.nn.modules.block.C2f             [128, 128, 2, True]           \n",
            "  7                  -1  1    295424  ultralytics.nn.modules.conv.Conv             [128, 256, 3, 2]              \n",
            "  8                  -1  1    460288  ultralytics.nn.modules.block.C2f             [256, 256, 1, True]           \n",
            "  9                  -1  1    164608  ultralytics.nn.modules.block.SPPF            [256, 256, 5]                 \n",
            " 10                  -1  1         0  torch.nn.modules.upsampling.Upsample         [None, 2, 'nearest']          \n",
            " 11             [-1, 6]  1         0  ultralytics.nn.modules.conv.Concat           [1]                           \n",
            " 12                  -1  1    148224  ultralytics.nn.modules.block.C2f             [384, 128, 1]                 \n",
            " 13                  -1  1         0  torch.nn.modules.upsampling.Upsample         [None, 2, 'nearest']          \n",
            " 14             [-1, 4]  1         0  ultralytics.nn.modules.conv.Concat           [1]                           \n",
            " 15                  -1  1     37248  ultralytics.nn.modules.block.C2f             [192, 64, 1]                  \n",
            " 16                  -1  1     36992  ultralytics.nn.modules.conv.Conv             [64, 64, 3, 2]                \n",
            " 17            [-1, 12]  1         0  ultralytics.nn.modules.conv.Concat           [1]                           \n",
            " 18                  -1  1    123648  ultralytics.nn.modules.block.C2f             [192, 128, 1]                 \n",
            " 19                  -1  1    147712  ultralytics.nn.modules.conv.Conv             [128, 128, 3, 2]              \n",
            " 20             [-1, 9]  1         0  ultralytics.nn.modules.conv.Concat           [1]                           \n",
            " 21                  -1  1    493056  ultralytics.nn.modules.block.C2f             [384, 256, 1]                 \n",
            " 22        [15, 18, 21]  1   1004275  ultralytics.nn.modules.head.Segment          [1, 32, 64, [64, 128, 256]]   \n",
            "YOLOv8n-seg summary: 261 layers, 3263811 parameters, 3263795 gradients\n",
            "\n",
            "Transferred 381/417 items from pretrained weights\n",
            "\u001b[34m\u001b[1mTensorBoard: \u001b[0mStart with 'tensorboard --logdir runs/segment/train2', view at http://localhost:6006/\n",
            "\u001b[34m\u001b[1mAMP: \u001b[0mrunning Automatic Mixed Precision (AMP) checks with YOLOv8n...\n",
            "\u001b[34m\u001b[1mAMP: \u001b[0mchecks passed ✅\n",
            "\u001b[34m\u001b[1moptimizer:\u001b[0m SGD(lr=0.01) with parameter groups 66 weight(decay=0.0), 77 weight(decay=0.0005), 76 bias\n",
            "\u001b[34m\u001b[1mtrain: \u001b[0mScanning /content/yolov8/Solar_Panel-3/train/labels... 5845 images, 198 backgrounds, 0 corrupt: 100% 5845/5845 [00:03<00:00, 1900.24it/s]\n",
            "\u001b[34m\u001b[1mtrain: \u001b[0mNew cache created: /content/yolov8/Solar_Panel-3/train/labels.cache\n",
            "\u001b[34m\u001b[1malbumentations: \u001b[0mBlur(p=0.01, blur_limit=(3, 7)), MedianBlur(p=0.01, blur_limit=(3, 7)), ToGray(p=0.01), CLAHE(p=0.01, clip_limit=(1, 4.0), tile_grid_size=(8, 8))\n",
            "\u001b[34m\u001b[1mval: \u001b[0mScanning /content/yolov8/Solar_Panel-3/valid/labels... 1374 images, 57 backgrounds, 0 corrupt: 100% 1374/1374 [00:02<00:00, 529.81it/s]\n",
            "\u001b[34m\u001b[1mval: \u001b[0mNew cache created: /content/yolov8/Solar_Panel-3/valid/labels.cache\n",
            "Plotting labels to runs/segment/train2/labels.jpg... \n",
            "Image sizes 640 train, 640 val\n",
            "Using 2 dataloader workers\n",
            "Logging results to \u001b[1mruns/segment/train2\u001b[0m\n",
            "Starting training for 20 epochs...\n",
            "\n",
            "      Epoch    GPU_mem   box_loss   seg_loss   cls_loss   dfl_loss  Instances       Size\n",
            "       1/20      3.65G      1.054      1.552      1.822      1.149         18        640: 100% 366/366 [03:16<00:00,  1.86it/s]\n",
            "                 Class     Images  Instances      Box(P          R      mAP50  mAP50-95)     Mask(P          R      mAP50  mAP50-95): 100% 43/43 [00:27<00:00,  1.59it/s]\n",
            "                   all       1374       6247      0.584      0.509      0.533      0.375      0.591      0.497      0.522      0.342\n",
            "\n",
            "      Epoch    GPU_mem   box_loss   seg_loss   cls_loss   dfl_loss  Instances       Size\n",
            "       2/20      3.36G     0.9628      1.226      1.174      1.083         25        640: 100% 366/366 [03:13<00:00,  1.90it/s]\n",
            "                 Class     Images  Instances      Box(P          R      mAP50  mAP50-95)     Mask(P          R      mAP50  mAP50-95): 100% 43/43 [00:26<00:00,  1.63it/s]\n",
            "                   all       1374       6247      0.683      0.616      0.641       0.46      0.679      0.604      0.624      0.381\n",
            "\n",
            "      Epoch    GPU_mem   box_loss   seg_loss   cls_loss   dfl_loss  Instances       Size\n",
            "       3/20      3.33G     0.9951      1.255      1.151      1.108         53        640: 100% 366/366 [03:11<00:00,  1.91it/s]\n",
            "                 Class     Images  Instances      Box(P          R      mAP50  mAP50-95)     Mask(P          R      mAP50  mAP50-95): 100% 43/43 [00:25<00:00,  1.68it/s]\n",
            "                   all       1374       6247      0.593      0.537      0.538      0.342      0.586      0.518      0.513      0.299\n",
            "\n",
            "      Epoch    GPU_mem   box_loss   seg_loss   cls_loss   dfl_loss  Instances       Size\n",
            "       4/20      3.36G      1.022      1.287      1.127       1.12         25        640: 100% 366/366 [03:09<00:00,  1.93it/s]\n",
            "                 Class     Images  Instances      Box(P          R      mAP50  mAP50-95)     Mask(P          R      mAP50  mAP50-95): 100% 43/43 [00:27<00:00,  1.58it/s]\n",
            "                   all       1374       6247      0.617      0.601       0.58      0.388      0.615      0.593       0.57      0.338\n",
            "\n",
            "      Epoch    GPU_mem   box_loss   seg_loss   cls_loss   dfl_loss  Instances       Size\n",
            "       5/20      3.22G      1.012      1.229       1.07      1.116         18        640: 100% 366/366 [03:16<00:00,  1.87it/s]\n",
            "                 Class     Images  Instances      Box(P          R      mAP50  mAP50-95)     Mask(P          R      mAP50  mAP50-95): 100% 43/43 [00:26<00:00,  1.63it/s]\n",
            "                   all       1374       6247       0.68      0.485      0.546      0.386      0.677      0.483      0.535      0.358\n",
            "\n",
            "      Epoch    GPU_mem   box_loss   seg_loss   cls_loss   dfl_loss  Instances       Size\n",
            "       6/20      3.52G     0.9765      1.209     0.9988      1.098         33        640: 100% 366/366 [03:21<00:00,  1.82it/s]\n",
            "                 Class     Images  Instances      Box(P          R      mAP50  mAP50-95)     Mask(P          R      mAP50  mAP50-95): 100% 43/43 [00:27<00:00,  1.59it/s]\n",
            "                   all       1374       6247      0.787       0.67      0.711       0.52      0.792      0.663      0.701      0.464\n",
            "\n",
            "      Epoch    GPU_mem   box_loss   seg_loss   cls_loss   dfl_loss  Instances       Size\n",
            "       7/20      3.33G     0.9312      1.145      0.922      1.085         28        640: 100% 366/366 [03:15<00:00,  1.87it/s]\n",
            "                 Class     Images  Instances      Box(P          R      mAP50  mAP50-95)     Mask(P          R      mAP50  mAP50-95): 100% 43/43 [00:25<00:00,  1.68it/s]\n",
            "                   all       1374       6247      0.743      0.619      0.681      0.488      0.742      0.614      0.669      0.454\n",
            "\n",
            "      Epoch    GPU_mem   box_loss   seg_loss   cls_loss   dfl_loss  Instances       Size\n",
            "       8/20      3.53G     0.9158      1.159     0.8936      1.073         19        640: 100% 366/366 [03:10<00:00,  1.92it/s]\n",
            "                 Class     Images  Instances      Box(P          R      mAP50  mAP50-95)     Mask(P          R      mAP50  mAP50-95): 100% 43/43 [00:25<00:00,  1.66it/s]\n",
            "                   all       1374       6247      0.768      0.667      0.709      0.526      0.767      0.652      0.692      0.465\n",
            "\n",
            "      Epoch    GPU_mem   box_loss   seg_loss   cls_loss   dfl_loss  Instances       Size\n",
            "       9/20      3.29G     0.8888      1.137     0.8577      1.059         37        640: 100% 366/366 [03:09<00:00,  1.93it/s]\n",
            "                 Class     Images  Instances      Box(P          R      mAP50  mAP50-95)     Mask(P          R      mAP50  mAP50-95): 100% 43/43 [00:24<00:00,  1.74it/s]\n",
            "                   all       1374       6247      0.806      0.659       0.72       0.54       0.82      0.641      0.712      0.502\n",
            "\n",
            "      Epoch    GPU_mem   box_loss   seg_loss   cls_loss   dfl_loss  Instances       Size\n",
            "      10/20      3.67G     0.8945      1.115     0.8455      1.058         24        640: 100% 366/366 [03:06<00:00,  1.96it/s]\n",
            "                 Class     Images  Instances      Box(P          R      mAP50  mAP50-95)     Mask(P          R      mAP50  mAP50-95): 100% 43/43 [00:24<00:00,  1.76it/s]\n",
            "                   all       1374       6247      0.824      0.684      0.737      0.555      0.824      0.673       0.72       0.49\n",
            "\n",
            "      Epoch    GPU_mem   box_loss   seg_loss   cls_loss   dfl_loss  Instances       Size\n",
            "      11/20       3.4G     0.8841      1.115     0.8189      1.049         35        640: 100% 366/366 [03:04<00:00,  1.99it/s]\n",
            "                 Class     Images  Instances      Box(P          R      mAP50  mAP50-95)     Mask(P          R      mAP50  mAP50-95): 100% 43/43 [00:24<00:00,  1.77it/s]\n",
            "                   all       1374       6247      0.744      0.675        0.7      0.519      0.741      0.664      0.686      0.471\n",
            "\n",
            "      Epoch    GPU_mem   box_loss   seg_loss   cls_loss   dfl_loss  Instances       Size\n",
            "      12/20      3.45G     0.8603      1.086     0.7916      1.043         34        640: 100% 366/366 [03:04<00:00,  1.99it/s]\n",
            "                 Class     Images  Instances      Box(P          R      mAP50  mAP50-95)     Mask(P          R      mAP50  mAP50-95): 100% 43/43 [00:24<00:00,  1.78it/s]\n",
            "                   all       1374       6247      0.754      0.663      0.704      0.516      0.757      0.651       0.69      0.467\n",
            "\n",
            "      Epoch    GPU_mem   box_loss   seg_loss   cls_loss   dfl_loss  Instances       Size\n",
            "      13/20       3.5G     0.8488      1.061     0.7696      1.033         39        640: 100% 366/366 [03:04<00:00,  1.99it/s]\n",
            "                 Class     Images  Instances      Box(P          R      mAP50  mAP50-95)     Mask(P          R      mAP50  mAP50-95): 100% 43/43 [00:25<00:00,  1.71it/s]\n",
            "                   all       1374       6247      0.804      0.719      0.752       0.57      0.803      0.713      0.739      0.522\n",
            "\n",
            "      Epoch    GPU_mem   box_loss   seg_loss   cls_loss   dfl_loss  Instances       Size\n",
            "      14/20      3.45G     0.8316      1.045      0.736      1.026         22        640: 100% 366/366 [03:03<00:00,  2.00it/s]\n",
            "                 Class     Images  Instances      Box(P          R      mAP50  mAP50-95)     Mask(P          R      mAP50  mAP50-95): 100% 43/43 [00:24<00:00,  1.73it/s]\n",
            "                   all       1374       6247      0.798      0.685      0.742      0.553      0.797      0.682      0.733      0.503\n",
            "\n",
            "      Epoch    GPU_mem   box_loss   seg_loss   cls_loss   dfl_loss  Instances       Size\n",
            "      15/20      3.46G     0.8102      1.015     0.7072      1.014         15        640: 100% 366/366 [03:03<00:00,  2.00it/s]\n",
            "                 Class     Images  Instances      Box(P          R      mAP50  mAP50-95)     Mask(P          R      mAP50  mAP50-95): 100% 43/43 [00:24<00:00,  1.76it/s]\n",
            "                   all       1374       6247      0.774      0.674      0.727      0.553      0.776      0.667      0.716      0.492\n",
            "\n",
            "      Epoch    GPU_mem   box_loss   seg_loss   cls_loss   dfl_loss  Instances       Size\n",
            "      16/20      3.56G     0.8048     0.9938     0.6841      1.013         25        640: 100% 366/366 [03:03<00:00,  2.00it/s]\n",
            "                 Class     Images  Instances      Box(P          R      mAP50  mAP50-95)     Mask(P          R      mAP50  mAP50-95): 100% 43/43 [00:24<00:00,  1.73it/s]\n",
            "                   all       1374       6247      0.817      0.705      0.754      0.575      0.824      0.691       0.74      0.514\n",
            "\n",
            "      Epoch    GPU_mem   box_loss   seg_loss   cls_loss   dfl_loss  Instances       Size\n",
            "      17/20      3.35G     0.7899      1.002     0.6714      1.002         41        640: 100% 366/366 [03:05<00:00,  1.97it/s]\n",
            "                 Class     Images  Instances      Box(P          R      mAP50  mAP50-95)     Mask(P          R      mAP50  mAP50-95): 100% 43/43 [00:24<00:00,  1.74it/s]\n",
            "                   all       1374       6247      0.759      0.717      0.744      0.566      0.763      0.705       0.73      0.504\n",
            "\n",
            "      Epoch    GPU_mem   box_loss   seg_loss   cls_loss   dfl_loss  Instances       Size\n",
            "      18/20      3.58G     0.7815     0.9858     0.6566     0.9993         22        640: 100% 366/366 [03:04<00:00,  1.99it/s]\n",
            "                 Class     Images  Instances      Box(P          R      mAP50  mAP50-95)     Mask(P          R      mAP50  mAP50-95): 100% 43/43 [00:24<00:00,  1.77it/s]\n",
            "                   all       1374       6247      0.843      0.732       0.79      0.606      0.858      0.713      0.777      0.543\n",
            "\n",
            "      Epoch    GPU_mem   box_loss   seg_loss   cls_loss   dfl_loss  Instances       Size\n",
            "      19/20      3.33G     0.7727     0.9659     0.6435     0.9997         20        640: 100% 366/366 [03:06<00:00,  1.97it/s]\n",
            "                 Class     Images  Instances      Box(P          R      mAP50  mAP50-95)     Mask(P          R      mAP50  mAP50-95): 100% 43/43 [00:24<00:00,  1.76it/s]\n",
            "                   all       1374       6247      0.801      0.715      0.768      0.597      0.806      0.707      0.759      0.536\n",
            "\n",
            "      Epoch    GPU_mem   box_loss   seg_loss   cls_loss   dfl_loss  Instances       Size\n",
            "      20/20      3.65G     0.7641     0.9668     0.6259     0.9944         11        640: 100% 366/366 [03:05<00:00,  1.97it/s]\n",
            "                 Class     Images  Instances      Box(P          R      mAP50  mAP50-95)     Mask(P          R      mAP50  mAP50-95): 100% 43/43 [00:33<00:00,  1.27it/s]\n",
            "                   all       1374       6247       0.81      0.715      0.774      0.589      0.804      0.706      0.758      0.528\n",
            "\n",
            "20 epochs completed in 1.197 hours.\n",
            "Optimizer stripped from runs/segment/train2/weights/last.pt, 6.8MB\n",
            "Optimizer stripped from runs/segment/train2/weights/best.pt, 6.8MB\n",
            "\n",
            "Validating runs/segment/train2/weights/best.pt...\n",
            "Ultralytics YOLOv8.0.105 🚀 Python-3.10.11 torch-2.0.0+cu118 CUDA:0 (Tesla T4, 15102MiB)\n",
            "YOLOv8n-seg summary (fused): 195 layers, 3258259 parameters, 0 gradients\n",
            "                 Class     Images  Instances      Box(P          R      mAP50  mAP50-95)     Mask(P          R      mAP50  mAP50-95): 100% 43/43 [00:31<00:00,  1.34it/s]\n",
            "                   all       1374       6247      0.842      0.732       0.79      0.606      0.858      0.713      0.777      0.543\n",
            "Speed: 0.5ms preprocess, 3.0ms inference, 0.0ms loss, 1.9ms postprocess per image\n",
            "Results saved to \u001b[1mruns/segment/train2\u001b[0m\n"
          ]
        }
      ]
    },
    {
      "cell_type": "markdown",
      "source": [
        "###**Evaluate**"
      ],
      "metadata": {
        "id": "4oRj2RpZLHi-"
      }
    },
    {
      "cell_type": "code",
      "source": [
        "!yolo task=segment mode=val model={ROOT_DIR}/runs/segment/train/weights/best.pt data={Instance_Segmentation_Dataset.location}/data.yaml"
      ],
      "metadata": {
        "colab": {
          "base_uri": "https://localhost:8080/"
        },
        "id": "GV2ZqDizh-w2",
        "outputId": "f452d2f4-f700-426e-ac72-c1e5ec23f2ec"
      },
      "execution_count": 28,
      "outputs": [
        {
          "output_type": "stream",
          "name": "stdout",
          "text": [
            "Ultralytics YOLOv8.0.105 🚀 Python-3.10.11 torch-2.0.0+cu118 CUDA:0 (Tesla T4, 15102MiB)\n",
            "YOLOv8n-seg summary (fused): 195 layers, 3258259 parameters, 0 gradients\n",
            "\u001b[34m\u001b[1mval: \u001b[0mScanning /content/yolov8/Solar_Panel-3/valid/labels.cache... 1374 images, 57 backgrounds, 0 corrupt: 100% 1374/1374 [00:00<?, ?it/s]\n",
            "                 Class     Images  Instances      Box(P          R      mAP50  mAP50-95)     Mask(P          R      mAP50  mAP50-95): 100% 86/86 [00:30<00:00,  2.80it/s]\n",
            "                   all       1374       6247      0.842      0.732       0.79      0.606      0.859      0.711      0.777       0.54\n",
            "Speed: 0.6ms preprocess, 5.0ms inference, 0.0ms loss, 1.8ms postprocess per image\n",
            "Results saved to \u001b[1mruns/segment/val\u001b[0m\n"
          ]
        }
      ]
    },
    {
      "cell_type": "markdown",
      "source": [
        "###**Predictions**"
      ],
      "metadata": {
        "id": "aSXlFThtLMHL"
      }
    },
    {
      "cell_type": "code",
      "source": [
        "!yolo task=segment mode=predict model={ROOT_DIR}/runs/segment/train/weights/best.pt conf=0.25 source={Instance_Segmentation_Dataset.location}/test/images"
      ],
      "metadata": {
        "colab": {
          "base_uri": "https://localhost:8080/"
        },
        "id": "Mna5NcMxiDaG",
        "outputId": "68f1ce20-060f-4cd7-8c56-44e1420b3d82"
      },
      "execution_count": 29,
      "outputs": [
        {
          "output_type": "stream",
          "name": "stdout",
          "text": [
            "Ultralytics YOLOv8.0.105 🚀 Python-3.10.11 torch-2.0.0+cu118 CUDA:0 (Tesla T4, 15102MiB)\n",
            "YOLOv8n-seg summary (fused): 195 layers, 3258259 parameters, 0 gradients\n",
            "\n",
            "image 1/610 /content/yolov8/Solar_Panel-3/test/images/1048-S-River-Meadows-Dr_Fayetteville_AR-72701_United-States_t58519_jpg.rf.84f52621bbcd3967b663c6f7106d8340.jpg: 640x640 2 Solar_Panels, 24.9ms\n",
            "image 2/610 /content/yolov8/Solar_Panel-3/test/images/1209-S-Gentle-Valley-Dr_Fayetteville_AR-72704_United-States_t2656_jpg.rf.c3cb2c5b59325fc130b503e4de7bed5e.jpg: 640x640 4 Solar_Panels, 9.8ms\n",
            "image 3/610 /content/yolov8/Solar_Panel-3/test/images/2183-E-Wolf-Creek-Dr_Huntingdon_AR-72703_United-States_t43697_jpg.rf.74e7441210c7ea649045de559831e152.jpg: 640x640 4 Solar_Panels, 9.5ms\n",
            "image 4/610 /content/yolov8/Solar_Panel-3/test/images/3090-Birch-Pl_Springdale_AR-72762_United-States_t72090_jpg.rf.a3a31da00c69c255dbcadff3ddd9d827.jpg: 640x640 1 Solar_Panel, 9.7ms\n",
            "image 5/610 /content/yolov8/Solar_Panel-3/test/images/409-Lion-Dr-N_Walnut-Creek_AR-72736_United-States_t2715_jpg.rf.71e20bed347ca9c7eb094ba60be2c70e.jpg: 640x640 3 Solar_Panels, 9.8ms\n",
            "image 6/610 /content/yolov8/Solar_Panel-3/test/images/Arkansas_County_task8947_jpg.rf.2ce5c05651fd9a1e69aee25e62220cda.jpg: 640x640 1 Solar_Panel, 9.3ms\n",
            "image 7/610 /content/yolov8/Solar_Panel-3/test/images/Ashley_County_task11222_jpg.rf.fa3fa50b686d353b7f086925e0a9c0ab.jpg: 640x640 1 Solar_Panel, 9.3ms\n",
            "image 8/610 /content/yolov8/Solar_Panel-3/test/images/Ashley_County_task9163_jpg.rf.42076931cf929fa17f69877e0ed64599.jpg: 640x640 2 Solar_Panels, 9.3ms\n",
            "image 9/610 /content/yolov8/Solar_Panel-3/test/images/Baxter_County_task26114_jpg.rf.9abf3516beeabf66b15f9cc937fe11b3.jpg: 640x640 2 Solar_Panels, 10.0ms\n",
            "image 10/610 /content/yolov8/Solar_Panel-3/test/images/Baxter_County_task9070_jpg.rf.b7fa103d35a93ac1600525ffb3437274.jpg: 640x640 1 Solar_Panel, 13.4ms\n",
            "image 11/610 /content/yolov8/Solar_Panel-3/test/images/Benton_County_task10324_jpg.rf.4486efb68702ea88eafe3a2d36465b1b.jpg: 640x640 1 Solar_Panel, 11.4ms\n",
            "image 12/610 /content/yolov8/Solar_Panel-3/test/images/Benton_County_task12345_jpg.rf.2ab6cfac4bfd105b63e7a5ab55212643.jpg: 640x640 2 Solar_Panels, 9.7ms\n",
            "image 13/610 /content/yolov8/Solar_Panel-3/test/images/Benton_County_task12946_jpg.rf.b9e8dd5986c02b4ca557795a5c00429a.jpg: 640x640 2 Solar_Panels, 9.0ms\n",
            "image 14/610 /content/yolov8/Solar_Panel-3/test/images/Benton_County_task12999_jpg.rf.ccfaa9153bcabcceeabc01dd4aae74a3.jpg: 640x640 1 Solar_Panel, 9.4ms\n",
            "image 15/610 /content/yolov8/Solar_Panel-3/test/images/Benton_County_task14373_jpg.rf.400523861fd9aa8e9c790220707b228d.jpg: 640x640 1 Solar_Panel, 9.2ms\n",
            "image 16/610 /content/yolov8/Solar_Panel-3/test/images/Benton_County_task15921_jpg.rf.dbcd104bf9a2783962b72b8f6fe4361e.jpg: 640x640 4 Solar_Panels, 9.2ms\n",
            "image 17/610 /content/yolov8/Solar_Panel-3/test/images/Benton_County_task16530_jpg.rf.a0dece56a24e37cdaa7870e8ce367a40.jpg: 640x640 2 Solar_Panels, 9.1ms\n",
            "image 18/610 /content/yolov8/Solar_Panel-3/test/images/Benton_County_task1701_jpg.rf.a106225d70974e1bce74240fc1fcd960.jpg: 640x640 2 Solar_Panels, 9.1ms\n",
            "image 19/610 /content/yolov8/Solar_Panel-3/test/images/Benton_County_task19375_jpg.rf.b40efd9b85ded6644ba6f885cbbc6f88.jpg: 640x640 3 Solar_Panels, 12.0ms\n",
            "image 20/610 /content/yolov8/Solar_Panel-3/test/images/Benton_County_task1986_jpg.rf.3be114e32e0f7f4378ec46f123872c90.jpg: 640x640 4 Solar_Panels, 9.1ms\n",
            "image 21/610 /content/yolov8/Solar_Panel-3/test/images/Benton_County_task2375_jpg.rf.bcadd42a73582f03d6aeb72dad1aaf63.jpg: 640x640 7 Solar_Panels, 10.4ms\n",
            "image 22/610 /content/yolov8/Solar_Panel-3/test/images/Benton_County_task4541_jpg.rf.39e8be25b73d5cfc7360e6e8520a99d0.jpg: 640x640 1 Solar_Panel, 12.5ms\n",
            "image 23/610 /content/yolov8/Solar_Panel-3/test/images/Benton_County_task5069_jpg.rf.dd8bf3332212d46029688d1cd6e66a99.jpg: 640x640 1 Solar_Panel, 12.2ms\n",
            "image 24/610 /content/yolov8/Solar_Panel-3/test/images/Benton_County_task5512_jpg.rf.e57c38b30a6de17d54520719dc59b630.jpg: 640x640 2 Solar_Panels, 11.1ms\n",
            "image 25/610 /content/yolov8/Solar_Panel-3/test/images/Benton_County_task5552_jpg.rf.a6529859af9ff4d29339e0f580f388a2.jpg: 640x640 2 Solar_Panels, 9.0ms\n",
            "image 26/610 /content/yolov8/Solar_Panel-3/test/images/Benton_County_task5728_jpg.rf.a44e19eb154c9edc758b672795d21e57.jpg: 640x640 2 Solar_Panels, 9.2ms\n",
            "image 27/610 /content/yolov8/Solar_Panel-3/test/images/Benton_County_task6314_jpg.rf.f41189d47419a6b5e07c2815c9e7e985.jpg: 640x640 1 Solar_Panel, 9.1ms\n",
            "image 28/610 /content/yolov8/Solar_Panel-3/test/images/Benton_County_task6942_jpg.rf.afce3c6a0f63dd23a8db20df45845a00.jpg: 640x640 1 Solar_Panel, 11.2ms\n",
            "image 29/610 /content/yolov8/Solar_Panel-3/test/images/Benton_County_task7185_jpg.rf.75426137dec6402800c655d68992d5f7.jpg: 640x640 3 Solar_Panels, 9.2ms\n",
            "image 30/610 /content/yolov8/Solar_Panel-3/test/images/Benton_County_task9195_jpg.rf.0c827b49b9379030c5b2911663d20aa7.jpg: 640x640 1 Solar_Panel, 8.8ms\n",
            "image 31/610 /content/yolov8/Solar_Panel-3/test/images/Benton_County_task9378_jpg.rf.f646ea14bc3015d6923c9a3a96d008b8.jpg: 640x640 3 Solar_Panels, 11.4ms\n",
            "image 32/610 /content/yolov8/Solar_Panel-3/test/images/Boone_County_task14857_jpg.rf.228dd33d481d2feb6104ca85c2157a08.jpg: 640x640 1 Solar_Panel, 9.2ms\n",
            "image 33/610 /content/yolov8/Solar_Panel-3/test/images/Boone_County_task16228_jpg.rf.19ceac0b83e946b67df5e20890278038.jpg: 640x640 1 Solar_Panel, 9.0ms\n",
            "image 34/610 /content/yolov8/Solar_Panel-3/test/images/Boone_County_task22147_jpg.rf.2f9a2e86bc49aaf5192385a6f94157f0.jpg: 640x640 2 Solar_Panels, 9.7ms\n",
            "image 35/610 /content/yolov8/Solar_Panel-3/test/images/Boone_County_task22166_jpg.rf.d2ed292d0c265dfb75c1fc20d2978a33.jpg: 640x640 1 Solar_Panel, 9.4ms\n",
            "image 36/610 /content/yolov8/Solar_Panel-3/test/images/Boone_County_task5570_jpg.rf.591b8d1600702b822d29c3dbf454ee54.jpg: 640x640 1 Solar_Panel, 11.9ms\n",
            "image 37/610 /content/yolov8/Solar_Panel-3/test/images/Boone_County_task8484_jpg.rf.cd3eb1ce0efefee107df9af825bd9257.jpg: 640x640 2 Solar_Panels, 10.1ms\n",
            "image 38/610 /content/yolov8/Solar_Panel-3/test/images/Bradley_County_task380_jpg.rf.00c220ff06a4efb93a33e50cc3febfd3.jpg: 640x640 3 Solar_Panels, 11.7ms\n",
            "image 39/610 /content/yolov8/Solar_Panel-3/test/images/Calhoun_County_task1990_jpg.rf.1b6767d152d58a2aa9cd0999e1ee6549.jpg: 640x640 1 Solar_Panel, 13.2ms\n",
            "image 40/610 /content/yolov8/Solar_Panel-3/test/images/Carroll_County_task16045_jpg.rf.22b993f94e41c5597f325246109b5b0c.jpg: 640x640 1 Solar_Panel, 11.8ms\n",
            "image 41/610 /content/yolov8/Solar_Panel-3/test/images/Carroll_County_task16486_jpg.rf.0aa5f7b93736cd0f6580904361a0aaf8.jpg: 640x640 3 Solar_Panels, 11.9ms\n",
            "image 42/610 /content/yolov8/Solar_Panel-3/test/images/Carroll_County_task2486_jpg.rf.952957d396aaa3ed2c77681fe346dd04.jpg: 640x640 1 Solar_Panel, 11.7ms\n",
            "image 43/610 /content/yolov8/Solar_Panel-3/test/images/Carroll_County_task3736_jpg.rf.f41b70176ca4892bd3dd19665a9e7757.jpg: 640x640 1 Solar_Panel, 11.6ms\n",
            "image 44/610 /content/yolov8/Solar_Panel-3/test/images/Carroll_County_task4422_jpg.rf.01d8e4b30cc8695b33825b22e211abb5.jpg: 640x640 1 Solar_Panel, 13.6ms\n",
            "image 45/610 /content/yolov8/Solar_Panel-3/test/images/Carroll_County_task5775_jpg.rf.e31349de8190ea8867b2bfb90c075451.jpg: 640x640 2 Solar_Panels, 11.9ms\n",
            "image 46/610 /content/yolov8/Solar_Panel-3/test/images/Carroll_County_task5887_jpg.rf.44bdd304beb09a37ed1c28350df33ae1.jpg: 640x640 3 Solar_Panels, 11.7ms\n",
            "image 47/610 /content/yolov8/Solar_Panel-3/test/images/Carroll_County_task8035_jpg.rf.c037c7f71a1ad4e39077a0d5d3ffa323.jpg: 640x640 (no detections), 12.0ms\n",
            "image 48/610 /content/yolov8/Solar_Panel-3/test/images/Carroll_County_task8939_jpg.rf.23056a71c22ccbef6b137b3be3dd5fa5.jpg: 640x640 1 Solar_Panel, 12.2ms\n",
            "image 49/610 /content/yolov8/Solar_Panel-3/test/images/Carroll_County_task9286_jpg.rf.c50547d3f956b8708dc428e33be58d6e.jpg: 640x640 7 Solar_Panels, 11.9ms\n",
            "image 50/610 /content/yolov8/Solar_Panel-3/test/images/Carroll_County_task9351_jpg.rf.ab2fb26d7bb56a7c6c1d6916a6e0ab12.jpg: 640x640 1 Solar_Panel, 12.4ms\n",
            "image 51/610 /content/yolov8/Solar_Panel-3/test/images/Cleburne_County_task14705_jpg.rf.dc40c07ce038d282f7fc65105c1a7074.jpg: 640x640 2 Solar_Panels, 11.8ms\n",
            "image 52/610 /content/yolov8/Solar_Panel-3/test/images/Cleveland_County_task616_jpg.rf.8b7db8251e5bcda8ea3adedb97726a77.jpg: 640x640 2 Solar_Panels, 9.2ms\n",
            "image 53/610 /content/yolov8/Solar_Panel-3/test/images/Columbia_County_task2440_jpg.rf.ea85fd514a5e1023cfb04c697734dd0e.jpg: 640x640 2 Solar_Panels, 10.9ms\n",
            "image 54/610 /content/yolov8/Solar_Panel-3/test/images/Conway_County_task13213_jpg.rf.f6caf295f3eb4c252eb3f5c21f5f2723.jpg: 640x640 2 Solar_Panels, 12.2ms\n",
            "image 55/610 /content/yolov8/Solar_Panel-3/test/images/Conway_County_task3312_jpg.rf.13fc5ff6efe1ccff2f850e59a60f43b1.jpg: 640x640 3 Solar_Panels, 8.7ms\n",
            "image 56/610 /content/yolov8/Solar_Panel-3/test/images/Craighead_County_task16463_jpg.rf.9aefed96009b9f36625f74dc42a385b0.jpg: 640x640 3 Solar_Panels, 8.6ms\n",
            "image 57/610 /content/yolov8/Solar_Panel-3/test/images/Craighead_County_task9840_jpg.rf.53ecded7fceaf061d56b55b1da4ae4cf.jpg: 640x640 1 Solar_Panel, 8.6ms\n",
            "image 58/610 /content/yolov8/Solar_Panel-3/test/images/Crawford_County_task10496_jpg.rf.d1abab11201c2ba344428a4cce860ffe.jpg: 640x640 1 Solar_Panel, 8.6ms\n",
            "image 59/610 /content/yolov8/Solar_Panel-3/test/images/Crawford_County_task12139_jpg.rf.65de2f65f0ccb480700fdcefff6e4f69.jpg: 640x640 2 Solar_Panels, 11.2ms\n",
            "image 60/610 /content/yolov8/Solar_Panel-3/test/images/Crawford_County_task12774_jpg.rf.e4655eb697bd9317862f05b5545c63b8.jpg: 640x640 2 Solar_Panels, 8.6ms\n",
            "image 61/610 /content/yolov8/Solar_Panel-3/test/images/Crawford_County_task14157_jpg.rf.822c21f8785d19245b8c71160fedf539.jpg: 640x640 5 Solar_Panels, 8.6ms\n",
            "image 62/610 /content/yolov8/Solar_Panel-3/test/images/Crawford_County_task14194_jpg.rf.bdfc6778af3ac8f1c3e1a1e4b2483aa3.jpg: 640x640 1 Solar_Panel, 8.6ms\n",
            "image 63/610 /content/yolov8/Solar_Panel-3/test/images/Crawford_County_task15812_jpg.rf.c2e4e7eca51f305b708d8cbe3cbb1d18.jpg: 640x640 1 Solar_Panel, 8.7ms\n",
            "image 64/610 /content/yolov8/Solar_Panel-3/test/images/Crawford_County_task16427_jpg.rf.8867ee37df092f5b21bd121831e2b757.jpg: 640x640 1 Solar_Panel, 8.6ms\n",
            "image 65/610 /content/yolov8/Solar_Panel-3/test/images/Crawford_County_task17487_jpg.rf.2cd991e9a09d826dce1b4c9abcb731d4.jpg: 640x640 5 Solar_Panels, 8.6ms\n",
            "image 66/610 /content/yolov8/Solar_Panel-3/test/images/Crawford_County_task17537_jpg.rf.78fe61c02d377c29f16b7510af2bd80b.jpg: 640x640 1 Solar_Panel, 8.6ms\n",
            "image 67/610 /content/yolov8/Solar_Panel-3/test/images/Crawford_County_task19004_jpg.rf.117bdc5c2a5ef6d56bf7e43138fe4b0c.jpg: 640x640 2 Solar_Panels, 7.2ms\n",
            "image 68/610 /content/yolov8/Solar_Panel-3/test/images/Crawford_County_task20069_jpg.rf.da0aeb2e0772bdac30b2117a98be29fb.jpg: 640x640 1 Solar_Panel, 10.2ms\n",
            "image 69/610 /content/yolov8/Solar_Panel-3/test/images/Crawford_County_task20512_jpg.rf.20cd08f076c6af4e158b8507ac013240.jpg: 640x640 4 Solar_Panels, 7.2ms\n",
            "image 70/610 /content/yolov8/Solar_Panel-3/test/images/Crawford_County_task27852_jpg.rf.c045d8ba0029f77cd5d1c3a85f5aa649.jpg: 640x640 2 Solar_Panels, 7.2ms\n",
            "image 71/610 /content/yolov8/Solar_Panel-3/test/images/Crawford_County_task832_jpg.rf.ef5aebe887e723ed6f9877b0b186ddc7.jpg: 640x640 1 Solar_Panel, 7.2ms\n",
            "image 72/610 /content/yolov8/Solar_Panel-3/test/images/Faulkner_County_task12355_jpg.rf.417d071518266975b68c63d868275173.jpg: 640x640 2 Solar_Panels, 7.2ms\n",
            "image 73/610 /content/yolov8/Solar_Panel-3/test/images/Faulkner_County_task12362_jpg.rf.3187af63acd79f5b33ae326744ee38ef.jpg: 640x640 2 Solar_Panels, 7.2ms\n",
            "image 74/610 /content/yolov8/Solar_Panel-3/test/images/Faulkner_County_task12492_jpg.rf.5128bb7d4b55d7c1918533f852631217.jpg: 640x640 2 Solar_Panels, 7.2ms\n",
            "image 75/610 /content/yolov8/Solar_Panel-3/test/images/Faulkner_County_task15051_jpg.rf.568bfc1049f4f80f0100b077a8a98dff.jpg: 640x640 1 Solar_Panel, 7.2ms\n",
            "image 76/610 /content/yolov8/Solar_Panel-3/test/images/Faulkner_County_task16930_jpg.rf.220efe6be84e1d346b73c56f9c833824.jpg: 640x640 1 Solar_Panel, 7.4ms\n",
            "image 77/610 /content/yolov8/Solar_Panel-3/test/images/Faulkner_County_task18701_jpg.rf.571bc96990b43737a487ef3a29f0e4f2.jpg: 640x640 1 Solar_Panel, 7.0ms\n",
            "image 78/610 /content/yolov8/Solar_Panel-3/test/images/Faulkner_County_task22183_jpg.rf.d89b74b2df02c73f19bd1cb7bb27af8a.jpg: 640x640 1 Solar_Panel, 6.9ms\n",
            "image 79/610 /content/yolov8/Solar_Panel-3/test/images/Faulkner_County_task29713_jpg.rf.4a72c31e65281ff68ddc7e27d4365427.jpg: 640x640 3 Solar_Panels, 9.2ms\n",
            "image 80/610 /content/yolov8/Solar_Panel-3/test/images/Faulkner_County_task30501_jpg.rf.015b9dda830e1f224ff1fd3d5aa6c497.jpg: 640x640 7 Solar_Panels, 6.9ms\n",
            "image 81/610 /content/yolov8/Solar_Panel-3/test/images/Faulkner_County_task30539_jpg.rf.9e75b994ce4f2b3ba45c969a7093d132.jpg: 640x640 1 Solar_Panel, 6.9ms\n",
            "image 82/610 /content/yolov8/Solar_Panel-3/test/images/Faulkner_County_task30542_jpg.rf.b3c61903fdccd4fe8117e02225b3ca3a.jpg: 640x640 1 Solar_Panel, 6.7ms\n",
            "image 83/610 /content/yolov8/Solar_Panel-3/test/images/Faulkner_County_task30638_jpg.rf.5e715c5e4149fbc696464583819fd547.jpg: 640x640 4 Solar_Panels, 8.3ms\n",
            "image 84/610 /content/yolov8/Solar_Panel-3/test/images/Faulkner_County_task32616_jpg.rf.13cd0e6799fb1a96b9ee8ff3b0085593.jpg: 640x640 1 Solar_Panel, 6.9ms\n",
            "image 85/610 /content/yolov8/Solar_Panel-3/test/images/Faulkner_County_task33389_jpg.rf.0b91bff0a7dac4e3829d5a7b9a8759b9.jpg: 640x640 1 Solar_Panel, 6.7ms\n",
            "image 86/610 /content/yolov8/Solar_Panel-3/test/images/Franklin_County_task10263_jpg.rf.a8ca921b477749b65ffd89ca38497e0f.jpg: 640x640 1 Solar_Panel, 6.7ms\n",
            "image 87/610 /content/yolov8/Solar_Panel-3/test/images/Franklin_County_task9100_jpg.rf.c60d5f60ed309970805d079783a47124.jpg: 640x640 1 Solar_Panel, 7.2ms\n",
            "image 88/610 /content/yolov8/Solar_Panel-3/test/images/Fulton_County_task3150_jpg.rf.64f81246f18745fbda40d4744eb29a01.jpg: 640x640 1 Solar_Panel, 7.2ms\n",
            "image 89/610 /content/yolov8/Solar_Panel-3/test/images/Hempstead_County_task9202_jpg.rf.afa7fa730f90ea9cc3d4e9db0568ccd8.jpg: 640x640 1 Solar_Panel, 7.1ms\n",
            "image 90/610 /content/yolov8/Solar_Panel-3/test/images/Hot-Spring_County_task10240_jpg.rf.173ae45283f754af2401243d2ce010ae.jpg: 640x640 2 Solar_Panels, 6.6ms\n",
            "image 91/610 /content/yolov8/Solar_Panel-3/test/images/Hot-Spring_County_task12479_jpg.rf.89ae593e66f690b9e011cd767215458a.jpg: 640x640 1 Solar_Panel, 6.7ms\n",
            "image 92/610 /content/yolov8/Solar_Panel-3/test/images/Hot-Spring_County_task13747_jpg.rf.d92a951408d3721ea23762998de3a643.jpg: 640x640 1 Solar_Panel, 7.0ms\n",
            "image 93/610 /content/yolov8/Solar_Panel-3/test/images/Hot-Spring_County_task16629_jpg.rf.92c1bd1e1574079cb079382f0f4781d3.jpg: 640x640 3 Solar_Panels, 7.8ms\n",
            "image 94/610 /content/yolov8/Solar_Panel-3/test/images/Hot-Spring_County_task4443_jpg.rf.cd60c9d86f3bce7e44ee73389dabe76b.jpg: 640x640 1 Solar_Panel, 7.5ms\n",
            "image 95/610 /content/yolov8/Solar_Panel-3/test/images/Hot-Spring_County_task7850_jpg.rf.a31e6f6e1e6a81fe5eee96de38bfa001.jpg: 640x640 2 Solar_Panels, 6.8ms\n",
            "image 96/610 /content/yolov8/Solar_Panel-3/test/images/Hot-Spring_County_task8091_jpg.rf.b5efd12af03ccc3f1c0db1057e02d392.jpg: 640x640 2 Solar_Panels, 6.9ms\n",
            "image 97/610 /content/yolov8/Solar_Panel-3/test/images/Howard_County_task9677_jpg.rf.39d2b79bdf2ba01e567ccb4767761521.jpg: 640x640 1 Solar_Panel, 6.5ms\n",
            "image 98/610 /content/yolov8/Solar_Panel-3/test/images/Izard_County_task1918_jpg.rf.f20d01c1dd5802fe3321fc8c665ee6e7.jpg: 640x640 1 Solar_Panel, 6.7ms\n",
            "image 99/610 /content/yolov8/Solar_Panel-3/test/images/Izard_County_task1953_jpg.rf.f5b2d2d67fc60739b7532b6e514bf2de.jpg: 640x640 1 Solar_Panel, 6.6ms\n",
            "image 100/610 /content/yolov8/Solar_Panel-3/test/images/Izard_County_task8327_jpg.rf.0be3e67b49b5dbf925b6b95a91a988a8.jpg: 640x640 1 Solar_Panel, 7.7ms\n",
            "image 101/610 /content/yolov8/Solar_Panel-3/test/images/Izard_County_task8969_jpg.rf.c4d0825d392fca46e631ee9e0609ad05.jpg: 640x640 2 Solar_Panels, 6.7ms\n",
            "image 102/610 /content/yolov8/Solar_Panel-3/test/images/Izard_County_task9475_jpg.rf.385021745c6e7adb80c79e7d74147bbc.jpg: 640x640 1 Solar_Panel, 6.9ms\n",
            "image 103/610 /content/yolov8/Solar_Panel-3/test/images/Izard_County_task992_jpg.rf.b45a7d86a3e882467c98e267455f427f.jpg: 640x640 (no detections), 6.4ms\n",
            "image 104/610 /content/yolov8/Solar_Panel-3/test/images/Jefferson_County_task14072_jpg.rf.a0de0a4c60484dfb046f332170116fbc.jpg: 640x640 3 Solar_Panels, 6.7ms\n",
            "image 105/610 /content/yolov8/Solar_Panel-3/test/images/Jefferson_County_task19078_jpg.rf.81ba24bf278640e32621e9cdf74668dd.jpg: 640x640 2 Solar_Panels, 7.2ms\n",
            "image 106/610 /content/yolov8/Solar_Panel-3/test/images/Jefferson_County_task3660_jpg.rf.b3a7c1eed73caa3d81c2295e805e0318.jpg: 640x640 6 Solar_Panels, 6.3ms\n",
            "image 107/610 /content/yolov8/Solar_Panel-3/test/images/Jefferson_County_task68_jpg.rf.989d2d759ea51a217fe2cbd33cddf023.jpg: 640x640 1 Solar_Panel, 6.9ms\n",
            "image 108/610 /content/yolov8/Solar_Panel-3/test/images/Jefferson_County_task8477_jpg.rf.9ef63e170a971be278f43ffa5f68da57.jpg: 640x640 4 Solar_Panels, 6.5ms\n",
            "image 109/610 /content/yolov8/Solar_Panel-3/test/images/Jefferson_County_task9511_jpg.rf.02192d06dacab1f753fef4b0baceecca.jpg: 640x640 1 Solar_Panel, 6.8ms\n",
            "image 110/610 /content/yolov8/Solar_Panel-3/test/images/Little-River_County_task2436_jpg.rf.f537e87149c232b5c5077b86290387f1.jpg: 640x640 3 Solar_Panels, 6.5ms\n",
            "image 111/610 /content/yolov8/Solar_Panel-3/test/images/Little-River_County_task5401_jpg.rf.8a7cd0707198b624c3772795d1a0476e.jpg: 640x640 3 Solar_Panels, 6.7ms\n",
            "image 112/610 /content/yolov8/Solar_Panel-3/test/images/Little-River_County_task692_jpg.rf.2e8bd7522d2272e0a7c706b94c53bb24.jpg: 640x640 3 Solar_Panels, 9.9ms\n",
            "image 113/610 /content/yolov8/Solar_Panel-3/test/images/Logan_County_task287_jpg.rf.4ceb49cf8c42072d091024d82c0ba5f5.jpg: 640x640 2 Solar_Panels, 6.9ms\n",
            "image 114/610 /content/yolov8/Solar_Panel-3/test/images/Lonoke_County_task1354_jpg.rf.e8177bd6263df271983824d753a17f23.jpg: 640x640 4 Solar_Panels, 6.8ms\n",
            "image 115/610 /content/yolov8/Solar_Panel-3/test/images/Lonoke_County_task13853_jpg.rf.b738199bc51e352c7dda7ca5bb3c1546.jpg: 640x640 2 Solar_Panels, 6.8ms\n",
            "image 116/610 /content/yolov8/Solar_Panel-3/test/images/Lonoke_County_task14639_jpg.rf.1e3a48b64cb8c0f47af60345da4c3bba.jpg: 640x640 1 Solar_Panel, 8.2ms\n",
            "image 117/610 /content/yolov8/Solar_Panel-3/test/images/Lonoke_County_task1549_jpg.rf.b0297b1a919cff1ecf331298e3262b90.jpg: 640x640 2 Solar_Panels, 6.8ms\n",
            "image 118/610 /content/yolov8/Solar_Panel-3/test/images/Lonoke_County_task15882_jpg.rf.d44fea851b0b4d206981909be6531c56.jpg: 640x640 1 Solar_Panel, 6.7ms\n",
            "image 119/610 /content/yolov8/Solar_Panel-3/test/images/Lonoke_County_task17507_jpg.rf.ba7f33bb4ddc59310967608e03f9a654.jpg: 640x640 2 Solar_Panels, 6.8ms\n",
            "image 120/610 /content/yolov8/Solar_Panel-3/test/images/Lonoke_County_task17910_jpg.rf.1c4554c1338793159108955db5130ac5.jpg: 640x640 3 Solar_Panels, 9.2ms\n",
            "image 121/610 /content/yolov8/Solar_Panel-3/test/images/Lonoke_County_task18052_jpg.rf.85a00908247489e0534bd9f43ba7d99e.jpg: 640x640 2 Solar_Panels, 6.4ms\n",
            "image 122/610 /content/yolov8/Solar_Panel-3/test/images/Lonoke_County_task18725_jpg.rf.fe2f0250aca1e96a2c7f7745cf804986.jpg: 640x640 7 Solar_Panels, 6.3ms\n",
            "image 123/610 /content/yolov8/Solar_Panel-3/test/images/Lonoke_County_task19179_jpg.rf.871392ce189c03426d8a6d22aef2830b.jpg: 640x640 1 Solar_Panel, 6.3ms\n",
            "image 124/610 /content/yolov8/Solar_Panel-3/test/images/Lonoke_County_task3015_jpg.rf.ec74cf6c33f8afc5c9b3d18b69638a40.jpg: 640x640 3 Solar_Panels, 6.6ms\n",
            "image 125/610 /content/yolov8/Solar_Panel-3/test/images/Lonoke_County_task358_jpg.rf.6fbb2203e8f33788f1f740c00af075f4.jpg: 640x640 2 Solar_Panels, 6.4ms\n",
            "image 126/610 /content/yolov8/Solar_Panel-3/test/images/Lonoke_County_task4229_jpg.rf.a99bc57daa1db750cfbb91f541eff575.jpg: 640x640 1 Solar_Panel, 6.4ms\n",
            "image 127/610 /content/yolov8/Solar_Panel-3/test/images/Lonoke_County_task4497_jpg.rf.4a16ac2981257560d096912d51bbbaa9.jpg: 640x640 1 Solar_Panel, 6.2ms\n",
            "image 128/610 /content/yolov8/Solar_Panel-3/test/images/Lonoke_County_task4502_jpg.rf.0f3258e937b47b098e212aa8b5ff684d.jpg: 640x640 5 Solar_Panels, 6.5ms\n",
            "image 129/610 /content/yolov8/Solar_Panel-3/test/images/Lonoke_County_task4582_jpg.rf.1ed93f8c8ea1299f8daa24f9c96e82fc.jpg: 640x640 1 Solar_Panel, 6.8ms\n",
            "image 130/610 /content/yolov8/Solar_Panel-3/test/images/Lonoke_County_task4930_jpg.rf.fb2e87aed04a8c55e5d74427ab7f7b95.jpg: 640x640 3 Solar_Panels, 7.2ms\n",
            "image 131/610 /content/yolov8/Solar_Panel-3/test/images/Lonoke_County_task5967_jpg.rf.b0d45ce483ba05f62d1bc9e8dcbf00b3.jpg: 640x640 1 Solar_Panel, 6.9ms\n",
            "image 132/610 /content/yolov8/Solar_Panel-3/test/images/Lonoke_County_task7012_jpg.rf.e0f6b66eaadf6cc20ecae9a5d68818ae.jpg: 640x640 2 Solar_Panels, 9.1ms\n",
            "image 133/610 /content/yolov8/Solar_Panel-3/test/images/Lonoke_County_task7869_jpg.rf.5c1ed51d58c0788e60147ce0697536ea.jpg: 640x640 1 Solar_Panel, 6.8ms\n",
            "image 134/610 /content/yolov8/Solar_Panel-3/test/images/Lonoke_County_task8076_jpg.rf.a1ecabaefd47bc3fc7359f3f0e856ba4.jpg: 640x640 4 Solar_Panels, 6.7ms\n",
            "image 135/610 /content/yolov8/Solar_Panel-3/test/images/Lonoke_County_task9120_jpg.rf.ec34ec7e27b63e6e52777bd3e0dd6660.jpg: 640x640 2 Solar_Panels, 6.5ms\n",
            "image 136/610 /content/yolov8/Solar_Panel-3/test/images/Lonoke_County_task9607_jpg.rf.73c72e63cabf3925e8460871dce0ada0.jpg: 640x640 2 Solar_Panels, 6.5ms\n",
            "image 137/610 /content/yolov8/Solar_Panel-3/test/images/Madison_County_task10916_jpg.rf.22c691c9bf047fe6134750237e6f0574.jpg: 640x640 2 Solar_Panels, 6.5ms\n",
            "image 138/610 /content/yolov8/Solar_Panel-3/test/images/Madison_County_task11128_jpg.rf.ac8769ab16aa732b9f620771d8400d2d.jpg: 640x640 4 Solar_Panels, 6.6ms\n",
            "image 139/610 /content/yolov8/Solar_Panel-3/test/images/Madison_County_task11715_jpg.rf.1e8ded810815ca7357b96679112d7dbc.jpg: 640x640 1 Solar_Panel, 6.8ms\n",
            "image 140/610 /content/yolov8/Solar_Panel-3/test/images/Madison_County_task1923_jpg.rf.15c1071c736251cbf4eee0f5605fc23e.jpg: 640x640 1 Solar_Panel, 6.4ms\n",
            "image 141/610 /content/yolov8/Solar_Panel-3/test/images/Madison_County_task2290_jpg.rf.06c60a3f09c7cefb6dcc37fae1ebdb12.jpg: 640x640 2 Solar_Panels, 10.1ms\n",
            "image 142/610 /content/yolov8/Solar_Panel-3/test/images/Madison_County_task2976_jpg.rf.0e17cffe6bff813192199d8a2d20e824.jpg: 640x640 4 Solar_Panels, 6.6ms\n",
            "image 143/610 /content/yolov8/Solar_Panel-3/test/images/Madison_County_task6196_jpg.rf.ca12ede8df819d621db82d67eb5e82ca.jpg: 640x640 1 Solar_Panel, 6.4ms\n",
            "image 144/610 /content/yolov8/Solar_Panel-3/test/images/Madison_County_task775_jpg.rf.dcc286f8da8f24553291447e1a1abcae.jpg: 640x640 2 Solar_Panels, 6.5ms\n",
            "image 145/610 /content/yolov8/Solar_Panel-3/test/images/Madison_County_task8895_jpg.rf.f50d4fa060184a9944d7505ddb1f3772.jpg: 640x640 1 Solar_Panel, 8.2ms\n",
            "image 146/610 /content/yolov8/Solar_Panel-3/test/images/Miller_County_task10308_jpg.rf.ca91f05dcab33813d5f1d02bdf46c9c8.jpg: 640x640 2 Solar_Panels, 6.8ms\n",
            "image 147/610 /content/yolov8/Solar_Panel-3/test/images/Miller_County_task12778_jpg.rf.e1bc1a4fcfb3371f04a6f4c25b4f5130.jpg: 640x640 2 Solar_Panels, 6.7ms\n",
            "image 148/610 /content/yolov8/Solar_Panel-3/test/images/Montgomery_County_task1325_jpg.rf.fc18125cf256f8907c8c91a06ae817f5.jpg: 640x640 5 Solar_Panels, 9.8ms\n",
            "image 149/610 /content/yolov8/Solar_Panel-3/test/images/Montgomery_County_task2616_jpg.rf.a7203d35a8904b28d56e5e8daf3c74be.jpg: 640x640 1 Solar_Panel, 6.7ms\n",
            "image 150/610 /content/yolov8/Solar_Panel-3/test/images/Newton_County_task6522_jpg.rf.51aa57dbeaa1a23c0ee2e462766369d5.jpg: 640x640 2 Solar_Panels, 6.8ms\n",
            "image 151/610 /content/yolov8/Solar_Panel-3/test/images/PV01_324951_1203793_jpg.rf.e4ea9194d4fb5e3cfa88dfea841ab040.jpg: 640x640 1 Solar_Panel, 7.3ms\n",
            "image 152/610 /content/yolov8/Solar_Panel-3/test/images/PV01_325120_1204229_jpg.rf.2bd749428129c9696729763db7838b5f.jpg: 640x640 (no detections), 6.6ms\n",
            "image 153/610 /content/yolov8/Solar_Panel-3/test/images/PV01_325122_1203837_jpg.rf.2b4f75a0f49947d67b7b54fcbc0b50dc.jpg: 640x640 2 Solar_Panels, 6.4ms\n",
            "image 154/610 /content/yolov8/Solar_Panel-3/test/images/PV01_325130_1204254_jpg.rf.63050ed1dc140d5a957ee14d6ff32674.jpg: 640x640 4 Solar_Panels, 6.5ms\n",
            "image 155/610 /content/yolov8/Solar_Panel-3/test/images/PV01_325131_1203826_jpg.rf.ce119b47755f2d1d7d275a6d8951734e.jpg: 640x640 1 Solar_Panel, 6.4ms\n",
            "image 156/610 /content/yolov8/Solar_Panel-3/test/images/PV01_325132_1204235_jpg.rf.786a89a1236fc92fa2485fff6c6e4bd7.jpg: 640x640 2 Solar_Panels, 6.3ms\n",
            "image 157/610 /content/yolov8/Solar_Panel-3/test/images/PV01_325132_1204246_jpg.rf.c19d036269db90bfde5908f80136ae6f.jpg: 640x640 14 Solar_Panels, 6.4ms\n",
            "image 158/610 /content/yolov8/Solar_Panel-3/test/images/PV01_325134_1204227_jpg.rf.ca38d29d5c7b51fc218a5aed924fbb29.jpg: 640x640 (no detections), 6.4ms\n",
            "image 159/610 /content/yolov8/Solar_Panel-3/test/images/PV01_325139_1204232_jpg.rf.87a26b983e9f002c1778c16a63ae09bf.jpg: 640x640 3 Solar_Panels, 6.3ms\n",
            "image 160/610 /content/yolov8/Solar_Panel-3/test/images/PV01_325144_1204229_jpg.rf.1923c865149a236e8582cc1af90c3ce7.jpg: 640x640 5 Solar_Panels, 10.3ms\n",
            "image 161/610 /content/yolov8/Solar_Panel-3/test/images/PV01_325146_1204224_jpg.rf.3b9e114053ef26a9b452e446093aa48a.jpg: 640x640 2 Solar_Panels, 6.8ms\n",
            "image 162/610 /content/yolov8/Solar_Panel-3/test/images/PV01_325146_1204227_jpg.rf.ba2600b7e9fa32e60830fa281b5f89d8.jpg: 640x640 3 Solar_Panels, 6.6ms\n",
            "image 163/610 /content/yolov8/Solar_Panel-3/test/images/PV01_325146_1204237_jpg.rf.676ceb609d7de2ca4dd278bcdc44cf22.jpg: 640x640 3 Solar_Panels, 6.6ms\n",
            "image 164/610 /content/yolov8/Solar_Panel-3/test/images/PV01_325148_1204243_jpg.rf.9f2913a6f1efad9b6a98d9c47694cade.jpg: 640x640 7 Solar_Panels, 7.3ms\n",
            "image 165/610 /content/yolov8/Solar_Panel-3/test/images/PV01_325150_1204240_jpg.rf.228d2d63c933c98d5fa7acac003e6588.jpg: 640x640 1 Solar_Panel, 7.7ms\n",
            "image 166/610 /content/yolov8/Solar_Panel-3/test/images/PV01_325192_1204153_jpg.rf.5f95befbbc03765c1f289c91216810a0.jpg: 640x640 12 Solar_Panels, 7.2ms\n",
            "image 167/610 /content/yolov8/Solar_Panel-3/test/images/PV01_325194_1204240_jpg.rf.45ddddba25d8cb2d487e562526648f87.jpg: 640x640 1 Solar_Panel, 6.6ms\n",
            "image 168/610 /content/yolov8/Solar_Panel-3/test/images/PV01_325197_1204156_jpg.rf.18cb8b8ef7fcd9cec42b491f3ee30035.jpg: 640x640 16 Solar_Panels, 6.8ms\n",
            "image 169/610 /content/yolov8/Solar_Panel-3/test/images/PV01_325199_1204161_jpg.rf.67f4e7e6da790a8ce478467b4224c0da.jpg: 640x640 11 Solar_Panels, 7.3ms\n",
            "image 170/610 /content/yolov8/Solar_Panel-3/test/images/PV01_325199_1204178_jpg.rf.8f5cf6b73080b3e6dafde9b298a4ec18.jpg: 640x640 7 Solar_Panels, 7.2ms\n",
            "image 171/610 /content/yolov8/Solar_Panel-3/test/images/PV01_325201_1204153_jpg.rf.06c3ea94d80639300617a85bb467f352.jpg: 640x640 19 Solar_Panels, 6.8ms\n",
            "image 172/610 /content/yolov8/Solar_Panel-3/test/images/PV01_325204_1204151_jpg.rf.620794d8a4e82f9a9758f42dfcb9dd53.jpg: 640x640 24 Solar_Panels, 6.9ms\n",
            "image 173/610 /content/yolov8/Solar_Panel-3/test/images/PV01_325206_1204191_jpg.rf.76bb52c497d08c37f3f2bfbb83cdf872.jpg: 640x640 2 Solar_Panels, 8.2ms\n",
            "image 174/610 /content/yolov8/Solar_Panel-3/test/images/PV01_325208_1204161_jpg.rf.c858c67d62cddbc1b614ecf67acabf19.jpg: 640x640 11 Solar_Panels, 6.9ms\n",
            "image 175/610 /content/yolov8/Solar_Panel-3/test/images/PV01_325208_1204164_jpg.rf.37e0e853f2e71851d418c40caeff81d9.jpg: 640x640 4 Solar_Panels, 6.7ms\n",
            "image 176/610 /content/yolov8/Solar_Panel-3/test/images/PV01_325208_1204167_jpg.rf.05ee997dc3f417400f05707e03fcc06c.jpg: 640x640 19 Solar_Panels, 6.8ms\n",
            "image 177/610 /content/yolov8/Solar_Panel-3/test/images/PV01_325208_1204181_jpg.rf.72dca987d7442412156dad9d43f1057b.jpg: 640x640 14 Solar_Panels, 6.9ms\n",
            "image 178/610 /content/yolov8/Solar_Panel-3/test/images/PV01_325208_1204194_jpg.rf.d86fca0fb6620ada7b7c5ce1a54d41f8.jpg: 640x640 6 Solar_Panels, 6.5ms\n",
            "image 179/610 /content/yolov8/Solar_Panel-3/test/images/PV01_325211_1204197_jpg.rf.54ed6fc5f7677bc8bb6ee75fe2ae0f91.jpg: 640x640 4 Solar_Panels, 7.6ms\n",
            "image 180/610 /content/yolov8/Solar_Panel-3/test/images/PV01_325213_1204183_jpg.rf.41b70422e3068f3e22986fce21413584.jpg: 640x640 5 Solar_Panels, 6.9ms\n",
            "image 181/610 /content/yolov8/Solar_Panel-3/test/images/PV01_325215_1204194_jpg.rf.7b62f048b6d6553b7966be7558aabf33.jpg: 640x640 5 Solar_Panels, 7.1ms\n",
            "image 182/610 /content/yolov8/Solar_Panel-3/test/images/PV01_325215_1204202_jpg.rf.5ce5b8795b1b86fc66d8243354c88f3d.jpg: 640x640 6 Solar_Panels, 6.6ms\n",
            "image 183/610 /content/yolov8/Solar_Panel-3/test/images/PV01_325224_1204192_jpg.rf.3e9ba1e4d362940b62a66ac5dcff9dee.jpg: 640x640 10 Solar_Panels, 9.3ms\n",
            "image 184/610 /content/yolov8/Solar_Panel-3/test/images/PV01_325224_1204202_jpg.rf.45649ee87769b00cc2308e1ea32570cd.jpg: 640x640 1 Solar_Panel, 6.4ms\n",
            "image 185/610 /content/yolov8/Solar_Panel-3/test/images/PV01_325227_1204192_jpg.rf.d10de70c965b4b9ae6378b133daab5fa.jpg: 640x640 6 Solar_Panels, 6.9ms\n",
            "image 186/610 /content/yolov8/Solar_Panel-3/test/images/PV01_325228_1203845_jpg.rf.5b2660e81a5bdaaff3a70e475824f117.jpg: 640x640 2 Solar_Panels, 6.7ms\n",
            "image 187/610 /content/yolov8/Solar_Panel-3/test/images/PV01_325317_1205369_jpg.rf.5c19dd97b9b01b467329c35baf21da6d.jpg: 640x640 1 Solar_Panel, 6.8ms\n",
            "image 188/610 /content/yolov8/Solar_Panel-3/test/images/PV01_325319_1205383_jpg.rf.3c839ffccd5ebc8e333d9f5c3e5b0697.jpg: 640x640 6 Solar_Panels, 7.1ms\n",
            "image 189/610 /content/yolov8/Solar_Panel-3/test/images/PV01_325319_1205508_jpg.rf.19ff1e85743d80ca1eb256668fe13aa4.jpg: 640x640 3 Solar_Panels, 7.2ms\n",
            "image 190/610 /content/yolov8/Solar_Panel-3/test/images/PV01_325324_1205369_jpg.rf.78a9eef783afbbbeae328eea672af6f9.jpg: 640x640 6 Solar_Panels, 6.3ms\n",
            "image 191/610 /content/yolov8/Solar_Panel-3/test/images/PV01_325326_1205375_jpg.rf.383bad8c095ad64144860da6151b5691.jpg: 640x640 9 Solar_Panels, 6.3ms\n",
            "image 192/610 /content/yolov8/Solar_Panel-3/test/images/PV01_325327_1203767_jpg.rf.9dd1896443628842ae52415fb1819280.jpg: 640x640 1 Solar_Panel, 6.6ms\n",
            "image 193/610 /content/yolov8/Solar_Panel-3/test/images/PV01_325330_1203767_jpg.rf.e72b76442083b62d877f16b99bab850d.jpg: 640x640 (no detections), 6.5ms\n",
            "image 194/610 /content/yolov8/Solar_Panel-3/test/images/PV01_325331_1205369_jpg.rf.9b4efd087351eae8ac15862033325396.jpg: 640x640 5 Solar_Panels, 7.6ms\n",
            "image 195/610 /content/yolov8/Solar_Panel-3/test/images/PV01_325335_1205375_jpg.rf.b0dffdf57d3fbdbdd0fac3b04493be3d.jpg: 640x640 21 Solar_Panels, 7.8ms\n",
            "image 196/610 /content/yolov8/Solar_Panel-3/test/images/PV01_325356_1205367_jpg.rf.080936018f6da67589f06fab95f81568.jpg: 640x640 15 Solar_Panels, 6.7ms\n",
            "image 197/610 /content/yolov8/Solar_Panel-3/test/images/PV01_325360_1205525_jpg.rf.d61395cea24dc22faa0f74277ec5023f.jpg: 640x640 17 Solar_Panels, 6.7ms\n",
            "image 198/610 /content/yolov8/Solar_Panel-3/test/images/PV01_325360_1205530_jpg.rf.06286b323ab84e0df50c0b2de870bc7d.jpg: 640x640 11 Solar_Panels, 10.0ms\n",
            "image 199/610 /content/yolov8/Solar_Panel-3/test/images/PV01_325360_1205533_jpg.rf.f7cab8ed1552db31c0f7afe4f5605aa4.jpg: 640x640 14 Solar_Panels, 6.8ms\n",
            "image 200/610 /content/yolov8/Solar_Panel-3/test/images/PV01_325361_1205353_jpg.rf.2d8ce4d6d6a995085f224c775cef2a6b.jpg: 640x640 9 Solar_Panels, 6.9ms\n",
            "image 201/610 /content/yolov8/Solar_Panel-3/test/images/PV01_325361_1205356_jpg.rf.ec8dc57a24a568b9d3fe9141cd451a2e.jpg: 640x640 14 Solar_Panels, 7.1ms\n",
            "image 202/610 /content/yolov8/Solar_Panel-3/test/images/PV01_325362_1205527_jpg.rf.034eaa9d16773505de937831a41181e8.jpg: 640x640 15 Solar_Panels, 6.9ms\n",
            "image 203/610 /content/yolov8/Solar_Panel-3/test/images/PV01_325362_1205530_jpg.rf.1dc14fbb32ee1701bb9b1aa915b8ef04.jpg: 640x640 18 Solar_Panels, 6.6ms\n",
            "image 204/610 /content/yolov8/Solar_Panel-3/test/images/PV01_325362_1205533_jpg.rf.6bccef35c6c75534d60e3b0a3fa6b71d.jpg: 640x640 9 Solar_Panels, 6.8ms\n",
            "image 205/610 /content/yolov8/Solar_Panel-3/test/images/PV01_325363_1205353_jpg.rf.6adf13376dc8913e71aff26d788468a9.jpg: 640x640 10 Solar_Panels, 6.5ms\n",
            "image 206/610 /content/yolov8/Solar_Panel-3/test/images/PV01_325363_1205356_jpg.rf.9581b98fbf1e3a31ab4cadaee188c4c8.jpg: 640x640 16 Solar_Panels, 6.3ms\n",
            "image 207/610 /content/yolov8/Solar_Panel-3/test/images/PV01_325363_1205359_jpg.rf.4bcaab23a8f550df750d8c477dc9909f.jpg: 640x640 10 Solar_Panels, 6.8ms\n",
            "image 208/610 /content/yolov8/Solar_Panel-3/test/images/PV01_325363_1205367_jpg.rf.5075540cafab717f728603a53ca3ddee.jpg: 640x640 6 Solar_Panels, 6.3ms\n",
            "image 209/610 /content/yolov8/Solar_Panel-3/test/images/PV01_325364_1203805_jpg.rf.346d631718bb931da28b8f8829a3d5de.jpg: 640x640 (no detections), 6.4ms\n",
            "image 210/610 /content/yolov8/Solar_Panel-3/test/images/PV01_325364_1203808_jpg.rf.59b46949b25e499f5cd1062a28987b4e.jpg: 640x640 1 Solar_Panel, 6.4ms\n",
            "image 211/610 /content/yolov8/Solar_Panel-3/test/images/PV01_325365_1205353_jpg.rf.2ca331fe1743db67869008da45dc54e1.jpg: 640x640 15 Solar_Panels, 6.4ms\n",
            "image 212/610 /content/yolov8/Solar_Panel-3/test/images/PV01_325365_1205356_jpg.rf.fe9f2e5cca0178a3289520d0f829c0d6.jpg: 640x640 16 Solar_Panels, 6.5ms\n",
            "image 213/610 /content/yolov8/Solar_Panel-3/test/images/PV01_325365_1205359_jpg.rf.918ab77cbfa63d6f5aacb30825d13e46.jpg: 640x640 13 Solar_Panels, 6.8ms\n",
            "image 214/610 /content/yolov8/Solar_Panel-3/test/images/PV01_325365_1205361_jpg.rf.594c1d52fc74cf8aea1220efa444fdb7.jpg: 640x640 11 Solar_Panels, 10.9ms\n",
            "image 215/610 /content/yolov8/Solar_Panel-3/test/images/PV01_325365_1205364_jpg.rf.47bc66321118fbe61ade92fb04b17ec0.jpg: 640x640 16 Solar_Panels, 8.1ms\n",
            "image 216/610 /content/yolov8/Solar_Panel-3/test/images/PV01_325365_1205367_jpg.rf.ec579262860cc3522340dfdb2d66077b.jpg: 640x640 6 Solar_Panels, 6.9ms\n",
            "image 217/610 /content/yolov8/Solar_Panel-3/test/images/PV01_325365_1205522_jpg.rf.390f1d1c1a64041d7324c3626295b311.jpg: 640x640 1 Solar_Panel, 6.9ms\n",
            "image 218/610 /content/yolov8/Solar_Panel-3/test/images/PV01_325365_1205525_jpg.rf.82db8facc1f6af14975b63d34d4c6934.jpg: 640x640 16 Solar_Panels, 6.7ms\n",
            "image 219/610 /content/yolov8/Solar_Panel-3/test/images/PV01_325365_1205527_jpg.rf.bbd94df7fba5b6dadd5f8245b2013f5a.jpg: 640x640 19 Solar_Panels, 6.7ms\n",
            "image 220/610 /content/yolov8/Solar_Panel-3/test/images/PV01_325365_1205530_jpg.rf.2d015582067fe13fc2db40b549704234.jpg: 640x640 16 Solar_Panels, 6.5ms\n",
            "image 221/610 /content/yolov8/Solar_Panel-3/test/images/PV01_325365_1205533_jpg.rf.cd702c8a717a95511036850235b43f94.jpg: 640x640 9 Solar_Panels, 6.8ms\n",
            "image 222/610 /content/yolov8/Solar_Panel-3/test/images/PV01_325367_1205522_jpg.rf.6e7b7324cdbb37197ee2a85ad4501007.jpg: 640x640 4 Solar_Panels, 6.4ms\n",
            "image 223/610 /content/yolov8/Solar_Panel-3/test/images/PV01_325367_1205525_jpg.rf.6aea847cce7fc0fff63045efca8d7163.jpg: 640x640 21 Solar_Panels, 6.1ms\n",
            "image 224/610 /content/yolov8/Solar_Panel-3/test/images/PV01_325367_1205528_jpg.rf.7d7ea95f364b2ed55ee1e742665520b0.jpg: 640x640 13 Solar_Panels, 6.6ms\n",
            "image 225/610 /content/yolov8/Solar_Panel-3/test/images/PV01_325367_1205530_jpg.rf.1a50e5d65e817fa40d4faa00a5c465fe.jpg: 640x640 18 Solar_Panels, 6.7ms\n",
            "image 226/610 /content/yolov8/Solar_Panel-3/test/images/PV01_325367_1205533_jpg.rf.761f40feafa652de8c5d71260247db77.jpg: 640x640 8 Solar_Panels, 11.6ms\n",
            "image 227/610 /content/yolov8/Solar_Panel-3/test/images/PV01_325369_1205522_jpg.rf.d78d22c04bae1e4411fae0d9e9141208.jpg: 640x640 7 Solar_Panels, 6.9ms\n",
            "image 228/610 /content/yolov8/Solar_Panel-3/test/images/PV01_325369_1205525_jpg.rf.01e01de3761be451adbf70c59bed32ba.jpg: 640x640 20 Solar_Panels, 7.3ms\n",
            "image 229/610 /content/yolov8/Solar_Panel-3/test/images/PV01_325369_1205528_jpg.rf.3fa5f1bae949d86f95b622a289a05ed8.jpg: 640x640 15 Solar_Panels, 6.9ms\n",
            "image 230/610 /content/yolov8/Solar_Panel-3/test/images/PV01_325369_1205530_jpg.rf.8f4a2ce2f0bdfe2ed0b119b3aa5348d6.jpg: 640x640 16 Solar_Panels, 7.1ms\n",
            "image 231/610 /content/yolov8/Solar_Panel-3/test/images/PV01_325369_1205533_jpg.rf.7142da219ff02faad9e817c41dc0f9fd.jpg: 640x640 8 Solar_Panels, 7.3ms\n",
            "image 232/610 /content/yolov8/Solar_Panel-3/test/images/PV01_325371_1203805_jpg.rf.f75ca424f1787e2a3173b1e781627f96.jpg: 640x640 3 Solar_Panels, 6.5ms\n",
            "image 233/610 /content/yolov8/Solar_Panel-3/test/images/PV01_325371_1203808_jpg.rf.1f470ac30bc956e47422dccd4b6e1c47.jpg: 640x640 1 Solar_Panel, 7.7ms\n",
            "image 234/610 /content/yolov8/Solar_Panel-3/test/images/PV01_325372_1205522_jpg.rf.6881d40d066d8ae87416755961262ed2.jpg: 640x640 6 Solar_Panels, 7.9ms\n",
            "image 235/610 /content/yolov8/Solar_Panel-3/test/images/PV01_325372_1205525_jpg.rf.334b9f0cbaa991a67f493d705f43cd94.jpg: 640x640 20 Solar_Panels, 7.4ms\n",
            "image 236/610 /content/yolov8/Solar_Panel-3/test/images/PV01_325372_1205528_jpg.rf.12a00cbd4509043cc82988792f8b0bad.jpg: 640x640 16 Solar_Panels, 6.8ms\n",
            "image 237/610 /content/yolov8/Solar_Panel-3/test/images/PV01_325372_1205530_jpg.rf.d57370874e226b04fd3f50bc9b7c832a.jpg: 640x640 22 Solar_Panels, 8.2ms\n",
            "image 238/610 /content/yolov8/Solar_Panel-3/test/images/PV01_325372_1205533_jpg.rf.349a068b7b3f639b0bca5f3fd8555e34.jpg: 640x640 8 Solar_Panels, 6.6ms\n",
            "image 239/610 /content/yolov8/Solar_Panel-3/test/images/PV01_325373_1203808_jpg.rf.1681007555f59cc6f8fa4054e1c0fe3d.jpg: 640x640 (no detections), 6.4ms\n",
            "image 240/610 /content/yolov8/Solar_Panel-3/test/images/PV01_325374_1205522_jpg.rf.878b5dbbfa3fb0ebfb61d211e833e665.jpg: 640x640 6 Solar_Panels, 8.3ms\n",
            "image 241/610 /content/yolov8/Solar_Panel-3/test/images/PV01_325374_1205528_jpg.rf.dddf6c3babe012409a1f0c6a84295d5d.jpg: 640x640 15 Solar_Panels, 6.7ms\n",
            "image 242/610 /content/yolov8/Solar_Panel-3/test/images/PV01_325374_1205530_jpg.rf.17cb9d303bc087a67f9567b462abc1eb.jpg: 640x640 15 Solar_Panels, 6.7ms\n",
            "image 243/610 /content/yolov8/Solar_Panel-3/test/images/PV01_325376_1205525_jpg.rf.75d8eccce5eab1dd9788f3b98bc4a2a3.jpg: 640x640 10 Solar_Panels, 6.5ms\n",
            "image 244/610 /content/yolov8/Solar_Panel-3/test/images/PV01_325376_1205533_jpg.rf.aef1c9e08a7db7f7cb953343490536e6.jpg: 640x640 5 Solar_Panels, 6.4ms\n",
            "image 245/610 /content/yolov8/Solar_Panel-3/test/images/PV01_325397_1203794_jpg.rf.b5740308d3a08e4caaeffa2e99dc54c5.jpg: 640x640 2 Solar_Panels, 6.6ms\n",
            "image 246/610 /content/yolov8/Solar_Panel-3/test/images/PV01_325399_1203751_jpg.rf.1e37a50adb23db49afb9e5a32cd2a87e.jpg: 640x640 2 Solar_Panels, 6.5ms\n",
            "image 247/610 /content/yolov8/Solar_Panel-3/test/images/PV01_325399_1203754_jpg.rf.9f5f649f41c34e8c1f358771550152f8.jpg: 640x640 4 Solar_Panels, 6.7ms\n",
            "image 248/610 /content/yolov8/Solar_Panel-3/test/images/PV01_325399_1203797_jpg.rf.9234fbf9c9b5cd8de7433f74baa90d5d.jpg: 640x640 2 Solar_Panels, 6.8ms\n",
            "image 249/610 /content/yolov8/Solar_Panel-3/test/images/PV01_325409_1205351_jpg.rf.b946392f60bbdbbdde6a25a700afe118.jpg: 640x640 24 Solar_Panels, 6.8ms\n",
            "image 250/610 /content/yolov8/Solar_Panel-3/test/images/PV01_325412_1205351_jpg.rf.d9df9a0ceb08d60851af82b9f24d946c.jpg: 640x640 10 Solar_Panels, 6.6ms\n",
            "image 251/610 /content/yolov8/Solar_Panel-3/test/images/PV01_325412_1205356_jpg.rf.f5534d0940e2a84dcf7733eea83b74fb.jpg: 640x640 25 Solar_Panels, 6.8ms\n",
            "image 252/610 /content/yolov8/Solar_Panel-3/test/images/PV01_325412_1205362_jpg.rf.12b21afc59ef7d273ce17faae5b38fa0.jpg: 640x640 9 Solar_Panels, 6.4ms\n",
            "image 253/610 /content/yolov8/Solar_Panel-3/test/images/PV01_325412_1205372_jpg.rf.db1f8237ed36d4f045c2cccc52425984.jpg: 640x640 12 Solar_Panels, 6.4ms\n",
            "image 254/610 /content/yolov8/Solar_Panel-3/test/images/PV01_325414_1205351_jpg.rf.1a13b71afdcc688a9b4bf90a6c3b1454.jpg: 640x640 14 Solar_Panels, 6.6ms\n",
            "image 255/610 /content/yolov8/Solar_Panel-3/test/images/PV01_325414_1205359_jpg.rf.0022d6679e68d67cb2a17e424947f723.jpg: 640x640 15 Solar_Panels, 6.5ms\n",
            "image 256/610 /content/yolov8/Solar_Panel-3/test/images/PV01_325414_1205364_jpg.rf.6078e2f759db340f1a6e6ac3871c821e.jpg: 640x640 22 Solar_Panels, 6.7ms\n",
            "image 257/610 /content/yolov8/Solar_Panel-3/test/images/PV01_325414_1205370_jpg.rf.c1cc3912202e7a2610622546d57a8fb4.jpg: 640x640 20 Solar_Panels, 6.5ms\n",
            "image 258/610 /content/yolov8/Solar_Panel-3/test/images/PV01_325415_1203781_jpg.rf.21e253add7c3d5d6430372067cf3ea74.jpg: 640x640 1 Solar_Panel, 6.4ms\n",
            "image 259/610 /content/yolov8/Solar_Panel-3/test/images/PV01_325416_1205353_jpg.rf.83047f59978bf5f997eef7382250eb2c.jpg: 640x640 20 Solar_Panels, 6.7ms\n",
            "image 260/610 /content/yolov8/Solar_Panel-3/test/images/PV01_325419_1205356_jpg.rf.fc5e7f48463ae06ac9980cd4934f34d8.jpg: 640x640 18 Solar_Panels, 6.8ms\n",
            "image 261/610 /content/yolov8/Solar_Panel-3/test/images/PV01_325423_1205356_jpg.rf.1e17b9ebd92aee015a5761f1abfcbb1c.jpg: 640x640 19 Solar_Panels, 11.2ms\n",
            "image 262/610 /content/yolov8/Solar_Panel-3/test/images/PV01_325565_1204534_jpg.rf.a3a8f7ab08a8903302e2bf3125986a25.jpg: 640x640 4 Solar_Panels, 6.9ms\n",
            "image 263/610 /content/yolov8/Solar_Panel-3/test/images/PV01_325572_1204545_jpg.rf.6dfb99bef349e8b877cf8abe45415607.jpg: 640x640 2 Solar_Panels, 10.4ms\n",
            "image 264/610 /content/yolov8/Solar_Panel-3/test/images/PV01_325573_1204537_jpg.rf.81842b358d6004b976e2e17f1319423a.jpg: 640x640 2 Solar_Panels, 6.6ms\n",
            "image 265/610 /content/yolov8/Solar_Panel-3/test/images/PV01_325574_1204564_jpg.rf.bbf8f0c8503646e77a83ae598ed8e5b0.jpg: 640x640 1 Solar_Panel, 6.4ms\n",
            "image 266/610 /content/yolov8/Solar_Panel-3/test/images/PV03_314602_1199205_jpg.rf.8af2ef442b106227235740339ce51a28.jpg: 640x640 2 Solar_Panels, 6.3ms\n",
            "image 267/610 /content/yolov8/Solar_Panel-3/test/images/PV03_314658_1199334_jpg.rf.b523bcd88e75e597be2136f9bd90e6fd.jpg: 640x640 (no detections), 6.5ms\n",
            "image 268/610 /content/yolov8/Solar_Panel-3/test/images/PV03_314958_1196553_jpg.rf.91af35ecfe30a4cfe01d945411e9143c.jpg: 640x640 2 Solar_Panels, 6.3ms\n",
            "image 269/610 /content/yolov8/Solar_Panel-3/test/images/PV03_316266_1191724_jpg.rf.56e7157f522d42ca81ae6812e8138810.jpg: 640x640 3 Solar_Panels, 6.4ms\n",
            "image 270/610 /content/yolov8/Solar_Panel-3/test/images/PV03_316682_1211772_jpg.rf.de33d7c2f8bc625a3c438b2efcb37fe1.jpg: 640x640 2 Solar_Panels, 6.6ms\n",
            "image 271/610 /content/yolov8/Solar_Panel-3/test/images/PV03_317979_1196996_jpg.rf.1f8011d96ce316e20b87c133379617d8.jpg: 640x640 4 Solar_Panels, 6.2ms\n",
            "image 272/610 /content/yolov8/Solar_Panel-3/test/images/PV03_318008_1197612_jpg.rf.2bc3250c77cf6b5628b281d76c9f8c70.jpg: 640x640 2 Solar_Panels, 6.8ms\n",
            "image 273/610 /content/yolov8/Solar_Panel-3/test/images/PV03_318036_1197645_jpg.rf.30f9491c318dbcc1cc5d70ec2e790b51.jpg: 640x640 2 Solar_Panels, 6.2ms\n",
            "image 274/610 /content/yolov8/Solar_Panel-3/test/images/PV03_318125_1207799_jpg.rf.2064f4184cdbde1bfce276ade5408dcf.jpg: 640x640 8 Solar_Panels, 7.0ms\n",
            "image 275/610 /content/yolov8/Solar_Panel-3/test/images/PV03_318281_1203874_jpg.rf.2fc748c6a05bb73f72bd6d8277e78763.jpg: 640x640 4 Solar_Panels, 6.6ms\n",
            "image 276/610 /content/yolov8/Solar_Panel-3/test/images/PV03_318306_1195145_jpg.rf.7f356843a55a8e898d0e39b81ff488f9.jpg: 640x640 4 Solar_Panels, 6.5ms\n",
            "image 277/610 /content/yolov8/Solar_Panel-3/test/images/PV03_318306_1195178_jpg.rf.f24382b5cd0099992ca4cf258dc7d010.jpg: 640x640 4 Solar_Panels, 8.2ms\n",
            "image 278/610 /content/yolov8/Solar_Panel-3/test/images/PV03_318310_1196540_jpg.rf.ffac80c2ef62f153003dc3ebfd3f15e2.jpg: 640x640 2 Solar_Panels, 6.8ms\n",
            "image 279/610 /content/yolov8/Solar_Panel-3/test/images/PV03_318361_1195145_jpg.rf.8ab548aa031d30dce688bc152d6fb6f0.jpg: 640x640 7 Solar_Panels, 8.5ms\n",
            "image 280/610 /content/yolov8/Solar_Panel-3/test/images/PV03_318361_1195177_jpg.rf.ee42b18b9cbee670240ac057f5e80a6b.jpg: 640x640 2 Solar_Panels, 6.7ms\n",
            "image 281/610 /content/yolov8/Solar_Panel-3/test/images/PV03_318389_1195210_jpg.rf.a74cd92438b1b99a8afba2c428792967.jpg: 640x640 1 Solar_Panel, 9.4ms\n",
            "image 282/610 /content/yolov8/Solar_Panel-3/test/images/PV03_318444_1195112_jpg.rf.342e8ed7e4f37eaaa650a22a2885dfda.jpg: 640x640 1 Solar_Panel, 6.5ms\n",
            "image 283/610 /content/yolov8/Solar_Panel-3/test/images/PV03_318445_1195209_jpg.rf.640d3fca17356369fb020495d027410a.jpg: 640x640 1 Solar_Panel, 6.8ms\n",
            "image 284/610 /content/yolov8/Solar_Panel-3/test/images/PV03_318445_1209587_jpg.rf.c4a02426112d41acbc755db4fb10996e.jpg: 640x640 (no detections), 6.7ms\n",
            "image 285/610 /content/yolov8/Solar_Panel-3/test/images/PV03_318472_1195144_jpg.rf.0948554c0300240d2334f6d273602019.jpg: 640x640 1 Solar_Panel, 6.5ms\n",
            "image 286/610 /content/yolov8/Solar_Panel-3/test/images/PV03_318620_1218774_jpg.rf.ee04e898f750a96fb576d27b99e6cf4b.jpg: 640x640 2 Solar_Panels, 6.3ms\n",
            "image 287/610 /content/yolov8/Solar_Panel-3/test/images/PV03_318699_1191085_jpg.rf.2ff43deb8520e490865da5af261fb199.jpg: 640x640 1 Solar_Panel, 6.4ms\n",
            "image 288/610 /content/yolov8/Solar_Panel-3/test/images/PV03_318700_1191118_jpg.rf.46d5841b0cb6e62af68f6cba2c448465.jpg: 640x640 1 Solar_Panel, 6.9ms\n",
            "image 289/610 /content/yolov8/Solar_Panel-3/test/images/PV03_318727_1191085_jpg.rf.59d19bc0c95ebdf59ce73d548d14f336.jpg: 640x640 1 Solar_Panel, 6.3ms\n",
            "image 290/610 /content/yolov8/Solar_Panel-3/test/images/PV03_318728_1191150_jpg.rf.8cc472d57902b862bd13badea7cdbe46.jpg: 640x640 1 Solar_Panel, 7.4ms\n",
            "image 291/610 /content/yolov8/Solar_Panel-3/test/images/PV03_318731_1218712_jpg.rf.0f3c742ed1f566daf26b9e4b734a06f8.jpg: 640x640 3 Solar_Panels, 6.5ms\n",
            "image 292/610 /content/yolov8/Solar_Panel-3/test/images/PV03_318780_1203974_jpg.rf.441ea4159c15a34100af08e7d3ef1b49.jpg: 640x640 (no detections), 6.5ms\n",
            "image 293/610 /content/yolov8/Solar_Panel-3/test/images/PV03_318808_1203909_jpg.rf.3c38b019a3678afe26413d09e17a2f98.jpg: 640x640 5 Solar_Panels, 6.1ms\n",
            "image 294/610 /content/yolov8/Solar_Panel-3/test/images/PV03_318815_1218681_jpg.rf.dce97510f6464e6568d8f1ced786797d.jpg: 640x640 4 Solar_Panels, 6.4ms\n",
            "image 295/610 /content/yolov8/Solar_Panel-3/test/images/PV03_318843_1218682_jpg.rf.2bedbccb207db53e90938daa4b3e5ae9.jpg: 640x640 2 Solar_Panels, 6.5ms\n",
            "image 296/610 /content/yolov8/Solar_Panel-3/test/images/PV03_318871_1218650_jpg.rf.be2cea40b04944881743f9a68b3f2252.jpg: 640x640 4 Solar_Panels, 10.5ms\n",
            "image 297/610 /content/yolov8/Solar_Panel-3/test/images/PV03_318918_1204137_jpg.rf.9248b481f0a27d8e819d50d202842067.jpg: 640x640 1 Solar_Panel, 6.6ms\n",
            "image 298/610 /content/yolov8/Solar_Panel-3/test/images/PV03_318982_1218619_jpg.rf.11654839fc055b10caf278525e457bc2.jpg: 640x640 2 Solar_Panels, 7.3ms\n",
            "image 299/610 /content/yolov8/Solar_Panel-3/test/images/PV03_318983_1218587_jpg.rf.77c8a9d4f20908b872630b8917098ae6.jpg: 640x640 3 Solar_Panels, 9.1ms\n",
            "image 300/610 /content/yolov8/Solar_Panel-3/test/images/PV03_319010_1218588_jpg.rf.23c5aa543f080a9ed9fd3d239913194f.jpg: 640x640 5 Solar_Panels, 7.1ms\n",
            "image 301/610 /content/yolov8/Solar_Panel-3/test/images/PV03_319038_1218588_jpg.rf.30357915236162567d9e0183b58f314b.jpg: 640x640 5 Solar_Panels, 6.9ms\n",
            "image 302/610 /content/yolov8/Solar_Panel-3/test/images/PV03_319103_1217908_jpg.rf.68a3850d13bc8e1ee125692a11bbd836.jpg: 640x640 1 Solar_Panel, 6.9ms\n",
            "image 303/610 /content/yolov8/Solar_Panel-3/test/images/PV03_319104_1217843_jpg.rf.1d21cfafcaae818f0004821923928e48.jpg: 640x640 2 Solar_Panels, 6.9ms\n",
            "image 304/610 /content/yolov8/Solar_Panel-3/test/images/PV03_319104_1217875_jpg.rf.236ac5d34f6b99525120dac89c8c0074.jpg: 640x640 2 Solar_Panels, 6.5ms\n",
            "image 305/610 /content/yolov8/Solar_Panel-3/test/images/PV03_319105_1217778_jpg.rf.5c5d2eccbe5f062cd71512babdb89ed5.jpg: 640x640 1 Solar_Panel, 6.5ms\n",
            "image 306/610 /content/yolov8/Solar_Panel-3/test/images/PV03_319131_1217876_jpg.rf.ee3439ddf36f347067dec5995e09a394.jpg: 640x640 (no detections), 8.6ms\n",
            "image 307/610 /content/yolov8/Solar_Panel-3/test/images/PV03_319132_1217843_jpg.rf.6c46c40f27d1110fb32c413a42c79325.jpg: 640x640 2 Solar_Panels, 6.8ms\n",
            "image 308/610 /content/yolov8/Solar_Panel-3/test/images/PV03_319133_1217778_jpg.rf.bf0e2193a3f16dc339e07ce6b492232f.jpg: 640x640 1 Solar_Panel, 6.7ms\n",
            "image 309/610 /content/yolov8/Solar_Panel-3/test/images/PV03_319271_1194133_jpg.rf.a27704b12be0cdbc54d1defffb164107.jpg: 640x640 2 Solar_Panels, 7.2ms\n",
            "image 310/610 /content/yolov8/Solar_Panel-3/test/images/PV03_319271_1194166_jpg.rf.dd1d84cd7d5e54da0c5e79eb750af774.jpg: 640x640 4 Solar_Panels, 6.6ms\n",
            "image 311/610 /content/yolov8/Solar_Panel-3/test/images/PV03_319299_1194133_jpg.rf.2f24c5a10df3f098d4de0adf7bc17534.jpg: 640x640 2 Solar_Panels, 6.9ms\n",
            "image 312/610 /content/yolov8/Solar_Panel-3/test/images/PV03_319326_1193905_jpg.rf.ea94a098522e6b549cc3d77289bd140b.jpg: 640x640 1 Solar_Panel, 7.6ms\n",
            "image 313/610 /content/yolov8/Solar_Panel-3/test/images/PV03_319353_1193905_jpg.rf.62dca48a4203126ec21bbd56956b3398.jpg: 640x640 1 Solar_Panel, 6.5ms\n",
            "image 314/610 /content/yolov8/Solar_Panel-3/test/images/PV03_319353_1193938_jpg.rf.5cde3ba2f99716a61f822b541703bccd.jpg: 640x640 1 Solar_Panel, 6.8ms\n",
            "image 315/610 /content/yolov8/Solar_Panel-3/test/images/PV03_319354_1193970_jpg.rf.258141e13a661512d49040d9ebfb1123.jpg: 640x640 1 Solar_Panel, 10.8ms\n",
            "image 316/610 /content/yolov8/Solar_Panel-3/test/images/PV03_319355_1194197_jpg.rf.98453c77e2a23f218818cb98ccf6587c.jpg: 640x640 1 Solar_Panel, 6.6ms\n",
            "image 317/610 /content/yolov8/Solar_Panel-3/test/images/PV03_319355_1194262_jpg.rf.c54ab390761555e2cfa6fbc8c9ce6041.jpg: 640x640 2 Solar_Panels, 6.6ms\n",
            "image 318/610 /content/yolov8/Solar_Panel-3/test/images/PV03_319381_1193905_jpg.rf.efc100815df135d89de21bd47036ee6c.jpg: 640x640 1 Solar_Panel, 6.7ms\n",
            "image 319/610 /content/yolov8/Solar_Panel-3/test/images/PV03_319381_1193970_jpg.rf.eaa1f2e5327b8c5b1c03199158f77a04.jpg: 640x640 1 Solar_Panel, 8.6ms\n",
            "image 320/610 /content/yolov8/Solar_Panel-3/test/images/PV03_319409_1193937_jpg.rf.7e78096e53f2b0ab76c4456b454fbb47.jpg: 640x640 1 Solar_Panel, 6.8ms\n",
            "image 321/610 /content/yolov8/Solar_Panel-3/test/images/PV03_319476_1191208_jpg.rf.af12747f282ea31f9bc53d69f3b7500e.jpg: 640x640 2 Solar_Panels, 6.4ms\n",
            "image 322/610 /content/yolov8/Solar_Panel-3/test/images/PV03_319504_1191207_jpg.rf.e6d947e0edbdd556a3a85cb394e359b8.jpg: 640x640 1 Solar_Panel, 7.1ms\n",
            "image 323/610 /content/yolov8/Solar_Panel-3/test/images/PV03_319559_1191174_jpg.rf.628646869af5059b363cd953bbe3c8b6.jpg: 640x640 7 Solar_Panels, 6.5ms\n",
            "image 324/610 /content/yolov8/Solar_Panel-3/test/images/PV03_319599_1183960_jpg.rf.542deedc9435a4e6f2308f777c623d34.jpg: 640x640 1 Solar_Panel, 6.3ms\n",
            "image 325/610 /content/yolov8/Solar_Panel-3/test/images/PV03_319599_1183993_jpg.rf.b670b980888aeab0566fefe892c59033.jpg: 640x640 4 Solar_Panels, 12.0ms\n",
            "image 326/610 /content/yolov8/Solar_Panel-3/test/images/PV03_319615_1191271_jpg.rf.81696d2058ea74dcb7f035309aa3c7c1.jpg: 640x640 16 Solar_Panels, 10.0ms\n",
            "image 327/610 /content/yolov8/Solar_Panel-3/test/images/PV03_319627_1184025_jpg.rf.c49445390d18cac8145129766cbd0a8b.jpg: 640x640 5 Solar_Panels, 6.6ms\n",
            "image 328/610 /content/yolov8/Solar_Panel-3/test/images/PV03_319655_1184024_jpg.rf.837f9920fa7f218180dbc203ac2a8297.jpg: 640x640 1 Solar_Panel, 6.4ms\n",
            "image 329/610 /content/yolov8/Solar_Panel-3/test/images/PV03_319670_1191271_jpg.rf.431321f23c76ff2199d32e60fb2f8388.jpg: 640x640 2 Solar_Panels, 7.2ms\n",
            "image 330/610 /content/yolov8/Solar_Panel-3/test/images/PV03_319672_1191466_jpg.rf.7c79e6e960e9adb81ea972e9524d3847.jpg: 640x640 1 Solar_Panel, 6.8ms\n",
            "image 331/610 /content/yolov8/Solar_Panel-3/test/images/PV03_319699_1191368_jpg.rf.87d950570c9f25f74e4a4110a042624f.jpg: 640x640 4 Solar_Panels, 7.2ms\n",
            "image 332/610 /content/yolov8/Solar_Panel-3/test/images/PV03_319726_1191335_jpg.rf.703306be2069008b367f7d8f58e0ec7d.jpg: 640x640 1 Solar_Panel, 6.4ms\n",
            "image 333/610 /content/yolov8/Solar_Panel-3/test/images/PV03_319726_1191368_jpg.rf.a575c3dfaa5ed082d18ed86733d74437.jpg: 640x640 16 Solar_Panels, 6.6ms\n",
            "image 334/610 /content/yolov8/Solar_Panel-3/test/images/PV03_319811_1191594_jpg.rf.6b05cb99de24564ecec3b849b3014a54.jpg: 640x640 8 Solar_Panels, 6.4ms\n",
            "image 335/610 /content/yolov8/Solar_Panel-3/test/images/PV03_319811_1191627_jpg.rf.c82e4c7dd2285122337de36041859a94.jpg: 640x640 1 Solar_Panel, 7.2ms\n",
            "image 336/610 /content/yolov8/Solar_Panel-3/test/images/PV03_320393_1199070_jpg.rf.fe1bdad77bed580925b3c043ba41c7ea.jpg: 640x640 2 Solar_Panels, 6.6ms\n",
            "image 337/610 /content/yolov8/Solar_Panel-3/test/images/PV03_320448_1199167_jpg.rf.a0e0e2a2a93bc9fda83e625afe02807e.jpg: 640x640 2 Solar_Panels, 7.2ms\n",
            "image 338/610 /content/yolov8/Solar_Panel-3/test/images/PV03_320725_1199004_jpg.rf.bd8de0b8a18cc212c6ae71445c1aca87.jpg: 640x640 6 Solar_Panels, 6.9ms\n",
            "image 339/610 /content/yolov8/Solar_Panel-3/test/images/PV03_321002_1198711_jpg.rf.ecbf6044ec08fcc1099ec7bbae0a3639.jpg: 640x640 1 Solar_Panel, 7.0ms\n",
            "image 340/610 /content/yolov8/Solar_Panel-3/test/images/PV03_321002_1198906_jpg.rf.d3b007f71af3945e8388caad3a2b413d.jpg: 640x640 (no detections), 7.5ms\n",
            "image 341/610 /content/yolov8/Solar_Panel-3/test/images/PV03_321030_1198906_jpg.rf.1a631e15d2c0c53e162a1a55377e6723.jpg: 640x640 1 Solar_Panel, 6.7ms\n",
            "image 342/610 /content/yolov8/Solar_Panel-3/test/images/PV03_321057_1198678_jpg.rf.e878497e5d6d9f995ee0447ad13b608f.jpg: 640x640 2 Solar_Panels, 7.3ms\n",
            "image 343/610 /content/yolov8/Solar_Panel-3/test/images/PV03_321273_1195943_jpg.rf.5d49e0cb080e1a57fc81f879fd70b6f7.jpg: 640x640 1 Solar_Panel, 6.9ms\n",
            "image 344/610 /content/yolov8/Solar_Panel-3/test/images/PV03_321278_1198483_jpg.rf.98a7141fd7a188ba20c16fc303348e25.jpg: 640x640 1 Solar_Panel, 6.9ms\n",
            "image 345/610 /content/yolov8/Solar_Panel-3/test/images/PV03_321334_1198450_jpg.rf.900573bd1140e78d7d223b8abbdfbc88.jpg: 640x640 1 Solar_Panel, 6.7ms\n",
            "image 346/610 /content/yolov8/Solar_Panel-3/test/images/PV03_321888_1198547_jpg.rf.42451284d7bc7bf7944b29b52139b4fc.jpg: 640x640 1 Solar_Panel, 6.8ms\n",
            "image 347/610 /content/yolov8/Solar_Panel-3/test/images/PV03_322295_1190301_jpg.rf.e77871e72f964a231292424dc18d6b3c.jpg: 640x640 3 Solar_Panels, 6.6ms\n",
            "image 348/610 /content/yolov8/Solar_Panel-3/test/images/PV03_322323_1190398_jpg.rf.83965e7aae579db40da3d0d3fa3a6ab2.jpg: 640x640 1 Solar_Panel, 38.2ms\n",
            "image 349/610 /content/yolov8/Solar_Panel-3/test/images/PV03_322338_1213962_jpg.rf.a95665251a85bd0ae19c5f9a061cc9aa.jpg: 640x640 4 Solar_Panels, 9.0ms\n",
            "image 350/610 /content/yolov8/Solar_Panel-3/test/images/PV03_322351_1190365_jpg.rf.6ba60f28f9f70b545a5d2deceb67de81.jpg: 640x640 2 Solar_Panels, 6.7ms\n",
            "image 351/610 /content/yolov8/Solar_Panel-3/test/images/PV03_322357_1197405_jpg.rf.d434d85ed4d6c4807e2eec7e3f76e35f.jpg: 640x640 2 Solar_Panels, 6.5ms\n",
            "image 352/610 /content/yolov8/Solar_Panel-3/test/images/PV03_322441_1197666_jpg.rf.05a97b7b1faba43a267b31bc80b4a750.jpg: 640x640 3 Solar_Panels, 6.5ms\n",
            "image 353/610 /content/yolov8/Solar_Panel-3/test/images/PV03_322534_1192971_jpg.rf.339dbde381e0c424f53c6a334e9d7364.jpg: 640x640 2 Solar_Panels, 6.4ms\n",
            "image 354/610 /content/yolov8/Solar_Panel-3/test/images/PV03_322635_1198154_jpg.rf.0702b43784fe5a282a5857e6bd0de1ea.jpg: 640x640 (no detections), 6.4ms\n",
            "image 355/610 /content/yolov8/Solar_Panel-3/test/images/PV03_322663_1198089_jpg.rf.79a02185d74a5203b0fa499f395071f2.jpg: 640x640 4 Solar_Panels, 7.0ms\n",
            "image 356/610 /content/yolov8/Solar_Panel-3/test/images/PV03_322773_1197567_jpg.rf.f268713aba9df55a63dfb7e29e967866.jpg: 640x640 1 Solar_Panel, 6.9ms\n",
            "image 357/610 /content/yolov8/Solar_Panel-3/test/images/PV03_322774_1197991_jpg.rf.f678731bd43febc25fb26535c590fe25.jpg: 640x640 (no detections), 6.5ms\n",
            "image 358/610 /content/yolov8/Solar_Panel-3/test/images/PV03_323777_1214115_jpg.rf.38cb030a84e1f92e983b6ac286596d17.jpg: 640x640 2 Solar_Panels, 6.6ms\n",
            "image 359/610 /content/yolov8/Solar_Panel-3/test/images/PV03_323918_1213823_jpg.rf.402fbe9ab77efafd4ddbe6514c04ad27.jpg: 640x640 2 Solar_Panels, 6.5ms\n",
            "image 360/610 /content/yolov8/Solar_Panel-3/test/images/PV03_324751_1189163_jpg.rf.2a220c5370eb71f134b3e085dafa26c6.jpg: 640x640 1 Solar_Panel, 6.7ms\n",
            "image 361/610 /content/yolov8/Solar_Panel-3/test/images/PV03_325130_1200798_jpg.rf.ee66bd7b9d15e9661156385a4595122c.jpg: 640x640 2 Solar_Panels, 7.4ms\n",
            "image 362/610 /content/yolov8/Solar_Panel-3/test/images/PV03_325136_1211129_jpg.rf.61ca69378f986956b4eaa6d701feb8a6.jpg: 640x640 1 Solar_Panel, 6.5ms\n",
            "image 363/610 /content/yolov8/Solar_Panel-3/test/images/PV03_325220_1210999_jpg.rf.058ff15a6a2c757068dc9d914063f789.jpg: 640x640 1 Solar_Panel, 6.8ms\n",
            "image 364/610 /content/yolov8/Solar_Panel-3/test/images/PV03_325222_1210770_jpg.rf.1e89cd1431e69235428d6abc6596d5af.jpg: 640x640 3 Solar_Panels, 6.4ms\n",
            "image 365/610 /content/yolov8/Solar_Panel-3/test/images/PV03_325222_1210803_jpg.rf.809127c7311da108f55772096e2bb0a3.jpg: 640x640 1 Solar_Panel, 11.1ms\n",
            "image 366/610 /content/yolov8/Solar_Panel-3/test/images/PV03_325223_1210737_jpg.rf.4a9343756d4deaa0f1dbb88752ec8ae0.jpg: 640x640 1 Solar_Panel, 7.1ms\n",
            "image 367/610 /content/yolov8/Solar_Panel-3/test/images/PV03_325236_1203479_jpg.rf.c3e8fefc1413a360796f35b7546c0af3.jpg: 640x640 1 Solar_Panel, 9.4ms\n",
            "image 368/610 /content/yolov8/Solar_Panel-3/test/images/PV03_325249_1210868_jpg.rf.f11468f82ae46ce192b28379de974b0a.jpg: 640x640 2 Solar_Panels, 6.9ms\n",
            "image 369/610 /content/yolov8/Solar_Panel-3/test/images/PV03_325251_1210672_jpg.rf.f00775f28115918e8f2c2d88323f0e35.jpg: 640x640 2 Solar_Panels, 6.7ms\n",
            "image 370/610 /content/yolov8/Solar_Panel-3/test/images/PV03_325268_1191544_jpg.rf.ce40d83730336177c4e89c923a9f91a2.jpg: 640x640 4 Solar_Panels, 6.7ms\n",
            "image 371/610 /content/yolov8/Solar_Panel-3/test/images/PV03_325278_1210803_jpg.rf.dc358e9a035b519edffc921ae276ac93.jpg: 640x640 2 Solar_Panels, 7.3ms\n",
            "image 372/610 /content/yolov8/Solar_Panel-3/test/images/PV03_325307_1210575_jpg.rf.638a65507becabbc536b04fd3d7f84d0.jpg: 640x640 3 Solar_Panels, 6.6ms\n",
            "image 373/610 /content/yolov8/Solar_Panel-3/test/images/PV03_325325_1191772_jpg.rf.6347a53b3bea66f7d18bdf506e3e61e4.jpg: 640x640 9 Solar_Panels, 6.8ms\n",
            "image 374/610 /content/yolov8/Solar_Panel-3/test/images/PV03_325340_1205376_jpg.rf.42eea93b4939f4583805babaeb452165.jpg: 640x640 3 Solar_Panels, 6.6ms\n",
            "image 375/610 /content/yolov8/Solar_Panel-3/test/images/PV03_325380_1191772_jpg.rf.10425af74e3c757b7349d85449478421.jpg: 640x640 10 Solar_Panels, 6.6ms\n",
            "image 376/610 /content/yolov8/Solar_Panel-3/test/images/PV03_325396_1205344_jpg.rf.0fcc11af972783f00dd32e61c21e73ed.jpg: 640x640 (no detections), 7.9ms\n",
            "image 377/610 /content/yolov8/Solar_Panel-3/test/images/PV03_325701_1205280_jpg.rf.312d7a120509b65f26dc4e091f904ad2.jpg: 640x640 2 Solar_Panels, 6.6ms\n",
            "image 378/610 /content/yolov8/Solar_Panel-3/test/images/PV03_325739_1198508_jpg.rf.851a37728ecd1848402e079d3cd3660d.jpg: 640x640 4 Solar_Panels, 8.5ms\n",
            "image 379/610 /content/yolov8/Solar_Panel-3/test/images/PV03_325849_1198148_jpg.rf.cac1e969d8161cc7d90b2e475d025a51.jpg: 640x640 7 Solar_Panels, 7.0ms\n",
            "image 380/610 /content/yolov8/Solar_Panel-3/test/images/PV03_326424_1209442_jpg.rf.55088814f45928b2db4dfc6e9ad0e38f.jpg: 640x640 2 Solar_Panels, 6.8ms\n",
            "image 381/610 /content/yolov8/Solar_Panel-3/test/images/PV03_326450_1209672_jpg.rf.72f6278e1fc25d04419305c5c1d957cb.jpg: 640x640 6 Solar_Panels, 6.5ms\n",
            "image 382/610 /content/yolov8/Solar_Panel-3/test/images/PV03_326450_1209704_jpg.rf.b78e6d8c15cdaf6d8689eccdee34d768.jpg: 640x640 1 Solar_Panel, 6.6ms\n",
            "image 383/610 /content/yolov8/Solar_Panel-3/test/images/PV03_326451_1209541_jpg.rf.c165d392ed0269603da1a95b69d4e894.jpg: 640x640 4 Solar_Panels, 6.6ms\n",
            "image 384/610 /content/yolov8/Solar_Panel-3/test/images/PV03_326452_1209442_jpg.rf.95294fef911c3989286a68ebe9db1a42.jpg: 640x640 2 Solar_Panels, 7.0ms\n",
            "image 385/610 /content/yolov8/Solar_Panel-3/test/images/PV03_326482_1209148_jpg.rf.b8a5d2bbd59688466884724ac284ec50.jpg: 640x640 1 Solar_Panel, 7.4ms\n",
            "image 386/610 /content/yolov8/Solar_Panel-3/test/images/PV03_326536_1204041_jpg.rf.d775ce9e07cb6f3e5d56c28ba88e5c28.jpg: 640x640 2 Solar_Panels, 6.9ms\n",
            "image 387/610 /content/yolov8/Solar_Panel-3/test/images/PV03_326564_1204106_jpg.rf.84af8b430f88e01591d9a679f0054c45.jpg: 640x640 2 Solar_Panels, 6.6ms\n",
            "image 388/610 /content/yolov8/Solar_Panel-3/test/images/PV03_326812_1209446_jpg.rf.4aa4c5f794650ddbbc55556c2a00ee5e.jpg: 640x640 6 Solar_Panels, 6.8ms\n",
            "image 389/610 /content/yolov8/Solar_Panel-3/test/images/PV03_327755_1209227_jpg.rf.c0568ea88ae16e688fa106d77e62f0c5.jpg: 640x640 4 Solar_Panels, 6.7ms\n",
            "image 390/610 /content/yolov8/Solar_Panel-3/test/images/PV03_327838_1209228_jpg.rf.08bc23f825dfe339f378099f2390cfe7.jpg: 640x640 4 Solar_Panels, 7.5ms\n",
            "image 391/610 /content/yolov8/Solar_Panel-3/test/images/PV03_328032_1209295_jpg.rf.cc3afde46ab8c2a70264cf83b1dd2723.jpg: 640x640 2 Solar_Panels, 6.7ms\n",
            "image 392/610 /content/yolov8/Solar_Panel-3/test/images/PV03_328129_1186203_jpg.rf.732b100b1f8cc6cd98bf873fe1e10ff0.jpg: 640x640 2 Solar_Panels, 8.7ms\n",
            "image 393/610 /content/yolov8/Solar_Panel-3/test/images/PV03_328156_1186170_jpg.rf.608a493830948af9ee27ddad8cf413d2.jpg: 640x640 2 Solar_Panels, 6.8ms\n",
            "image 394/610 /content/yolov8/Solar_Panel-3/test/images/PV03_328172_1196470_jpg.rf.bb5df1dbd3bddc46f1d9d85037da3eb1.jpg: 640x640 (no detections), 6.5ms\n",
            "image 395/610 /content/yolov8/Solar_Panel-3/test/images/PV03_328211_1186104_jpg.rf.f2f1a647b86c7a34950ba1394e3a3850.jpg: 640x640 3 Solar_Panels, 6.3ms\n",
            "image 396/610 /content/yolov8/Solar_Panel-3/test/images/PV03_328596_1192202_jpg.rf.0c4e9308b855e432b6bd0523a8d971c8.jpg: 640x640 2 Solar_Panels, 6.5ms\n",
            "image 397/610 /content/yolov8/Solar_Panel-3/test/images/PV03_329401_1192457_jpg.rf.1d13040801fe20070e3affef5824d883.jpg: 640x640 1 Solar_Panel, 7.9ms\n",
            "image 398/610 /content/yolov8/Solar_Panel-3/test/images/PV03_329428_1192424_jpg.rf.2e1e2829d7530e020f98179a19d7dc51.jpg: 640x640 6 Solar_Panels, 8.5ms\n",
            "image 399/610 /content/yolov8/Solar_Panel-3/test/images/PV03_329429_1192589_jpg.rf.4f84b295faf6beb9a0bb2ba52a71b765.jpg: 640x640 2 Solar_Panels, 6.8ms\n",
            "image 400/610 /content/yolov8/Solar_Panel-3/test/images/PV03_329539_1192423_jpg.rf.c3182013ea149c098eed7e3e03d76543.jpg: 640x640 4 Solar_Panels, 6.5ms\n",
            "image 401/610 /content/yolov8/Solar_Panel-3/test/images/PV03_329641_1196727_jpg.rf.30719ebcd9893c0c27364db67be18861.jpg: 640x640 3 Solar_Panels, 6.7ms\n",
            "image 402/610 /content/yolov8/Solar_Panel-3/test/images/PV03_329667_1196070_jpg.rf.b87c462134890da5b6edcc6271910f1c.jpg: 640x640 1 Solar_Panel, 6.9ms\n",
            "image 403/610 /content/yolov8/Solar_Panel-3/test/images/PV03_329671_1197581_jpg.rf.3e5f6d8995a5af65662a7653b50ab3b5.jpg: 640x640 (no detections), 8.6ms\n",
            "image 404/610 /content/yolov8/Solar_Panel-3/test/images/PV03_329698_1197548_jpg.rf.4d57f9ae0c53e7370c61c8bfb138828f.jpg: 640x640 1 Solar_Panel, 6.6ms\n",
            "image 405/610 /content/yolov8/Solar_Panel-3/test/images/PV03_329722_1196037_jpg.rf.5156cff5d0b875c5d9ec71b186acb520.jpg: 640x640 2 Solar_Panels, 6.8ms\n",
            "image 406/610 /content/yolov8/Solar_Panel-3/test/images/PV03_329723_1196267_jpg.rf.761eabc605f50badee74d188a82b4485.jpg: 640x640 1 Solar_Panel, 6.6ms\n",
            "image 407/610 /content/yolov8/Solar_Panel-3/test/images/PV03_329805_1196102_jpg.rf.9518cee814aeec13326b7fe183b7da79.jpg: 640x640 1 Solar_Panel, 8.2ms\n",
            "image 408/610 /content/yolov8/Solar_Panel-3/test/images/PV03_330390_1197316_jpg.rf.94f243e2654706a4f0b022912cd55159.jpg: 640x640 1 Solar_Panel, 9.7ms\n",
            "image 409/610 /content/yolov8/Solar_Panel-3/test/images/PV03_330390_1197382_jpg.rf.d645ebd14be76ea8bfdf2940a1c4f8b3.jpg: 640x640 2 Solar_Panels, 6.7ms\n",
            "image 410/610 /content/yolov8/Solar_Panel-3/test/images/PV03_330399_1192580_jpg.rf.314ba72bab71e4c888da88812695949c.jpg: 640x640 2 Solar_Panels, 7.0ms\n",
            "image 411/610 /content/yolov8/Solar_Panel-3/test/images/PV03_330474_1197415_jpg.rf.247065b8617e2e6215598d13c35ab547.jpg: 640x640 5 Solar_Panels, 6.4ms\n",
            "image 412/610 /content/yolov8/Solar_Panel-3/test/images/PV03_331088_1192015_jpg.rf.3e4054d4e5c6d5778be40f2250c81a6c.jpg: 640x640 1 Solar_Panel, 6.5ms\n",
            "image 413/610 /content/yolov8/Solar_Panel-3/test/images/PV03_331105_1190567_jpg.rf.9bd4615b533110650b7e93e474ba1465.jpg: 640x640 1 Solar_Panel, 10.1ms\n",
            "image 414/610 /content/yolov8/Solar_Panel-3/test/images/PV03_331142_1208209_jpg.rf.d609efe1a9c850cf9df2a76dc6dae020.jpg: 640x640 1 Solar_Panel, 6.3ms\n",
            "image 415/610 /content/yolov8/Solar_Panel-3/test/images/PV03_331298_1190433_jpg.rf.6e750caff8f5437c19487397fe36ede6.jpg: 640x640 2 Solar_Panels, 6.5ms\n",
            "image 416/610 /content/yolov8/Solar_Panel-3/test/images/PV03_331307_1208342_jpg.rf.aeb5ff1f9964ff1ff04fc5c16e8289a6.jpg: 640x640 6 Solar_Panels, 6.7ms\n",
            "image 417/610 /content/yolov8/Solar_Panel-3/test/images/PV03_331334_1208375_jpg.rf.9210c8be114218b04ccce15ff3a94247.jpg: 640x640 1 Solar_Panel, 6.5ms\n",
            "image 418/610 /content/yolov8/Solar_Panel-3/test/images/PV03_331341_1192704_jpg.rf.c7fcd5c80297cca5fc2377321f0783d3.jpg: 640x640 4 Solar_Panels, 9.5ms\n",
            "image 419/610 /content/yolov8/Solar_Panel-3/test/images/PV03_331368_1192539_jpg.rf.0628cf2c52fe25aba736f2f93d51d45c.jpg: 640x640 3 Solar_Panels, 6.6ms\n",
            "image 420/610 /content/yolov8/Solar_Panel-3/test/images/PV03_331379_1190202_jpg.rf.eed4a501705d5c99ae96e936a90f624a.jpg: 640x640 3 Solar_Panels, 6.7ms\n",
            "image 421/610 /content/yolov8/Solar_Panel-3/test/images/PV03_331387_1197313_jpg.rf.6f3de9dfdf47e6a5ced0847b0f22d4f3.jpg: 640x640 2 Solar_Panels, 6.6ms\n",
            "image 422/610 /content/yolov8/Solar_Panel-3/test/images/PV03_331415_1197214_jpg.rf.9ff7996ae5a03ff8da7cc71a9e87aaa9.jpg: 640x640 3 Solar_Panels, 6.6ms\n",
            "image 423/610 /content/yolov8/Solar_Panel-3/test/images/PV03_331434_1190102_jpg.rf.ce6d6c550178828d12b2c3de5ae3f435.jpg: 640x640 1 Solar_Panel, 6.8ms\n",
            "image 424/610 /content/yolov8/Solar_Panel-3/test/images/PV03_331435_1190168_jpg.rf.b6fc9cd1bebcc3667f6c5f2eba67708c.jpg: 640x640 1 Solar_Panel, 6.7ms\n",
            "image 425/610 /content/yolov8/Solar_Panel-3/test/images/PV03_331451_1192605_jpg.rf.38f157aede3bcfaf42d701bdcb4f9392.jpg: 640x640 2 Solar_Panels, 7.5ms\n",
            "image 426/610 /content/yolov8/Solar_Panel-3/test/images/PV03_331489_1190069_jpg.rf.da34628832d3f3624cc656c9e2cca87d.jpg: 640x640 1 Solar_Panel, 6.5ms\n",
            "image 427/610 /content/yolov8/Solar_Panel-3/test/images/PV03_331496_1187764_jpg.rf.36a0e1f9db18735e1f3674922f399601.jpg: 640x640 9 Solar_Panels, 6.4ms\n",
            "image 428/610 /content/yolov8/Solar_Panel-3/test/images/PV03_331511_1189311_jpg.rf.f6b9f9f5bb7749c9461460850c8fb880.jpg: 640x640 1 Solar_Panel, 6.3ms\n",
            "image 429/610 /content/yolov8/Solar_Panel-3/test/images/PV03_331511_1189344_jpg.rf.384846a12fbc608c6d5361f1da80673a.jpg: 640x640 5 Solar_Panels, 6.5ms\n",
            "image 430/610 /content/yolov8/Solar_Panel-3/test/images/PV03_331512_1189443_jpg.rf.149d05eef0e69e8c8aa284d4e5f5a8a0.jpg: 640x640 7 Solar_Panels, 6.5ms\n",
            "image 431/610 /content/yolov8/Solar_Panel-3/test/images/PV03_331753_1192075_jpg.rf.c0c5a72e3b00cbee7d6754219befeb42.jpg: 640x640 2 Solar_Panels, 7.3ms\n",
            "image 432/610 /content/yolov8/Solar_Panel-3/test/images/PV03_331781_1192075_jpg.rf.6cfb380dea5b40149da109bf1111b9df.jpg: 640x640 2 Solar_Panels, 6.6ms\n",
            "image 433/610 /content/yolov8/Solar_Panel-3/test/images/PV03_331847_1180480_jpg.rf.70c0c8c4eb7c23f25a11255548e6fca8.jpg: 640x640 2 Solar_Panels, 6.7ms\n",
            "image 434/610 /content/yolov8/Solar_Panel-3/test/images/PV03_332036_1180213_jpg.rf.3d3f113e16325ae8dad1f32002c34b54.jpg: 640x640 3 Solar_Panels, 6.9ms\n",
            "image 435/610 /content/yolov8/Solar_Panel-3/test/images/PV03_332229_1207065_jpg.rf.09278d6222d4461c63f4f618558b5b6d.jpg: 640x640 16 Solar_Panels, 6.6ms\n",
            "image 436/610 /content/yolov8/Solar_Panel-3/test/images/PV03_332357_1179513_jpg.rf.42e05682cded8f71d0aa6f737b56d8ef.jpg: 640x640 1 Solar_Panel, 9.0ms\n",
            "image 437/610 /content/yolov8/Solar_Panel-3/test/images/PV03_333156_1195790_jpg.rf.cea9d201cb945acb6f5c642a4a3148b8.jpg: 640x640 1 Solar_Panel, 7.4ms\n",
            "image 438/610 /content/yolov8/Solar_Panel-3/test/images/PV03_333348_1180876_jpg.rf.954117ddafe004ee899b7bd02de97f56.jpg: 640x640 2 Solar_Panels, 7.1ms\n",
            "image 439/610 /content/yolov8/Solar_Panel-3/test/images/PV03_333791_1195292_jpg.rf.21b996220c77cae919c97493b9da3789.jpg: 640x640 1 Solar_Panel, 6.7ms\n",
            "image 440/610 /content/yolov8/Solar_Panel-3/test/images/PV03_333791_1195358_jpg.rf.5393136cbb7f452570d91befcdc886ee.jpg: 640x640 1 Solar_Panel, 6.8ms\n",
            "image 441/610 /content/yolov8/Solar_Panel-3/test/images/PV03_333819_1195292_jpg.rf.15823135df5f7cf0fb3edc5945af3ed4.jpg: 640x640 2 Solar_Panels, 6.8ms\n",
            "image 442/610 /content/yolov8/Solar_Panel-3/test/images/PV03_333847_1195292_jpg.rf.16e6e10a62a304a7286f94e68a5b61bb.jpg: 640x640 1 Solar_Panel, 7.3ms\n",
            "image 443/610 /content/yolov8/Solar_Panel-3/test/images/PV03_334077_1181454_jpg.rf.7c012e5cdc657cb0a6d6fb60ea961d1d.jpg: 640x640 1 Solar_Panel, 6.2ms\n",
            "image 444/610 /content/yolov8/Solar_Panel-3/test/images/PV03_334237_1181087_jpg.rf.594676bd622b946452b976459d8e5f22.jpg: 640x640 1 Solar_Panel, 6.7ms\n",
            "image 445/610 /content/yolov8/Solar_Panel-3/test/images/PV03_334265_1181087_jpg.rf.51cc89d95d47acf345f98d783db87398.jpg: 640x640 1 Solar_Panel, 6.6ms\n",
            "image 446/610 /content/yolov8/Solar_Panel-3/test/images/PV03_334373_1180919_jpg.rf.f614432d7c8f001bf0c11a430c327023.jpg: 640x640 1 Solar_Panel, 6.7ms\n",
            "image 447/610 /content/yolov8/Solar_Panel-3/test/images/PV03_334465_1183428_jpg.rf.868faee5eeaa4bb29bcca70d00a6a5af.jpg: 640x640 3 Solar_Panels, 6.4ms\n",
            "image 448/610 /content/yolov8/Solar_Panel-3/test/images/PV03_334816_1190527_jpg.rf.0f85902f03f8fd9aaf53a13b9c650eb7.jpg: 640x640 2 Solar_Panels, 6.5ms\n",
            "image 449/610 /content/yolov8/Solar_Panel-3/test/images/PV03_334818_1190791_jpg.rf.a733fbedc767670b0dd4310fe3705570.jpg: 640x640 1 Solar_Panel, 6.4ms\n",
            "image 450/610 /content/yolov8/Solar_Panel-3/test/images/PV03_334849_1196939_jpg.rf.cc610d0f642d06a863d7504d1001a794.jpg: 640x640 2 Solar_Panels, 6.8ms\n",
            "image 451/610 /content/yolov8/Solar_Panel-3/test/images/PV03_334876_1196840_jpg.rf.c03f2b3b5c04fd88d8a569644cf9b64a.jpg: 640x640 3 Solar_Panels, 6.6ms\n",
            "image 452/610 /content/yolov8/Solar_Panel-3/test/images/PV03_334904_1196807_jpg.rf.1e893e5c42e262b389e7ca6365c0c0f1.jpg: 640x640 2 Solar_Panels, 6.7ms\n",
            "image 453/610 /content/yolov8/Solar_Panel-3/test/images/PV03_334931_1196707_jpg.rf.6e3232d704d2af6e622e47b6f7893174.jpg: 640x640 2 Solar_Panels, 6.7ms\n",
            "image 454/610 /content/yolov8/Solar_Panel-3/test/images/PV03_334932_1196806_jpg.rf.5035842874344a10e13c0c2f224b024e.jpg: 640x640 2 Solar_Panels, 6.7ms\n",
            "image 455/610 /content/yolov8/Solar_Panel-3/test/images/PV03_334932_1196906_jpg.rf.065e6cfee7fec537534938286cda95b2.jpg: 640x640 5 Solar_Panels, 6.9ms\n",
            "image 456/610 /content/yolov8/Solar_Panel-3/test/images/PV03_334959_1196839_jpg.rf.7fc9d49b5786cf89fe3ed2a57bfde4a4.jpg: 640x640 2 Solar_Panels, 6.5ms\n",
            "image 457/610 /content/yolov8/Solar_Panel-3/test/images/PV03_335850_1191806_jpg.rf.f7948b59309e1ddd0045b1066a068ba8.jpg: 640x640 1 Solar_Panel, 6.6ms\n",
            "image 458/610 /content/yolov8/Solar_Panel-3/test/images/PV03_335881_1181713_jpg.rf.1d2604db65a295388a43dd7e1f907351.jpg: 640x640 2 Solar_Panels, 7.2ms\n",
            "image 459/610 /content/yolov8/Solar_Panel-3/test/images/PV03_336094_1196570_jpg.rf.dd71e93f7a7e270ade3859da49eab885.jpg: 640x640 3 Solar_Panels, 10.5ms\n",
            "image 460/610 /content/yolov8/Solar_Panel-3/test/images/PV03_336975_1184804_jpg.rf.6774b0a3a1fc9fa02438e55b7cf33876.jpg: 640x640 2 Solar_Panels, 7.1ms\n",
            "image 461/610 /content/yolov8/Solar_Panel-3/test/images/PV03_337668_1182770_jpg.rf.2993f4b36a055bc4958d541e3e9eb40c.jpg: 640x640 1 Solar_Panel, 7.2ms\n",
            "image 462/610 /content/yolov8/Solar_Panel-3/test/images/PV03_337723_1182735_jpg.rf.ae7ab7830192ec0064382e498079feed.jpg: 640x640 3 Solar_Panels, 7.0ms\n",
            "image 463/610 /content/yolov8/Solar_Panel-3/test/images/PV03_337851_1178521_jpg.rf.2a6c88f3bf269dbb92f6b6e6774d5b94.jpg: 640x640 1 Solar_Panel, 6.4ms\n",
            "image 464/610 /content/yolov8/Solar_Panel-3/test/images/PV03_338035_1197326_jpg.rf.2398313efc5233fb80adf1eb01c97ab7.jpg: 640x640 4 Solar_Panels, 6.7ms\n",
            "image 465/610 /content/yolov8/Solar_Panel-3/test/images/PV03_338060_1196364_jpg.rf.a2bd65ac60717a04779c758752d6662e.jpg: 640x640 5 Solar_Panels, 9.9ms\n",
            "image 466/610 /content/yolov8/Solar_Panel-3/test/images/PV03_338088_1196363_jpg.rf.4163e2ab5dab8f3cd51e603ebc9a63ba.jpg: 640x640 1 Solar_Panel, 6.6ms\n",
            "image 467/610 /content/yolov8/Solar_Panel-3/test/images/PV03_338090_1197292_jpg.rf.7816b789c4988b7952088faa017f6e92.jpg: 640x640 2 Solar_Panels, 6.5ms\n",
            "image 468/610 /content/yolov8/Solar_Panel-3/test/images/PV03_338108_1184652_jpg.rf.45d7c25b2c858a9e36b373eab3b84460.jpg: 640x640 1 Solar_Panel, 7.0ms\n",
            "image 469/610 /content/yolov8/Solar_Panel-3/test/images/PV03_338133_1178813_jpg.rf.2f7ec243127507df7e7dcba633f65e3f.jpg: 640x640 (no detections), 6.7ms\n",
            "image 470/610 /content/yolov8/Solar_Panel-3/test/images/PV03_338278_1204626_jpg.rf.f43bda558a2f6883ac4552588d35aae5.jpg: 640x640 3 Solar_Panels, 6.8ms\n",
            "image 471/610 /content/yolov8/Solar_Panel-3/test/images/PV03_338307_1204427_jpg.rf.78bcc599cffedbb92a6b556083dd911b.jpg: 640x640 1 Solar_Panel, 7.7ms\n",
            "image 472/610 /content/yolov8/Solar_Panel-3/test/images/PV03_338657_1186601_jpg.rf.00d99199c0589ce0f041bf2d078f0e29.jpg: 640x640 2 Solar_Panels, 6.5ms\n",
            "image 473/610 /content/yolov8/Solar_Panel-3/test/images/PV03_338685_1186633_jpg.rf.ce64a9e66a46f0e7c79459e79094102e.jpg: 640x640 1 Solar_Panel, 6.4ms\n",
            "image 474/610 /content/yolov8/Solar_Panel-3/test/images/PV03_338971_1184968_jpg.rf.a6d6b1a2aebc48daa7ea48710a54d6eb.jpg: 640x640 1 Solar_Panel, 6.7ms\n",
            "image 475/610 /content/yolov8/Solar_Panel-3/test/images/PV03_339279_1185295_jpg.rf.ea24b7a4bdc20508746407449fda867b.jpg: 640x640 2 Solar_Panels, 9.1ms\n",
            "image 476/610 /content/yolov8/Solar_Panel-3/test/images/PV03_339325_1184497_jpg.rf.0912af6cb08d87daebcabce74811fbd5.jpg: 640x640 2 Solar_Panels, 10.2ms\n",
            "image 477/610 /content/yolov8/Solar_Panel-3/test/images/PV03_340120_1186145_jpg.rf.549d62ff698c8ed29eeab3badbd7eba0.jpg: 640x640 7 Solar_Panels, 6.5ms\n",
            "image 478/610 /content/yolov8/Solar_Panel-3/test/images/PV03_340246_1195656_jpg.rf.cb4e399dc35b0789b5881fe952b1816e.jpg: 640x640 1 Solar_Panel, 7.0ms\n",
            "image 479/610 /content/yolov8/Solar_Panel-3/test/images/PV03_340268_1175966_jpg.rf.1711d3a2725e2055702e8c151db28de1.jpg: 640x640 1 Solar_Panel, 6.3ms\n",
            "image 480/610 /content/yolov8/Solar_Panel-3/test/images/PV03_340535_1186105_jpg.rf.3941f5162a614dd0e7bdfd697e3abf59.jpg: 640x640 1 Solar_Panel, 6.4ms\n",
            "image 481/610 /content/yolov8/Solar_Panel-3/test/images/PV03_340591_1186171_jpg.rf.7ed1a24e58843aa8b86ed33ebddf3888.jpg: 640x640 7 Solar_Panels, 7.2ms\n",
            "image 482/610 /content/yolov8/Solar_Panel-3/test/images/PV03_340647_1186203_jpg.rf.521407199bbd9ff37ca31be1be8826fe.jpg: 640x640 1 Solar_Panel, 6.7ms\n",
            "image 483/610 /content/yolov8/Solar_Panel-3/test/images/PV03_340743_1179280_jpg.rf.94d193007f05e23ef80f194845c86cf2.jpg: 640x640 2 Solar_Panels, 6.4ms\n",
            "image 484/610 /content/yolov8/Solar_Panel-3/test/images/PV03_340793_1175918_jpg.rf.ef324d21bedf8dd6cfc6d3d3003e7b7a.jpg: 640x640 1 Solar_Panel, 6.7ms\n",
            "image 485/610 /content/yolov8/Solar_Panel-3/test/images/PV03_341080_1196717_jpg.rf.79d65dbf064d1f0a391fecd282183a42.jpg: 640x640 1 Solar_Panel, 6.7ms\n",
            "image 486/610 /content/yolov8/Solar_Panel-3/test/images/PV03_341094_1177175_jpg.rf.8465fc6ad4111c76dd6a6f3a5bdf851e.jpg: 640x640 3 Solar_Panels, 6.8ms\n",
            "image 487/610 /content/yolov8/Solar_Panel-3/test/images/PV03_341151_1177273_jpg.rf.e4c883683520444657549266fda1aa47.jpg: 640x640 5 Solar_Panels, 6.6ms\n",
            "image 488/610 /content/yolov8/Solar_Panel-3/test/images/PV03_341721_1198980_jpg.rf.6a3f825e4e1a36bf79cddc5304434ff9.jpg: 640x640 1 Solar_Panel, 6.5ms\n",
            "image 489/610 /content/yolov8/Solar_Panel-3/test/images/PV03_342983_1173388_jpg.rf.1c2cce2f7e41f7b59d1559977d4587b7.jpg: 640x640 1 Solar_Panel, 7.0ms\n",
            "image 490/610 /content/yolov8/Solar_Panel-3/test/images/PV03_343013_1173487_jpg.rf.8f59b85a912818ce41d14739444e4367.jpg: 640x640 2 Solar_Panels, 7.0ms\n",
            "image 491/610 /content/yolov8/Solar_Panel-3/test/images/PV03_343040_1173452_jpg.rf.0574a6aa9cb354b4eb314f7b0f85075a.jpg: 640x640 2 Solar_Panels, 6.9ms\n",
            "image 492/610 /content/yolov8/Solar_Panel-3/test/images/PV03_343262_1195039_jpg.rf.6a9a5a99ad6fe9b0a07380af27b1ee6b.jpg: 640x640 4 Solar_Panels, 11.9ms\n",
            "image 493/610 /content/yolov8/Solar_Panel-3/test/images/PV03_343617_1184485_jpg.rf.c05b50322be941c726eb2ad5395adf41.jpg: 640x640 (no detections), 7.4ms\n",
            "image 494/610 /content/yolov8/Solar_Panel-3/test/images/PV03_344020_1199579_jpg.rf.5179ea41fc4b5b8046bfdaeda470c3e2.jpg: 640x640 2 Solar_Panels, 6.5ms\n",
            "image 495/610 /content/yolov8/Solar_Panel-3/test/images/PV03_344075_1199545_jpg.rf.c070353a8fc167953f7f23632e44b2bf.jpg: 640x640 5 Solar_Panels, 6.8ms\n",
            "image 496/610 /content/yolov8/Solar_Panel-3/test/images/PV03_344103_1199311_jpg.rf.b8d7b15b976b79e369ba72cae8a03826.jpg: 640x640 (no detections), 7.3ms\n",
            "image 497/610 /content/yolov8/Solar_Panel-3/test/images/PV03_344103_1199345_jpg.rf.9bba4b637392ae2d4d235b862228a769.jpg: 640x640 (no detections), 6.5ms\n",
            "image 498/610 /content/yolov8/Solar_Panel-3/test/images/PV03_344116_1173285_jpg.rf.8a10ad6276c8eb43aad3b3913a0eb500.jpg: 640x640 7 Solar_Panels, 7.5ms\n",
            "image 499/610 /content/yolov8/Solar_Panel-3/test/images/PV03_344119_1194667_jpg.rf.ea27f1ec8402b0a2fd1fe08b6f24ea73.jpg: 640x640 1 Solar_Panel, 7.2ms\n",
            "image 500/610 /content/yolov8/Solar_Panel-3/test/images/PV03_344198_1186813_jpg.rf.4fedfb4c3336aa6cc3197075ae7094d9.jpg: 640x640 1 Solar_Panel, 6.5ms\n",
            "image 501/610 /content/yolov8/Solar_Panel-3/test/images/PV03_344396_1187211_jpg.rf.7891d1284d35e6121a2ed9ce04d95c7d.jpg: 640x640 1 Solar_Panel, 6.3ms\n",
            "image 502/610 /content/yolov8/Solar_Panel-3/test/images/PV03_344451_1187144_jpg.rf.3c59c1145a8961d12e323e415e5e2fef.jpg: 640x640 1 Solar_Panel, 6.3ms\n",
            "image 503/610 /content/yolov8/Solar_Panel-3/test/images/PV03_344490_1198609_jpg.rf.ee7277fc2adcf93cc638483ead2ce4bc.jpg: 640x640 4 Solar_Panels, 6.2ms\n",
            "image 504/610 /content/yolov8/Solar_Panel-3/test/images/PV03_344714_1167183_jpg.rf.6ac49a6c54320bc23f0e3a1291533bfc.jpg: 640x640 5 Solar_Panels, 6.3ms\n",
            "image 505/610 /content/yolov8/Solar_Panel-3/test/images/PV03_346776_1190058_jpg.rf.2c0a9076e776050e21f5f9e0a8a802cd.jpg: 640x640 2 Solar_Panels, 6.4ms\n",
            "image 506/610 /content/yolov8/Solar_Panel-3/test/images/PV03_346911_1164583_jpg.rf.7fba4a42003c8c4815b40fad521ca2ba.jpg: 640x640 5 Solar_Panels, 6.7ms\n",
            "image 507/610 /content/yolov8/Solar_Panel-3/test/images/PV03_346961_1192670_jpg.rf.0485caa6e1e9989a495be23f223e536a.jpg: 640x640 3 Solar_Panels, 6.7ms\n",
            "image 508/610 /content/yolov8/Solar_Panel-3/test/images/PV03_347204_1191729_jpg.rf.ab31e95888d820ab764a13a2bdaeb821.jpg: 640x640 1 Solar_Panel, 6.8ms\n",
            "image 509/610 /content/yolov8/Solar_Panel-3/test/images/PV03_347284_1166042_jpg.rf.ddf53e0cd05079b6d1b2133eec1caddf.jpg: 640x640 (no detections), 8.2ms\n",
            "image 510/610 /content/yolov8/Solar_Panel-3/test/images/PV03_347343_1191761_jpg.rf.85045ee036e4518e1bae07b9f41efbe6.jpg: 640x640 4 Solar_Panels, 6.4ms\n",
            "image 511/610 /content/yolov8/Solar_Panel-3/test/images/PV03_347875_1166387_jpg.rf.29aef34c7df57e0d887f36564a153966.jpg: 640x640 5 Solar_Panels, 6.5ms\n",
            "image 512/610 /content/yolov8/Solar_Panel-3/test/images/PV03_347896_1191689_jpg.rf.579685fb0ba86551ffdfc1be0dee224f.jpg: 640x640 6 Solar_Panels, 6.4ms\n",
            "image 513/610 /content/yolov8/Solar_Panel-3/test/images/PV03_347946_1190950_jpg.rf.a1e1df08f773724391b83ece999cfb36.jpg: 640x640 1 Solar_Panel, 7.1ms\n",
            "image 514/610 /content/yolov8/Solar_Panel-3/test/images/PV03_347989_1166483_jpg.rf.a3df1ace1dcdbbe61276e371b0832d15.jpg: 640x640 4 Solar_Panels, 6.7ms\n",
            "image 515/610 /content/yolov8/Solar_Panel-3/test/images/PV03_348032_1191385_jpg.rf.fd5f28e64c21f7ce1d42870a7dd83255.jpg: 640x640 1 Solar_Panel, 6.4ms\n",
            "image 516/610 /content/yolov8/Solar_Panel-3/test/images/PV03_348033_1191419_jpg.rf.0b9193eac93591c5036cd58d14874645.jpg: 640x640 8 Solar_Panels, 6.2ms\n",
            "image 517/610 /content/yolov8/Solar_Panel-3/test/images/PV03_348091_1168224_jpg.rf.bea1bc1060784120bd84fb98482d9dc6.jpg: 640x640 3 Solar_Panels, 6.6ms\n",
            "image 518/610 /content/yolov8/Solar_Panel-3/test/images/PV03_348092_1168291_jpg.rf.c6db9fb3ea102e36c085d9e57acff180.jpg: 640x640 4 Solar_Panels, 6.6ms\n",
            "image 519/610 /content/yolov8/Solar_Panel-3/test/images/PV03_348148_1168289_jpg.rf.93c7e599e4ee3f5ab3fe3b2f2797ca92.jpg: 640x640 1 Solar_Panel, 6.4ms\n",
            "image 520/610 /content/yolov8/Solar_Panel-3/test/images/PV03_348517_1168644_jpg.rf.fd4afd5ed29ab54a5237a5cbca5be250.jpg: 640x640 1 Solar_Panel, 6.6ms\n",
            "image 521/610 /content/yolov8/Solar_Panel-3/test/images/PV03_348518_1168711_jpg.rf.808717dedbad413e7efac22415b6d317.jpg: 640x640 3 Solar_Panels, 6.2ms\n",
            "image 522/610 /content/yolov8/Solar_Panel-3/test/images/PV03_348576_1168810_jpg.rf.5fa7aa099d04690e985d9d4742bbdf7e.jpg: 640x640 1 Solar_Panel, 6.4ms\n",
            "image 523/610 /content/yolov8/Solar_Panel-3/test/images/PV03_349424_1168408_jpg.rf.909a7fe8f90eef41fbbb481076ecc155.jpg: 640x640 1 Solar_Panel, 6.6ms\n",
            "image 524/610 /content/yolov8/Solar_Panel-3/test/images/PV08_313806_1198546_jpg.rf.1edbebb59bd1e4932ed930ebd78e6c31.jpg: 640x640 6 Solar_Panels, 6.3ms\n",
            "image 525/610 /content/yolov8/Solar_Panel-3/test/images/PV08_315058_1196646_jpg.rf.90f8d8980d961822106def7f0bacb100.jpg: 640x640 6 Solar_Panels, 8.2ms\n",
            "image 526/610 /content/yolov8/Solar_Panel-3/test/images/PV08_315132_1196646_jpg.rf.99b1c8e516e1494d5f0f95663994f392.jpg: 640x640 5 Solar_Panels, 9.2ms\n",
            "image 527/610 /content/yolov8/Solar_Panel-3/test/images/PV08_315330_1208463_jpg.rf.f804ea37498d49445a91e5c2ae1ddab4.jpg: 640x640 6 Solar_Panels, 6.6ms\n",
            "image 528/610 /content/yolov8/Solar_Panel-3/test/images/PV08_316313_1203809_jpg.rf.a704095d06c2e496c960e2cd69ed4bbf.jpg: 640x640 5 Solar_Panels, 7.0ms\n",
            "image 529/610 /content/yolov8/Solar_Panel-3/test/images/PV08_318142_1207797_jpg.rf.bd627c84c78fe40ae29bdb2a9b16f118.jpg: 640x640 12 Solar_Panels, 10.1ms\n",
            "image 530/610 /content/yolov8/Solar_Panel-3/test/images/PV08_318159_1203903_jpg.rf.677fe667a89ccc7390d6be29106f39e2.jpg: 640x640 9 Solar_Panels, 6.6ms\n",
            "image 531/610 /content/yolov8/Solar_Panel-3/test/images/PV08_319073_1217937_jpg.rf.2215d361dc0f113dbe8483d8bec5e503.jpg: 640x640 2 Solar_Panels, 6.6ms\n",
            "image 532/610 /content/yolov8/Solar_Panel-3/test/images/PV08_319761_1191342_jpg.rf.941c3143f98661db06d685cc930ddbf3.jpg: 640x640 13 Solar_Panels, 7.0ms\n",
            "image 533/610 /content/yolov8/Solar_Panel-3/test/images/PV08_320381_1199056_jpg.rf.8ba6a1952d7a8c8b506fc23d1f94aa36.jpg: 640x640 1 Solar_Panel, 7.0ms\n",
            "image 534/610 /content/yolov8/Solar_Panel-3/test/images/PV08_321341_1198360_jpg.rf.b2321aeb115b42342e04621e11c8a7fa.jpg: 640x640 1 Solar_Panel, 6.7ms\n",
            "image 535/610 /content/yolov8/Solar_Panel-3/test/images/PV08_322077_1196882_jpg.rf.2cc09a7c04636355fcd35a4ff1363e01.jpg: 640x640 4 Solar_Panels, 6.7ms\n",
            "image 536/610 /content/yolov8/Solar_Panel-3/test/images/PV08_322266_1190363_jpg.rf.ef72289f41fc269ca173cbf62ec95ca3.jpg: 640x640 4 Solar_Panels, 7.0ms\n",
            "image 537/610 /content/yolov8/Solar_Panel-3/test/images/PV08_322373_1214004_jpg.rf.3c8ad80dd99702b9815e2ecb4bb9e17f.jpg: 640x640 2 Solar_Panels, 7.4ms\n",
            "image 538/610 /content/yolov8/Solar_Panel-3/test/images/PV08_322374_1197402_jpg.rf.3768a1d79231d2f3959c7638120dc0a2.jpg: 640x640 8 Solar_Panels, 7.3ms\n",
            "image 539/610 /content/yolov8/Solar_Panel-3/test/images/PV08_322499_1207921_jpg.rf.47813fca0aa32c6533b0e1ac5458ebfa.jpg: 640x640 (no detections), 6.8ms\n",
            "image 540/610 /content/yolov8/Solar_Panel-3/test/images/PV08_322597_1198271_jpg.rf.3c4be9f60c0180c5efb7e5b138626801.jpg: 640x640 1 Solar_Panel, 10.6ms\n",
            "image 541/610 /content/yolov8/Solar_Panel-3/test/images/PV08_323926_1213766_jpg.rf.48776830bd8ed85b87b19b498ec3f93e.jpg: 640x640 3 Solar_Panels, 6.6ms\n",
            "image 542/610 /content/yolov8/Solar_Panel-3/test/images/PV08_324881_1204194_jpg.rf.2774ecbd72ed194f2de0d6d3f47437b9.jpg: 640x640 1 Solar_Panel, 6.5ms\n",
            "image 543/610 /content/yolov8/Solar_Panel-3/test/images/PV08_325285_1210735_jpg.rf.ece52295298f3e9cbdbc0a7e4a407348.jpg: 640x640 4 Solar_Panels, 8.6ms\n",
            "image 544/610 /content/yolov8/Solar_Panel-3/test/images/PV08_325305_1191813_jpg.rf.7046d6df59e1d1fd049ec4d3a5bcc8f4.jpg: 640x640 10 Solar_Panels, 8.1ms\n",
            "image 545/610 /content/yolov8/Solar_Panel-3/test/images/PV08_325305_1191900_jpg.rf.c9aec4150476e7a9717813b924d5ce01.jpg: 640x640 53 Solar_Panels, 7.2ms\n",
            "image 546/610 /content/yolov8/Solar_Panel-3/test/images/PV08_325379_1191899_jpg.rf.522f443e9c6837f76c380a3ed465576d.jpg: 640x640 63 Solar_Panels, 7.1ms\n",
            "image 547/610 /content/yolov8/Solar_Panel-3/test/images/PV08_325700_1198701_jpg.rf.d4c5acca5c73a731199818c7814ac533.jpg: 640x640 8 Solar_Panels, 7.2ms\n",
            "image 548/610 /content/yolov8/Solar_Panel-3/test/images/PV08_325774_1198527_jpg.rf.81207405ec954d893c653f5adf8f2d63.jpg: 640x640 4 Solar_Panels, 7.2ms\n",
            "image 549/610 /content/yolov8/Solar_Panel-3/test/images/PV08_326365_1199311_jpg.rf.b9fd5aa4868eac31a6723375183d5777.jpg: 640x640 2 Solar_Panels, 7.1ms\n",
            "image 550/610 /content/yolov8/Solar_Panel-3/test/images/PV08_326478_1209353_jpg.rf.cd5f9ad25e02e17e0c8be5b3ae295fd7.jpg: 640x640 2 Solar_Panels, 6.2ms\n",
            "image 551/610 /content/yolov8/Solar_Panel-3/test/images/PV08_327808_1209367_jpg.rf.c76bd633d7128e2dbbf9a27cdabf6b59.jpg: 640x640 2 Solar_Panels, 6.3ms\n",
            "image 552/610 /content/yolov8/Solar_Panel-3/test/images/PV08_328210_1186188_jpg.rf.1a0eb4e92ac4283e50046880b7e186c2.jpg: 640x640 2 Solar_Panels, 6.6ms\n",
            "image 553/610 /content/yolov8/Solar_Panel-3/test/images/PV08_328877_1199747_jpg.rf.bbe151024bde572cb715cd92835b27dd.jpg: 640x640 2 Solar_Panels, 6.4ms\n",
            "image 554/610 /content/yolov8/Solar_Panel-3/test/images/PV08_329646_1189582_jpg.rf.80fe18dd76a236ee8ff0f5f17227f853.jpg: 640x640 2 Solar_Panels, 6.6ms\n",
            "image 555/610 /content/yolov8/Solar_Panel-3/test/images/PV08_329684_1196417_jpg.rf.25113d60a6baaa7684eb3b35988aa6c0.jpg: 640x640 2 Solar_Panels, 6.6ms\n",
            "image 556/610 /content/yolov8/Solar_Panel-3/test/images/PV08_329831_1196066_jpg.rf.45458f59fd7ce199cf89ddf3b6595893.jpg: 640x640 3 Solar_Panels, 6.8ms\n",
            "image 557/610 /content/yolov8/Solar_Panel-3/test/images/PV08_330406_1192555_jpg.rf.4025e3f809af970187f90e18ccc2d1ae.jpg: 640x640 5 Solar_Panels, 6.8ms\n",
            "image 558/610 /content/yolov8/Solar_Panel-3/test/images/PV08_331139_1208261_jpg.rf.7add349a15709eee514f877b3069de0a.jpg: 640x640 7 Solar_Panels, 6.7ms\n",
            "image 559/610 /content/yolov8/Solar_Panel-3/test/images/PV08_331288_1208174_jpg.rf.af3ae6ea159c6cac3cea0db213e9362c.jpg: 640x640 4 Solar_Panels, 6.8ms\n",
            "image 560/610 /content/yolov8/Solar_Panel-3/test/images/PV08_331385_1197288_jpg.rf.70eba2aa2a6e48c6c97db71cdee8bf1e.jpg: 640x640 7 Solar_Panels, 6.6ms\n",
            "image 561/610 /content/yolov8/Solar_Panel-3/test/images/PV08_331901_1180508_jpg.rf.c23fbfcee60f6781260895bfba192478.jpg: 640x640 2 Solar_Panels, 6.5ms\n",
            "image 562/610 /content/yolov8/Solar_Panel-3/test/images/PV08_332044_1180242_jpg.rf.bead49058dcdeb31d1e7a1ae89400169.jpg: 640x640 12 Solar_Panels, 14.8ms\n",
            "image 563/610 /content/yolov8/Solar_Panel-3/test/images/PV08_332121_1180416_jpg.rf.fe898e689768ea52ecaf249ce25dd623.jpg: 640x640 9 Solar_Panels, 10.4ms\n",
            "image 564/610 /content/yolov8/Solar_Panel-3/test/images/PV08_333228_1195787_jpg.rf.990d11cee9b9cd94cada00d087e8381b.jpg: 640x640 3 Solar_Panels, 11.5ms\n",
            "image 565/610 /content/yolov8/Solar_Panel-3/test/images/PV08_333799_1191910_jpg.rf.e151d86af6cf697dacd335277e607cc5.jpg: 640x640 4 Solar_Panels, 9.6ms\n",
            "image 566/610 /content/yolov8/Solar_Panel-3/test/images/PV08_333873_1191910_jpg.rf.0f3419ab9ef72063c0b8145b3f91fffd.jpg: 640x640 1 Solar_Panel, 11.9ms\n",
            "image 567/610 /content/yolov8/Solar_Panel-3/test/images/PV08_334343_1180894_jpg.rf.3063301c70ef061ad37afb47daf2cf48.jpg: 640x640 1 Solar_Panel, 9.5ms\n",
            "image 568/610 /content/yolov8/Solar_Panel-3/test/images/PV08_335952_1193744_jpg.rf.de65e4d10b2e3b3d3a590796670aa4c4.jpg: 640x640 9 Solar_Panels, 9.8ms\n",
            "image 569/610 /content/yolov8/Solar_Panel-3/test/images/PV08_336185_1196567_jpg.rf.04ad6ee82e7fb5bb87ea2cacd153bc57.jpg: 640x640 9 Solar_Panels, 8.8ms\n",
            "image 570/610 /content/yolov8/Solar_Panel-3/test/images/PV08_336250_1194271_jpg.rf.1076fa7f98e9f9557a8c820ba7eaca90.jpg: 640x640 2 Solar_Panels, 12.5ms\n",
            "image 571/610 /content/yolov8/Solar_Panel-3/test/images/PV08_336479_1203807_jpg.rf.96c46c97623982bc98b58e4fe38da595.jpg: 640x640 2 Solar_Panels, 8.7ms\n",
            "image 572/610 /content/yolov8/Solar_Panel-3/test/images/PV08_336617_1193739_jpg.rf.cd8920806dcaa18eab61e1a47645ff66.jpg: 640x640 2 Solar_Panels, 10.3ms\n",
            "image 573/610 /content/yolov8/Solar_Panel-3/test/images/PV08_337923_1178516_jpg.rf.6c5f1df972067bcfc4bb9f48fda40358.jpg: 640x640 3 Solar_Panels, 10.1ms\n",
            "image 574/610 /content/yolov8/Solar_Panel-3/test/images/PV08_338249_1204523_jpg.rf.5fcc3d8c1a369aa5cb2bce501bcd2a9e.jpg: 640x640 7 Solar_Panels, 9.7ms\n",
            "image 575/610 /content/yolov8/Solar_Panel-3/test/images/PV08_338323_1204435_jpg.rf.47262a2f8381190ab8f8b98e7415b6b6.jpg: 640x640 6 Solar_Panels, 9.1ms\n",
            "image 576/610 /content/yolov8/Solar_Panel-3/test/images/PV08_339345_1193010_jpg.rf.2deb94228752cb29f3a6040adea47e5a.jpg: 640x640 6 Solar_Panels, 8.7ms\n",
            "image 577/610 /content/yolov8/Solar_Panel-3/test/images/PV08_339349_1185124_jpg.rf.f4c91990497f1c7f573bb650075eaab5.jpg: 640x640 3 Solar_Panels, 11.9ms\n",
            "image 578/610 /content/yolov8/Solar_Panel-3/test/images/PV08_340100_1186175_jpg.rf.626907deff309600c48408044850ced3.jpg: 640x640 9 Solar_Panels, 10.6ms\n",
            "image 579/610 /content/yolov8/Solar_Panel-3/test/images/PV08_340236_1175886_jpg.rf.eab784449b2902c92b13ae26039ea21a.jpg: 640x640 6 Solar_Panels, 10.4ms\n",
            "image 580/610 /content/yolov8/Solar_Panel-3/test/images/PV08_340542_1186079_jpg.rf.29218cd7d36eb496e7951eb7a126f250.jpg: 640x640 2 Solar_Panels, 8.9ms\n",
            "image 581/610 /content/yolov8/Solar_Panel-3/test/images/PV08_342216_1184096_jpg.rf.77db0b8b542ce7b0033532e705d64ef5.jpg: 640x640 6 Solar_Panels, 8.8ms\n",
            "image 582/610 /content/yolov8/Solar_Panel-3/test/images/PV08_342289_1184006_jpg.rf.f015c1df4763b2d3d2a82966421ab050.jpg: 640x640 8 Solar_Panels, 9.3ms\n",
            "image 583/610 /content/yolov8/Solar_Panel-3/test/images/PV08_342953_1191290_jpg.rf.c69a5ba90ab0ae82b6d45fa9d9fa3180.jpg: 640x640 21 Solar_Panels, 8.7ms\n",
            "image 584/610 /content/yolov8/Solar_Panel-3/test/images/PV08_343180_1192088_jpg.rf.c5b5b92e7b78d9676ba09d645f1cb599.jpg: 640x640 70 Solar_Panels, 9.8ms\n",
            "image 585/610 /content/yolov8/Solar_Panel-3/test/images/PV08_344091_1199297_jpg.rf.8638952bffdf9572e73311795584f31a.jpg: 640x640 7 Solar_Panels, 9.1ms\n",
            "image 586/610 /content/yolov8/Solar_Panel-3/test/images/PV08_344239_1199386_jpg.rf.454a331af923f193d9b03066f3658415.jpg: 640x640 2 Solar_Panels, 9.2ms\n",
            "image 587/610 /content/yolov8/Solar_Panel-3/test/images/PV08_344239_1199475_jpg.rf.9c1af4be8314e65b74b3f12696556a46.jpg: 640x640 2 Solar_Panels, 8.9ms\n",
            "image 588/610 /content/yolov8/Solar_Panel-3/test/images/PV08_344394_1187175_jpg.rf.3b4890745fdde2bef29ad94fc0aaedd7.jpg: 640x640 7 Solar_Panels, 10.6ms\n",
            "image 589/610 /content/yolov8/Solar_Panel-3/test/images/PV08_344467_1187173_jpg.rf.91652a65a8e1eef5a2e3d30fd1825f5a.jpg: 640x640 2 Solar_Panels, 8.8ms\n",
            "image 590/610 /content/yolov8/Solar_Panel-3/test/images/PV08_346901_1164613_jpg.rf.9ea8f473f126a7c6810bbdfac7c6a751.jpg: 640x640 5 Solar_Panels, 8.9ms\n",
            "image 591/610 /content/yolov8/Solar_Panel-3/test/images/PV08_347972_1190969_jpg.rf.06e7b64649c2a4173b9f4924ad18c43b.jpg: 640x640 4 Solar_Panels, 8.7ms\n",
            "image 592/610 /content/yolov8/Solar_Panel-3/test/images/PV08_347973_1191148_jpg.rf.ba8333014aa7cf2835c7785ab9efb6ba.jpg: 640x640 8 Solar_Panels, 8.9ms\n",
            "image 593/610 /content/yolov8/Solar_Panel-3/test/images/PV08_348635_1168658_jpg.rf.6b2ef8fb54b868406064faa80d557026.jpg: 640x640 14 Solar_Panels, 8.7ms\n",
            "image 594/610 /content/yolov8/Solar_Panel-3/test/images/Washington_County_task11913_jpg.rf.0743b794e055d444bd7c56f9d382328f.jpg: 640x640 1 Solar_Panel, 9.7ms\n",
            "image 595/610 /content/yolov8/Solar_Panel-3/test/images/Washington_County_task14493_jpg.rf.18e46daf79bba5e1ca0fefd8f4e49f95.jpg: 640x640 1 Solar_Panel, 10.2ms\n",
            "image 596/610 /content/yolov8/Solar_Panel-3/test/images/Washington_County_task1530_jpg.rf.3fc486fd523a8e7daecdf647a6986696.jpg: 640x640 2 Solar_Panels, 8.7ms\n",
            "image 597/610 /content/yolov8/Solar_Panel-3/test/images/Washington_County_task16584_jpg.rf.7b373e182eeb77cafc28d01b7488141d.jpg: 640x640 1 Solar_Panel, 8.7ms\n",
            "image 598/610 /content/yolov8/Solar_Panel-3/test/images/Washington_County_task20273_jpg.rf.0c7bcef76ffa7eee7e93f741d69366d8.jpg: 640x640 2 Solar_Panels, 9.1ms\n",
            "image 599/610 /content/yolov8/Solar_Panel-3/test/images/Washington_County_task22483_jpg.rf.cdda7f1b7594399d2c52eb5bd768957d.jpg: 640x640 2 Solar_Panels, 13.9ms\n",
            "image 600/610 /content/yolov8/Solar_Panel-3/test/images/Washington_County_task26386_jpg.rf.40b94c61404d1e5210ada6c13acd8240.jpg: 640x640 2 Solar_Panels, 12.8ms\n",
            "image 601/610 /content/yolov8/Solar_Panel-3/test/images/Washington_County_task26646_jpg.rf.07bf06231caa666ac42272cecca6d7dd.jpg: 640x640 1 Solar_Panel, 8.8ms\n",
            "image 602/610 /content/yolov8/Solar_Panel-3/test/images/Washington_County_task28188_jpg.rf.27688635c382ad7f04ee5d71949eb782.jpg: 640x640 1 Solar_Panel, 8.5ms\n",
            "image 603/610 /content/yolov8/Solar_Panel-3/test/images/Washington_County_task28949_jpg.rf.f50db875c3612c88f2e4ff090018f74c.jpg: 640x640 1 Solar_Panel, 9.3ms\n",
            "image 604/610 /content/yolov8/Solar_Panel-3/test/images/Washington_County_task29404_jpg.rf.95eae168612f446eef2819948ac0cecc.jpg: 640x640 1 Solar_Panel, 9.1ms\n",
            "image 605/610 /content/yolov8/Solar_Panel-3/test/images/Washington_County_task31642_jpg.rf.2fac152f079877c84c80d0c0790857ae.jpg: 640x640 3 Solar_Panels, 9.1ms\n",
            "image 606/610 /content/yolov8/Solar_Panel-3/test/images/Washington_County_task32867_jpg.rf.8150da0430cc35efba15a28a9ebf200b.jpg: 640x640 1 Solar_Panel, 10.9ms\n",
            "image 607/610 /content/yolov8/Solar_Panel-3/test/images/Washington_County_task35025_jpg.rf.624523364e7e2a2f252eeebe066a3160.jpg: 640x640 1 Solar_Panel, 9.0ms\n",
            "image 608/610 /content/yolov8/Solar_Panel-3/test/images/Washington_County_task40463_jpg.rf.7cde2c7cf87286b5ac6acd418179b2ab.jpg: 640x640 2 Solar_Panels, 9.1ms\n",
            "image 609/610 /content/yolov8/Solar_Panel-3/test/images/Washington_County_task7176_jpg.rf.6025acb647a2bea3eee60f2fc2e6c7b3.jpg: 640x640 1 Solar_Panel, 8.9ms\n",
            "image 610/610 /content/yolov8/Solar_Panel-3/test/images/Washington_County_task9975_jpg.rf.bede8e346338ca27c12257e662b2275b.jpg: 640x640 1 Solar_Panel, 14.1ms\n",
            "Speed: 2.2ms preprocess, 7.7ms inference, 2.2ms postprocess per image at shape (1, 3, 640, 640)\n",
            "Results saved to \u001b[1mruns/segment/predict\u001b[0m\n"
          ]
        }
      ]
    }
  ]
}